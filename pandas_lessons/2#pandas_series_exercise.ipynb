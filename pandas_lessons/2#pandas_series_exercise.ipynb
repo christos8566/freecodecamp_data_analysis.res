{
  "nbformat": 4,
  "nbformat_minor": 0,
  "metadata": {
    "colab": {
      "provenance": [],
      "authorship_tag": "ABX9TyMydFT22CLT3L9wL79VXpNY",
      "include_colab_link": true
    },
    "kernelspec": {
      "name": "python3",
      "display_name": "Python 3"
    },
    "language_info": {
      "name": "python"
    }
  },
  "cells": [
    {
      "cell_type": "markdown",
      "metadata": {
        "id": "view-in-github",
        "colab_type": "text"
      },
      "source": [
        "<a href=\"https://colab.research.google.com/github/christos8566/freecodecamp_data_analysis.res/blob/main/pandas_lessons/pandas_series_exercise.ipynb\" target=\"_parent\"><img src=\"https://colab.research.google.com/assets/colab-badge.svg\" alt=\"Open In Colab\"/></a>"
      ]
    },
    {
      "cell_type": "markdown",
      "source": [
        "# **PANTAS SERIES EXERCISES**"
      ],
      "metadata": {
        "id": "FhNjywiBlOS9"
      }
    },
    {
      "cell_type": "markdown",
      "source": [
        "# A. Series creation\n"
      ],
      "metadata": {
        "id": "lx9i0jD2lv39"
      }
    },
    {
      "cell_type": "markdown",
      "source": [
        "## A1. Import libraries\n",
        "\n",
        "Import libraries of numpy and pandas"
      ],
      "metadata": {
        "id": "KsgqwFEZl6ME"
      }
    },
    {
      "cell_type": "code",
      "source": [
        "# import the numpy package under the name of np\n",
        "import numpy as np\n",
        "\n",
        "# import the pandas package under the name of pd\n",
        "import pandas as pd\n",
        "\n",
        "# print the pandas version and certifiguration\n",
        "print(pd.__version__)"
      ],
      "metadata": {
        "colab": {
          "base_uri": "https://localhost:8080/"
        },
        "id": "4Rv4pb_lmI6D",
        "outputId": "aa6a5dae-02ee-4a7f-d75b-2fa003421e0c"
      },
      "execution_count": 2,
      "outputs": [
        {
          "output_type": "stream",
          "name": "stdout",
          "text": [
            "1.5.3\n"
          ]
        }
      ]
    },
    {
      "cell_type": "markdown",
      "source": [
        "## A2. Create an empty pandas series"
      ],
      "metadata": {
        "id": "mE25lz7omi7D"
      }
    },
    {
      "cell_type": "code",
      "source": [
        "pd.Series()"
      ],
      "metadata": {
        "colab": {
          "base_uri": "https://localhost:8080/"
        },
        "id": "tCi6uDuDnTmy",
        "outputId": "54f68a58-87b1-4001-b671-0d6275321677"
      },
      "execution_count": 3,
      "outputs": [
        {
          "output_type": "stream",
          "name": "stderr",
          "text": [
            "<ipython-input-3-fa15c544da3b>:1: FutureWarning: The default dtype for empty Series will be 'object' instead of 'float64' in a future version. Specify a dtype explicitly to silence this warning.\n",
            "  pd.Series()\n"
          ]
        },
        {
          "output_type": "execute_result",
          "data": {
            "text/plain": [
              "Series([], dtype: float64)"
            ]
          },
          "metadata": {},
          "execution_count": 3
        }
      ]
    },
    {
      "cell_type": "markdown",
      "source": [
        "## A3. Given the X python list, convert it on a y pandas Series"
      ],
      "metadata": {
        "id": "mpSshE8KnsrJ"
      }
    },
    {
      "cell_type": "code",
      "source": [
        "X = ['A','B','C']\n",
        "print(X, type(X))\n",
        "\n",
        "Y = pd.Series(X)\n",
        "print(Y, type(Y))"
      ],
      "metadata": {
        "colab": {
          "base_uri": "https://localhost:8080/"
        },
        "id": "QGgGPfL3oFCg",
        "outputId": "dbf206af-a0de-4def-9779-90cce7b03233"
      },
      "execution_count": 4,
      "outputs": [
        {
          "output_type": "stream",
          "name": "stdout",
          "text": [
            "['A', 'B', 'C'] <class 'list'>\n",
            "0    A\n",
            "1    B\n",
            "2    C\n",
            "dtype: object <class 'pandas.core.series.Series'>\n"
          ]
        }
      ]
    },
    {
      "cell_type": "markdown",
      "source": [
        "## A4. Given the X pandas Series, name it 'My letters'\n"
      ],
      "metadata": {
        "id": "Z_klryaYocjs"
      }
    },
    {
      "cell_type": "code",
      "source": [
        "X = pd.Series(['A', 'B', 'C'])\n",
        "\n",
        "X.name = 'My letters'\n",
        "X"
      ],
      "metadata": {
        "colab": {
          "base_uri": "https://localhost:8080/"
        },
        "id": "Abxknnfuo5IS",
        "outputId": "fb3fe9b0-4cc8-4f7f-c760-043cda5ea3ce"
      },
      "execution_count": 5,
      "outputs": [
        {
          "output_type": "execute_result",
          "data": {
            "text/plain": [
              "0    A\n",
              "1    B\n",
              "2    C\n",
              "Name: My letters, dtype: object"
            ]
          },
          "metadata": {},
          "execution_count": 5
        }
      ]
    },
    {
      "cell_type": "markdown",
      "source": [
        "## A5. Given the X pandas series, show its values"
      ],
      "metadata": {
        "id": "a3Z_OXMMp4hZ"
      }
    },
    {
      "cell_type": "code",
      "source": [
        "X = pd.Series(['A', 'B', 'C'])\n",
        "\n",
        "X.values"
      ],
      "metadata": {
        "colab": {
          "base_uri": "https://localhost:8080/"
        },
        "id": "FgSrPsiNqJqz",
        "outputId": "2c75bea0-80ec-41e1-8eb1-fe1825e3f379"
      },
      "execution_count": 6,
      "outputs": [
        {
          "output_type": "execute_result",
          "data": {
            "text/plain": [
              "array(['A', 'B', 'C'], dtype=object)"
            ]
          },
          "metadata": {},
          "execution_count": 6
        }
      ]
    },
    {
      "cell_type": "markdown",
      "source": [
        "# B. Series Indexation"
      ],
      "metadata": {
        "id": "By5_B0Anqtv2"
      }
    },
    {
      "cell_type": "markdown",
      "source": [
        "## B1. Assign index names to the given X pandas Series"
      ],
      "metadata": {
        "id": "WNrPQsWLq5qA"
      }
    },
    {
      "cell_type": "code",
      "source": [
        "X = pd.Series(['A', 'B', 'C'])\n",
        "index_names = ['First', 'Second', 'Third']          # X.index = ['First', 'Second', 'Thrird']\n",
        "\n",
        "X.index = index_names\n",
        "X"
      ],
      "metadata": {
        "colab": {
          "base_uri": "https://localhost:8080/"
        },
        "id": "Qal3cSpurL6R",
        "outputId": "86ebfeef-6327-4a3f-fa02-ecaf0e8f1b76"
      },
      "execution_count": 7,
      "outputs": [
        {
          "output_type": "execute_result",
          "data": {
            "text/plain": [
              "First     A\n",
              "Second    B\n",
              "Third     C\n",
              "dtype: object"
            ]
          },
          "metadata": {},
          "execution_count": 7
        }
      ]
    },
    {
      "cell_type": "markdown",
      "source": [
        "## B2. Given the X pandas Series, show its first element\n"
      ],
      "metadata": {
        "id": "sYGb6ACHsylX"
      }
    },
    {
      "cell_type": "code",
      "source": [
        "X['First']  # X[0]  X.iloc[0]"
      ],
      "metadata": {
        "id": "gLpKX2BEZ7vJ",
        "outputId": "089c7bfd-b35e-4a86-e5c1-dd4f6edb3af9",
        "colab": {
          "base_uri": "https://localhost:8080/"
        }
      },
      "execution_count": 15,
      "outputs": [
        {
          "output_type": "execute_result",
          "data": {
            "text/plain": [
              "First     A\n",
              "Second    B\n",
              "dtype: object"
            ]
          },
          "metadata": {},
          "execution_count": 15
        }
      ]
    },
    {
      "cell_type": "markdown",
      "source": [
        "## B3. Given the X pandas Series, show its last element"
      ],
      "metadata": {
        "id": "F4Q7skIraayz"
      }
    },
    {
      "cell_type": "code",
      "source": [
        "#X['Third']   # by index\n",
        "#X[-1]        # by position\n",
        "X.iloc[-1]    # by position"
      ],
      "metadata": {
        "id": "dyUMylRzbjM5",
        "outputId": "42e2eb08-b9d9-4ea8-d9db-941866e45dbc",
        "colab": {
          "base_uri": "https://localhost:8080/",
          "height": 35
        }
      },
      "execution_count": 18,
      "outputs": [
        {
          "output_type": "execute_result",
          "data": {
            "text/plain": [
              "'C'"
            ],
            "application/vnd.google.colaboratory.intrinsic+json": {
              "type": "string"
            }
          },
          "metadata": {},
          "execution_count": 18
        }
      ]
    },
    {
      "cell_type": "markdown",
      "source": [
        "## B4. Given the X pandas Series, show all middle elements\n"
      ],
      "metadata": {
        "id": "m0sDW0D9b7Te"
      }
    },
    {
      "cell_type": "code",
      "source": [
        "X = pd.Series(['A', 'B', 'C', 'D', 'E'],\n",
        "              index = ['First', 'Second', 'Third', 'Forth', 'Fifth'])\n",
        "\n",
        "#X.iloc[1:-1]                # by position\n",
        "#X[1:-1]                     # by position\n",
        "X['Second' : 'Forth']        # by index"
      ],
      "metadata": {
        "id": "zRXGW-D0chBV",
        "outputId": "de2cc53e-5676-4e0a-f087-8d97ec6179da",
        "colab": {
          "base_uri": "https://localhost:8080/"
        }
      },
      "execution_count": 22,
      "outputs": [
        {
          "output_type": "execute_result",
          "data": {
            "text/plain": [
              "Second    B\n",
              "Third     C\n",
              "Forth     D\n",
              "dtype: object"
            ]
          },
          "metadata": {},
          "execution_count": 22
        }
      ]
    },
    {
      "cell_type": "markdown",
      "source": [
        "## B5 Given the X pandas Series, show the elements in reverse position\n"
      ],
      "metadata": {
        "id": "P_zqi6ukeLwk"
      }
    },
    {
      "cell_type": "code",
      "source": [
        "#X[::-1]\n",
        "#X.iloc[::-1]\n",
        "X.sort_values(ascending = False)"
      ],
      "metadata": {
        "id": "D_bByvuieVIb",
        "outputId": "f94740e1-0de1-4d60-9235-93f1616c4e27",
        "colab": {
          "base_uri": "https://localhost:8080/"
        }
      },
      "execution_count": 27,
      "outputs": [
        {
          "output_type": "execute_result",
          "data": {
            "text/plain": [
              "Fifth     E\n",
              "Forth     D\n",
              "Third     C\n",
              "Second    B\n",
              "First     A\n",
              "dtype: object"
            ]
          },
          "metadata": {},
          "execution_count": 27
        }
      ]
    },
    {
      "cell_type": "code",
      "source": [
        "#X.iloc[[0, -1]]              # by position\n",
        "#X[[0, -1]]                   # by position\n",
        "X[['First', 'Fifth']]         # by index"
      ],
      "metadata": {
        "id": "-EGoEIwnfRa7",
        "outputId": "aef939ab-7154-4336-a2c3-cfba34c45c5c",
        "colab": {
          "base_uri": "https://localhost:8080/"
        }
      },
      "execution_count": 34,
      "outputs": [
        {
          "output_type": "execute_result",
          "data": {
            "text/plain": [
              "First    A\n",
              "Fifth    E\n",
              "dtype: object"
            ]
          },
          "metadata": {},
          "execution_count": 34
        }
      ]
    },
    {
      "cell_type": "markdown",
      "source": [
        "# C. Series manipulation\n"
      ],
      "metadata": {
        "id": "O_JEFiiWgKpo"
      }
    },
    {
      "cell_type": "markdown",
      "source": [
        "## C1. Convert the given integer pandas Series to float\n"
      ],
      "metadata": {
        "id": "xULKphIdgRKh"
      }
    },
    {
      "cell_type": "code",
      "source": [
        "X = pd.Series([1, 2, 3, 4, 5],\n",
        "              index = ['First', 'Second', 'Third', 'Forth', 'Fifth']#, dype = float)\n",
        ")\n",
        "pd.Series(X, dtype = float)"
      ],
      "metadata": {
        "id": "RPZot9aOgaOI",
        "outputId": "4ebb5859-8d28-4533-d9e1-b59afc9d204c",
        "colab": {
          "base_uri": "https://localhost:8080/"
        }
      },
      "execution_count": 45,
      "outputs": [
        {
          "output_type": "execute_result",
          "data": {
            "text/plain": [
              "First     1.0\n",
              "Second    2.0\n",
              "Third     3.0\n",
              "Forth     4.0\n",
              "Fifth     5.0\n",
              "dtype: float64"
            ]
          },
          "metadata": {},
          "execution_count": 45
        }
      ]
    },
    {
      "cell_type": "markdown",
      "source": [
        "## C2. Reverse the given pandas Series (first element becomes last)\n"
      ],
      "metadata": {
        "id": "EmCumABDhAd8"
      }
    },
    {
      "cell_type": "code",
      "source": [
        "#X.iloc[::-1]\n",
        "#X[::-1]\n",
        "X.sort_values(ascending = False)"
      ],
      "metadata": {
        "id": "jGt4QE0Kjr2U",
        "outputId": "129a3ce0-7959-4ba5-bd10-c00829736c9c",
        "colab": {
          "base_uri": "https://localhost:8080/"
        }
      },
      "execution_count": 48,
      "outputs": [
        {
          "output_type": "execute_result",
          "data": {
            "text/plain": [
              "Fifth     5\n",
              "Forth     4\n",
              "Third     3\n",
              "Second    2\n",
              "First     1\n",
              "dtype: int64"
            ]
          },
          "metadata": {},
          "execution_count": 48
        }
      ]
    },
    {
      "cell_type": "markdown",
      "source": [
        "## C3. Order (sort) the given pandas Series\n"
      ],
      "metadata": {
        "id": "g-S1n_hkkHLE"
      }
    },
    {
      "cell_type": "code",
      "source": [
        "X = pd.Series([4,2,5,1,3],\n",
        "              index=['forth','second','fifth','first','third'])\n",
        "X = X.sort_values()\n",
        "X"
      ],
      "metadata": {
        "id": "vMZpmtUgkUxn",
        "outputId": "ed4264b2-6d89-4b08-a93b-38d0268578f0",
        "colab": {
          "base_uri": "https://localhost:8080/"
        }
      },
      "execution_count": 50,
      "outputs": [
        {
          "output_type": "execute_result",
          "data": {
            "text/plain": [
              "first     1\n",
              "second    2\n",
              "third     3\n",
              "forth     4\n",
              "fifth     5\n",
              "dtype: int64"
            ]
          },
          "metadata": {},
          "execution_count": 50
        }
      ]
    },
    {
      "cell_type": "markdown",
      "source": [
        "## C4. Given the X pandas Series, set the fifth element equal to 10"
      ],
      "metadata": {
        "id": "w5sf7D9Uk1da"
      }
    },
    {
      "cell_type": "code",
      "source": [
        "X[-1] = 10\n",
        "X"
      ],
      "metadata": {
        "id": "aQE_httRzFgm",
        "outputId": "cb981b7b-ff76-43b7-eadd-2bcae5235b4f",
        "colab": {
          "base_uri": "https://localhost:8080/"
        }
      },
      "execution_count": 51,
      "outputs": [
        {
          "output_type": "execute_result",
          "data": {
            "text/plain": [
              "first      1\n",
              "second     2\n",
              "third      3\n",
              "forth      4\n",
              "fifth     10\n",
              "dtype: int64"
            ]
          },
          "metadata": {},
          "execution_count": 51
        }
      ]
    },
    {
      "cell_type": "markdown",
      "source": [
        "## C5. Given the X pandas Series, change all the middle elements to 0\n"
      ],
      "metadata": {
        "id": "1jFch-aDzXjC"
      }
    },
    {
      "cell_type": "code",
      "source": [
        "X = pd.Series([1, 2, 3, 4, 5], index = ['First', 'Second', 'Third', 'Forth', 'Fifth'])\n",
        "X[1:-1] = 0\n",
        "X"
      ],
      "metadata": {
        "id": "meG7BWPdzi9E",
        "outputId": "9b55f127-d5cf-4020-b011-518420ed1e8b",
        "colab": {
          "base_uri": "https://localhost:8080/"
        }
      },
      "execution_count": 52,
      "outputs": [
        {
          "output_type": "execute_result",
          "data": {
            "text/plain": [
              "First     1\n",
              "Second    0\n",
              "Third     0\n",
              "Forth     0\n",
              "Fifth     5\n",
              "dtype: int64"
            ]
          },
          "metadata": {},
          "execution_count": 52
        }
      ]
    },
    {
      "cell_type": "markdown",
      "source": [
        "## C6. Given the X pandas Series, add 5 to every element\n"
      ],
      "metadata": {
        "id": "lqCLWVwU0Ien"
      }
    },
    {
      "cell_type": "code",
      "source": [
        "X = pd.Series([1, 2, 3, 4, 5], index = ['Firts', 'Second', 'Third', 'Fourth', 'Fifth'])\n",
        "X + 5"
      ],
      "metadata": {
        "id": "Z6fk6zjW0U8-",
        "outputId": "68ec13aa-299b-45d9-a5ff-0d0cf985b1a6",
        "colab": {
          "base_uri": "https://localhost:8080/"
        }
      },
      "execution_count": 53,
      "outputs": [
        {
          "output_type": "execute_result",
          "data": {
            "text/plain": [
              "Firts      6\n",
              "Second     7\n",
              "Third      8\n",
              "Fourth     9\n",
              "Fifth     10\n",
              "dtype: int64"
            ]
          },
          "metadata": {},
          "execution_count": 53
        }
      ]
    },
    {
      "cell_type": "markdown",
      "source": [
        "# D. Series boolean arrays (also called masks)\n",
        "\n"
      ],
      "metadata": {
        "id": "BfiZGYKO0qDR"
      }
    },
    {
      "cell_type": "markdown",
      "source": [
        "## D1. Given the X pandas Series, make a mask showing negative elements\n"
      ],
      "metadata": {
        "id": "mdFWvuMy0zxA"
      }
    },
    {
      "cell_type": "code",
      "source": [
        "X = pd.Series([-1,2,0,-4,5,6,0,0,-9,10])\n",
        "mask = X < 0\n",
        "mask"
      ],
      "metadata": {
        "id": "6X97A26J08-z",
        "outputId": "1b86bfb0-d52d-4125-c431-faebb4cad366",
        "colab": {
          "base_uri": "https://localhost:8080/"
        }
      },
      "execution_count": 56,
      "outputs": [
        {
          "output_type": "execute_result",
          "data": {
            "text/plain": [
              "0     True\n",
              "1    False\n",
              "2    False\n",
              "3     True\n",
              "4    False\n",
              "5    False\n",
              "6    False\n",
              "7    False\n",
              "8     True\n",
              "9    False\n",
              "dtype: bool"
            ]
          },
          "metadata": {},
          "execution_count": 56
        }
      ]
    },
    {
      "cell_type": "markdown",
      "source": [
        "## D2. Given the X pandas Series, get the negative elements\n"
      ],
      "metadata": {
        "id": "J3PTQzzw1W7v"
      }
    },
    {
      "cell_type": "code",
      "source": [
        "X = pd.Series([-1,2,0,-4,5,6,0,0,-9,10])\n",
        "mask = X < 0\n",
        "X[mask]               #X[X < 0]"
      ],
      "metadata": {
        "id": "wydVkA5S1qde",
        "outputId": "a827b448-53ee-4af8-f92f-5c8363c987bb",
        "colab": {
          "base_uri": "https://localhost:8080/"
        }
      },
      "execution_count": 57,
      "outputs": [
        {
          "output_type": "execute_result",
          "data": {
            "text/plain": [
              "0   -1\n",
              "3   -4\n",
              "8   -9\n",
              "dtype: int64"
            ]
          },
          "metadata": {},
          "execution_count": 57
        }
      ]
    },
    {
      "cell_type": "markdown",
      "source": [
        "## D3. Given the X pandas Series, get numbers higher than 5\n"
      ],
      "metadata": {
        "id": "48OLwM2K2KaU"
      }
    },
    {
      "cell_type": "code",
      "source": [
        "X = pd.Series([-1,2,0,-4,5,6,0,0,-9,10])\n",
        "mask = X > 5\n",
        "X[mask]"
      ],
      "metadata": {
        "id": "6nmAJ3zt2V7h",
        "outputId": "46248de8-4b14-4f9a-dd76-77b54fdfe30b",
        "colab": {
          "base_uri": "https://localhost:8080/"
        }
      },
      "execution_count": 58,
      "outputs": [
        {
          "output_type": "execute_result",
          "data": {
            "text/plain": [
              "5     6\n",
              "9    10\n",
              "dtype: int64"
            ]
          },
          "metadata": {},
          "execution_count": 58
        }
      ]
    },
    {
      "cell_type": "markdown",
      "source": [
        "## D4. Given the X pandas Series, get numbers higher than the elements mean\n"
      ],
      "metadata": {
        "id": "4ZwUrPzP2qWe"
      }
    },
    {
      "cell_type": "code",
      "source": [
        "X = pd.Series([-1,2,0,-4,5,6,0,0,-9,10])\n",
        "X.mean()"
      ],
      "metadata": {
        "id": "3PLuh_Jq3Cvy",
        "outputId": "4910ea14-d886-450c-8004-6358a285cd75",
        "colab": {
          "base_uri": "https://localhost:8080/"
        }
      },
      "execution_count": 60,
      "outputs": [
        {
          "output_type": "execute_result",
          "data": {
            "text/plain": [
              "0.9"
            ]
          },
          "metadata": {},
          "execution_count": 60
        }
      ]
    },
    {
      "cell_type": "code",
      "source": [
        "mask = X > X.mean()\n",
        "X[mask]"
      ],
      "metadata": {
        "id": "2ZHyFbgq2yd_",
        "outputId": "4231b551-85e7-4bc7-93fe-21646be3f95e",
        "colab": {
          "base_uri": "https://localhost:8080/"
        }
      },
      "execution_count": 59,
      "outputs": [
        {
          "output_type": "execute_result",
          "data": {
            "text/plain": [
              "1     2\n",
              "4     5\n",
              "5     6\n",
              "9    10\n",
              "dtype: int64"
            ]
          },
          "metadata": {},
          "execution_count": 59
        }
      ]
    },
    {
      "cell_type": "markdown",
      "source": [
        "## D5. Given the X pandas Series, get numbers equal to 2 or 10\n"
      ],
      "metadata": {
        "id": "-bG4OCav2-76"
      }
    },
    {
      "cell_type": "code",
      "source": [
        "X[(X == 2) | (X == 10)]"
      ],
      "metadata": {
        "id": "Y17TvhH13U06",
        "outputId": "c07bd936-8d6c-41de-a7e6-707444ea98dc",
        "colab": {
          "base_uri": "https://localhost:8080/"
        }
      },
      "execution_count": 61,
      "outputs": [
        {
          "output_type": "execute_result",
          "data": {
            "text/plain": [
              "1     2\n",
              "9    10\n",
              "dtype: int64"
            ]
          },
          "metadata": {},
          "execution_count": 61
        }
      ]
    },
    {
      "cell_type": "markdown",
      "source": [
        "# E. Logical function"
      ],
      "metadata": {
        "id": "t_0wKNmB3qxW"
      }
    },
    {
      "cell_type": "markdown",
      "source": [
        "## E1. Given the X pandas Series, return True if none of its elements is zero\n"
      ],
      "metadata": {
        "id": "ttr3T7UB33bp"
      }
    },
    {
      "cell_type": "code",
      "source": [
        "X = pd.Series([-1,2,0,-4,5,6,0,0,-9,10])\n",
        "X.all()"
      ],
      "metadata": {
        "id": "A8uhLC-R39j0",
        "outputId": "4324b85d-d629-4d46-e733-f21d55c577d5",
        "colab": {
          "base_uri": "https://localhost:8080/"
        }
      },
      "execution_count": 82,
      "outputs": [
        {
          "output_type": "execute_result",
          "data": {
            "text/plain": [
              "False"
            ]
          },
          "metadata": {},
          "execution_count": 82
        }
      ]
    },
    {
      "cell_type": "markdown",
      "source": [
        "## E2. Given the X pandas Series, return True if any of its elements is zero\n"
      ],
      "metadata": {
        "id": "X5H78CYg7Q56"
      }
    },
    {
      "cell_type": "code",
      "source": [
        "X.any()"
      ],
      "metadata": {
        "id": "JLUN_zaZ7XTT",
        "outputId": "4cd28820-a18a-495d-9484-263768a558a7",
        "colab": {
          "base_uri": "https://localhost:8080/"
        }
      },
      "execution_count": 84,
      "outputs": [
        {
          "output_type": "execute_result",
          "data": {
            "text/plain": [
              "True"
            ]
          },
          "metadata": {},
          "execution_count": 84
        }
      ]
    },
    {
      "cell_type": "markdown",
      "source": [
        "# F. Summary statistics"
      ],
      "metadata": {
        "id": "vF_wgkzf7dMv"
      }
    },
    {
      "cell_type": "markdown",
      "source": [
        "## F1. Given the X pandas Series, show the sum of its elements\n"
      ],
      "metadata": {
        "id": "vBcfeso27oA6"
      }
    },
    {
      "cell_type": "code",
      "source": [
        "X = pd.Series([3,5,6,7,2,3,4,9,4])\n",
        "#np.sum(X)\n",
        "X.sum()"
      ],
      "metadata": {
        "id": "uujfjncn7xCb",
        "outputId": "502ddcfb-bc11-4df7-bfb9-5884300f1018",
        "colab": {
          "base_uri": "https://localhost:8080/"
        }
      },
      "execution_count": 85,
      "outputs": [
        {
          "output_type": "execute_result",
          "data": {
            "text/plain": [
              "43"
            ]
          },
          "metadata": {},
          "execution_count": 85
        }
      ]
    },
    {
      "cell_type": "markdown",
      "source": [
        "## F2. Given the X pandas Series, show the mean value of its elements\n"
      ],
      "metadata": {
        "id": "JE1bnB9C78dY"
      }
    },
    {
      "cell_type": "code",
      "source": [
        "X = pd.Series([3,5,6,7,2,3,4,9,4])\n",
        "#np.mean(X)\n",
        "X.mean()"
      ],
      "metadata": {
        "id": "DT9kqRvE8Adp",
        "outputId": "84bd0c4e-d7d3-4355-e1dc-6ca261b1d70c",
        "colab": {
          "base_uri": "https://localhost:8080/"
        }
      },
      "execution_count": 88,
      "outputs": [
        {
          "output_type": "execute_result",
          "data": {
            "text/plain": [
              "4.777777777777778"
            ]
          },
          "metadata": {},
          "execution_count": 88
        }
      ]
    },
    {
      "cell_type": "markdown",
      "source": [
        "## F3. Given the X pandas Series, show the max value of its elements\n"
      ],
      "metadata": {
        "id": "fvUYMWSq8GFL"
      }
    },
    {
      "cell_type": "code",
      "source": [
        "X = pd.Series([3,5,6,7,2,3,4,9,4])\n",
        "#np.max(X)\n",
        "X.max()"
      ],
      "metadata": {
        "id": "_CX6J-mm8bOc",
        "outputId": "84ac9d5d-3e1c-4e82-c63f-e681032c2511",
        "colab": {
          "base_uri": "https://localhost:8080/"
        }
      },
      "execution_count": 90,
      "outputs": [
        {
          "output_type": "execute_result",
          "data": {
            "text/plain": [
              "9"
            ]
          },
          "metadata": {},
          "execution_count": 90
        }
      ]
    }
  ]
}
