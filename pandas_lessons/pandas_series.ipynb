{
  "nbformat": 4,
  "nbformat_minor": 0,
  "metadata": {
    "colab": {
      "provenance": [],
      "toc_visible": true,
      "authorship_tag": "ABX9TyNv0vQdvo9+BiCZEbtYRtN6",
      "include_colab_link": true
    },
    "kernelspec": {
      "name": "python3",
      "display_name": "Python 3"
    },
    "language_info": {
      "name": "python"
    }
  },
  "cells": [
    {
      "cell_type": "markdown",
      "metadata": {
        "id": "view-in-github",
        "colab_type": "text"
      },
      "source": [
        "<a href=\"https://colab.research.google.com/github/christos8566/freecodecamp_data_analysis.res/blob/main/pandas_lessons/pandas_series.ipynb\" target=\"_parent\"><img src=\"https://colab.research.google.com/assets/colab-badge.svg\" alt=\"Open In Colab\"/></a>"
      ]
    },
    {
      "cell_type": "markdown",
      "source": [
        "# **Pandas - Series**\n",
        "\n",
        "![image.png](data:image/png;base64,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)"
      ],
      "metadata": {
        "id": "C569FxE7wOgA"
      }
    },
    {
      "cell_type": "markdown",
      "source": [
        "## Import libraries"
      ],
      "metadata": {
        "id": "YSfagCbk1u0R"
      }
    },
    {
      "cell_type": "code",
      "source": [
        "import pandas as pd\n",
        "import numpy as np"
      ],
      "metadata": {
        "id": "36G3bf9p18Xo"
      },
      "execution_count": 1,
      "outputs": []
    },
    {
      "cell_type": "markdown",
      "source": [
        "\n",
        "\n",
        "## Create Series\n",
        "\n",
        "We'll start analyzing ***The Group of Seven***. Which is a political formed by *Canada*, *France*, *Germany*, *Italy*, *Japan*, the *United Kingdom* and the *United States*. We'll start by ***analyzing population***, and for that, we'll use a pandas.**Series object**."
      ],
      "metadata": {
        "id": "LCRVMS_A2COW"
      }
    },
    {
      "cell_type": "code",
      "source": [
        "# the population of the group of seven in the million\n",
        "g7pop = pd.Series([35.467, 63.951, 80.940, 60.665, 127.061, 64.511, 318.523])"
      ],
      "metadata": {
        "id": "zrVkUGzE3ssi"
      },
      "execution_count": 2,
      "outputs": []
    },
    {
      "cell_type": "code",
      "source": [
        "g7pop"
      ],
      "metadata": {
        "colab": {
          "base_uri": "https://localhost:8080/"
        },
        "id": "53fg27Ee4eBT",
        "outputId": "e0b7d5b4-0cdb-4d6b-91eb-69b23561f3a5"
      },
      "execution_count": 3,
      "outputs": [
        {
          "output_type": "execute_result",
          "data": {
            "text/plain": [
              "0     35.467\n",
              "1     63.951\n",
              "2     80.940\n",
              "3     60.665\n",
              "4    127.061\n",
              "5     64.511\n",
              "6    318.523\n",
              "dtype: float64"
            ]
          },
          "metadata": {},
          "execution_count": 3
        }
      ]
    },
    {
      "cell_type": "markdown",
      "source": [
        "### Give name in the series\n",
        "\n",
        "Someone might not know we're representing population in millions of inhabitants. Series can have a **name**, to better document the purpose of the Series:\n",
        "\n"
      ],
      "metadata": {
        "id": "1JZT1UcT4h_T"
      }
    },
    {
      "cell_type": "code",
      "source": [
        "g7pop.name = 'G7 population in millions'\n",
        "g7pop"
      ],
      "metadata": {
        "colab": {
          "base_uri": "https://localhost:8080/"
        },
        "id": "_-1aUv0X5b-b",
        "outputId": "9a93a30e-16f9-458a-c603-0aa12bfca1dc"
      },
      "execution_count": 4,
      "outputs": [
        {
          "output_type": "execute_result",
          "data": {
            "text/plain": [
              "0     35.467\n",
              "1     63.951\n",
              "2     80.940\n",
              "3     60.665\n",
              "4    127.061\n",
              "5     64.511\n",
              "6    318.523\n",
              "Name: G7 population in millions, dtype: float64"
            ]
          },
          "metadata": {},
          "execution_count": 4
        }
      ]
    },
    {
      "cell_type": "markdown",
      "source": [
        "## The type of the Series\n",
        "\n",
        "Series are pretty similar to numpy arrays:\n",
        "\n"
      ],
      "metadata": {
        "id": "NwnHDSvp58c7"
      }
    },
    {
      "cell_type": "markdown",
      "source": [
        "### look the dtype of the series"
      ],
      "metadata": {
        "id": "c6dFjwLE-Xbk"
      }
    },
    {
      "cell_type": "code",
      "source": [
        "g7pop.dtype"
      ],
      "metadata": {
        "colab": {
          "base_uri": "https://localhost:8080/"
        },
        "id": "g0RU8TUA6AUN",
        "outputId": "da3c8dd9-b511-4b17-9b39-3c54e22e8f65"
      },
      "execution_count": 5,
      "outputs": [
        {
          "output_type": "execute_result",
          "data": {
            "text/plain": [
              "dtype('float64')"
            ]
          },
          "metadata": {},
          "execution_count": 5
        }
      ]
    },
    {
      "cell_type": "code",
      "source": [
        "g7pop.values"
      ],
      "metadata": {
        "colab": {
          "base_uri": "https://localhost:8080/"
        },
        "id": "Vgu8idRj6Mz2",
        "outputId": "3c830961-f6a3-4c70-976a-2c35885aef9b"
      },
      "execution_count": 6,
      "outputs": [
        {
          "output_type": "execute_result",
          "data": {
            "text/plain": [
              "array([ 35.467,  63.951,  80.94 ,  60.665, 127.061,  64.511, 318.523])"
            ]
          },
          "metadata": {},
          "execution_count": 6
        }
      ]
    },
    {
      "cell_type": "markdown",
      "source": [
        "### look the type of the values"
      ],
      "metadata": {
        "id": "vSYNpLjO-uf9"
      }
    },
    {
      "cell_type": "markdown",
      "source": [
        "They're actually backed by numpy arrays:\n",
        "\n"
      ],
      "metadata": {
        "id": "BTPK91hd6Sqk"
      }
    },
    {
      "cell_type": "code",
      "source": [
        "type(g7pop.values)"
      ],
      "metadata": {
        "colab": {
          "base_uri": "https://localhost:8080/"
        },
        "id": "JClx0AJQ6iu2",
        "outputId": "0dd89efc-4a79-430d-b9ec-9d177bb90fa6"
      },
      "execution_count": 7,
      "outputs": [
        {
          "output_type": "execute_result",
          "data": {
            "text/plain": [
              "numpy.ndarray"
            ]
          },
          "metadata": {},
          "execution_count": 7
        }
      ]
    },
    {
      "cell_type": "markdown",
      "source": [
        "And they look like simple Python lists or Numpy Arrays. But they're actually more similar to Python dicts.\n",
        "\n",
        "A Series has an index, that's similar to the automatic index assigned to Python's lists:"
      ],
      "metadata": {
        "id": "vEASJ09v7BxK"
      }
    },
    {
      "cell_type": "markdown",
      "source": [
        "## Index of series"
      ],
      "metadata": {
        "id": "BYbj3UN68J-d"
      }
    },
    {
      "cell_type": "code",
      "source": [
        "g7pop"
      ],
      "metadata": {
        "colab": {
          "base_uri": "https://localhost:8080/"
        },
        "id": "7HDjM-zd7RMB",
        "outputId": "72a4aea2-fc1c-43e7-f801-48a5011accce"
      },
      "execution_count": 8,
      "outputs": [
        {
          "output_type": "execute_result",
          "data": {
            "text/plain": [
              "0     35.467\n",
              "1     63.951\n",
              "2     80.940\n",
              "3     60.665\n",
              "4    127.061\n",
              "5     64.511\n",
              "6    318.523\n",
              "Name: G7 population in millions, dtype: float64"
            ]
          },
          "metadata": {},
          "execution_count": 8
        }
      ]
    },
    {
      "cell_type": "code",
      "source": [
        "g7pop[0]"
      ],
      "metadata": {
        "colab": {
          "base_uri": "https://localhost:8080/"
        },
        "id": "iAbRMoTb7ckD",
        "outputId": "812ad4b7-48f4-4b6e-fa4f-f40571aa693d"
      },
      "execution_count": 9,
      "outputs": [
        {
          "output_type": "execute_result",
          "data": {
            "text/plain": [
              "35.467"
            ]
          },
          "metadata": {},
          "execution_count": 9
        }
      ]
    },
    {
      "cell_type": "code",
      "source": [
        "g7pop[1]"
      ],
      "metadata": {
        "colab": {
          "base_uri": "https://localhost:8080/"
        },
        "id": "OCjB2ffL7hYx",
        "outputId": "1579f383-9b23-4cd8-dd7d-5d2c42b73cab"
      },
      "execution_count": 10,
      "outputs": [
        {
          "output_type": "execute_result",
          "data": {
            "text/plain": [
              "63.951"
            ]
          },
          "metadata": {},
          "execution_count": 10
        }
      ]
    },
    {
      "cell_type": "code",
      "source": [
        "g7pop.index"
      ],
      "metadata": {
        "colab": {
          "base_uri": "https://localhost:8080/"
        },
        "id": "BC4pOE9K7kSu",
        "outputId": "e4154b5e-b27a-4f8b-cb72-46d242cfd2a0"
      },
      "execution_count": 11,
      "outputs": [
        {
          "output_type": "execute_result",
          "data": {
            "text/plain": [
              "RangeIndex(start=0, stop=7, step=1)"
            ]
          },
          "metadata": {},
          "execution_count": 11
        }
      ]
    },
    {
      "cell_type": "markdown",
      "source": [
        "#### define the index\n",
        "\n",
        "But, in contrast to lists, we can explicitly define the index:\n",
        "\n"
      ],
      "metadata": {
        "id": "YCVJuiyO71zZ"
      }
    },
    {
      "cell_type": "code",
      "source": [
        "g7pop.index =[\n",
        "     'Canada',\n",
        "     'France',\n",
        "     'Germany',\n",
        "     'Italy',\n",
        "     'Japan',\n",
        "     'United Kingdom',\n",
        "     'United State']\n",
        "g7pop"
      ],
      "metadata": {
        "colab": {
          "base_uri": "https://localhost:8080/"
        },
        "id": "V3WzJhZM88Rx",
        "outputId": "d3d2e89e-1243-4677-acf2-337337d04052"
      },
      "execution_count": 12,
      "outputs": [
        {
          "output_type": "execute_result",
          "data": {
            "text/plain": [
              "Canada             35.467\n",
              "France             63.951\n",
              "Germany            80.940\n",
              "Italy              60.665\n",
              "Japan             127.061\n",
              "United Kingdom     64.511\n",
              "United State      318.523\n",
              "Name: G7 population in millions, dtype: float64"
            ]
          },
          "metadata": {},
          "execution_count": 12
        }
      ]
    },
    {
      "cell_type": "markdown",
      "source": [
        "Compare it with the following table:\n",
        "\n",
        "![image.png](data:image/png;base64,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)\n",
        "\n",
        "We can say that Series look like \"ordered dictionaries\". We can actually create Series out of dictionaries:"
      ],
      "metadata": {
        "id": "lI2_eeuQ92UC"
      }
    },
    {
      "cell_type": "code",
      "source": [
        "pd.Series({\n",
        "    'Canada' : 35.467,\n",
        "    'France' : 63.951,\n",
        "    'Germany' : 80.94,\n",
        "    'Italy' : 60.665,\n",
        "    'Japan' : 127.061,\n",
        "    'United Kingdom' : 64.511,\n",
        "    'United State' : 318.523},\n",
        "          name = 'G7 Population in milllions')"
      ],
      "metadata": {
        "colab": {
          "base_uri": "https://localhost:8080/"
        },
        "id": "GrB3fkPBAHab",
        "outputId": "bfd99428-9232-4c57-a393-a34f0d7f31be"
      },
      "execution_count": 13,
      "outputs": [
        {
          "output_type": "execute_result",
          "data": {
            "text/plain": [
              "Canada             35.467\n",
              "France             63.951\n",
              "Germany            80.940\n",
              "Italy              60.665\n",
              "Japan             127.061\n",
              "United Kingdom     64.511\n",
              "United State      318.523\n",
              "Name: G7 Population in milllions, dtype: float64"
            ]
          },
          "metadata": {},
          "execution_count": 13
        }
      ]
    },
    {
      "cell_type": "code",
      "source": [
        "pd.Series(\n",
        "    [35.467, 63.951, 80.94, 60.665, 127.061, 64.511, 318.523],\n",
        "    index = ['Canada', 'France', 'Germany', 'Italy', 'Japan', 'United Kingdom', 'United State'],\n",
        "    name = 'G7 population in millions'\n",
        ")"
      ],
      "metadata": {
        "colab": {
          "base_uri": "https://localhost:8080/"
        },
        "id": "Dh1TgCxfCEhH",
        "outputId": "dfc9fecc-6521-4d29-fb44-00102f4846e0"
      },
      "execution_count": 14,
      "outputs": [
        {
          "output_type": "execute_result",
          "data": {
            "text/plain": [
              "Canada             35.467\n",
              "France             63.951\n",
              "Germany            80.940\n",
              "Italy              60.665\n",
              "Japan             127.061\n",
              "United Kingdom     64.511\n",
              "United State      318.523\n",
              "Name: G7 population in millions, dtype: float64"
            ]
          },
          "metadata": {},
          "execution_count": 14
        }
      ]
    },
    {
      "cell_type": "markdown",
      "source": [
        "You can also create Series out of other series, specifying indexes:"
      ],
      "metadata": {
        "id": "Q0viz9VmDvSH"
      }
    },
    {
      "cell_type": "code",
      "source": [
        "Y = pd.Series(g7pop, index = ['France', 'Germany', 'Italy', 'United kingdom']).copy()\n",
        "Y"
      ],
      "metadata": {
        "colab": {
          "base_uri": "https://localhost:8080/"
        },
        "id": "WF2kCZn0EMxW",
        "outputId": "f662c0b1-a578-44bc-cb0e-c84259c5645d"
      },
      "execution_count": 15,
      "outputs": [
        {
          "output_type": "execute_result",
          "data": {
            "text/plain": [
              "France            63.951\n",
              "Germany           80.940\n",
              "Italy             60.665\n",
              "United kingdom       NaN\n",
              "Name: G7 population in millions, dtype: float64"
            ]
          },
          "metadata": {},
          "execution_count": 15
        }
      ]
    },
    {
      "cell_type": "markdown",
      "source": [
        "## Indexing\n",
        "\n",
        "Indexing works similarly to lists and dictionaries, you use the index of the element you're looking for:"
      ],
      "metadata": {
        "id": "gbo0IUl-Ei6M"
      }
    },
    {
      "cell_type": "code",
      "source": [
        "g7pop"
      ],
      "metadata": {
        "colab": {
          "base_uri": "https://localhost:8080/"
        },
        "id": "16WkOlggJsRh",
        "outputId": "3db992af-fd12-45c5-c65a-46c9c46275be"
      },
      "execution_count": 16,
      "outputs": [
        {
          "output_type": "execute_result",
          "data": {
            "text/plain": [
              "Canada             35.467\n",
              "France             63.951\n",
              "Germany            80.940\n",
              "Italy              60.665\n",
              "Japan             127.061\n",
              "United Kingdom     64.511\n",
              "United State      318.523\n",
              "Name: G7 population in millions, dtype: float64"
            ]
          },
          "metadata": {},
          "execution_count": 16
        }
      ]
    },
    {
      "cell_type": "markdown",
      "source": [
        "### Indexing with the name of index"
      ],
      "metadata": {
        "id": "1bog2JwkKHc3"
      }
    },
    {
      "cell_type": "code",
      "source": [
        "g7pop['Canada']"
      ],
      "metadata": {
        "colab": {
          "base_uri": "https://localhost:8080/"
        },
        "id": "nDZID9koJ3_l",
        "outputId": "6ed0053f-e08b-4b98-ae10-e7952b8bb77d"
      },
      "execution_count": 17,
      "outputs": [
        {
          "output_type": "execute_result",
          "data": {
            "text/plain": [
              "35.467"
            ]
          },
          "metadata": {},
          "execution_count": 17
        }
      ]
    },
    {
      "cell_type": "markdown",
      "source": [
        "### Indexing with iloc\n",
        "\n",
        "Numeric positions can also be used, with the iloc attribute:\n"
      ],
      "metadata": {
        "id": "Aay4jFIZJ9Mn"
      }
    },
    {
      "cell_type": "code",
      "source": [
        "g7pop.iloc[0]"
      ],
      "metadata": {
        "colab": {
          "base_uri": "https://localhost:8080/"
        },
        "id": "Cu9ZkkR1Kh8w",
        "outputId": "7c557cca-7f8d-4b09-ee5d-a1dadc63b22e"
      },
      "execution_count": 18,
      "outputs": [
        {
          "output_type": "execute_result",
          "data": {
            "text/plain": [
              "35.467"
            ]
          },
          "metadata": {},
          "execution_count": 18
        }
      ]
    },
    {
      "cell_type": "code",
      "source": [
        "g7pop.iloc[-1]"
      ],
      "metadata": {
        "colab": {
          "base_uri": "https://localhost:8080/"
        },
        "id": "RCa7I1LhKw2N",
        "outputId": "6cac04b8-e65f-44b8-9418-6f4de4911fbb"
      },
      "execution_count": 19,
      "outputs": [
        {
          "output_type": "execute_result",
          "data": {
            "text/plain": [
              "318.523"
            ]
          },
          "metadata": {},
          "execution_count": 19
        }
      ]
    },
    {
      "cell_type": "code",
      "source": [
        "type(g7pop.iloc[-1])"
      ],
      "metadata": {
        "colab": {
          "base_uri": "https://localhost:8080/"
        },
        "id": "-mhwZe0-MuIx",
        "outputId": "73d084d7-0793-4a13-c2be-8b3782dc07e2"
      },
      "execution_count": 20,
      "outputs": [
        {
          "output_type": "execute_result",
          "data": {
            "text/plain": [
              "numpy.float64"
            ]
          },
          "metadata": {},
          "execution_count": 20
        }
      ]
    },
    {
      "cell_type": "markdown",
      "source": [
        "Selecting multiple elements at once:\n",
        "\n"
      ],
      "metadata": {
        "id": "5rP5Po90K5Vc"
      }
    },
    {
      "cell_type": "code",
      "source": [
        "g7pop.iloc[1:4]"
      ],
      "metadata": {
        "colab": {
          "base_uri": "https://localhost:8080/"
        },
        "id": "LiaKzP3BLA4P",
        "outputId": "8c0a1641-b058-427c-bfaf-0d07cc640e2a"
      },
      "execution_count": 21,
      "outputs": [
        {
          "output_type": "execute_result",
          "data": {
            "text/plain": [
              "France     63.951\n",
              "Germany    80.940\n",
              "Italy      60.665\n",
              "Name: G7 population in millions, dtype: float64"
            ]
          },
          "metadata": {},
          "execution_count": 21
        }
      ]
    },
    {
      "cell_type": "code",
      "source": [
        "type(g7pop.iloc[1:4].values)"
      ],
      "metadata": {
        "colab": {
          "base_uri": "https://localhost:8080/"
        },
        "id": "lq4Dx0ogLUp-",
        "outputId": "0ede5ee3-a182-4625-9e4a-fb4494f1d1a0"
      },
      "execution_count": 22,
      "outputs": [
        {
          "output_type": "execute_result",
          "data": {
            "text/plain": [
              "numpy.ndarray"
            ]
          },
          "metadata": {},
          "execution_count": 22
        }
      ]
    },
    {
      "cell_type": "code",
      "source": [
        "g7pop[['Canada', 'United State']]"
      ],
      "metadata": {
        "colab": {
          "base_uri": "https://localhost:8080/"
        },
        "id": "dpJaaVblLzaa",
        "outputId": "6dfc996b-4cb4-41ca-d53a-4121712dda32"
      },
      "execution_count": 23,
      "outputs": [
        {
          "output_type": "execute_result",
          "data": {
            "text/plain": [
              "Canada           35.467\n",
              "United State    318.523\n",
              "Name: G7 population in millions, dtype: float64"
            ]
          },
          "metadata": {},
          "execution_count": 23
        }
      ]
    },
    {
      "cell_type": "code",
      "source": [
        "g7pop.iloc[[1, 2, 3, -2]]"
      ],
      "metadata": {
        "colab": {
          "base_uri": "https://localhost:8080/"
        },
        "id": "F5TWXqz4L1IR",
        "outputId": "071acc16-3381-4555-de1a-545de5f0e81a"
      },
      "execution_count": 24,
      "outputs": [
        {
          "output_type": "execute_result",
          "data": {
            "text/plain": [
              "France            63.951\n",
              "Germany           80.940\n",
              "Italy             60.665\n",
              "United Kingdom    64.511\n",
              "Name: G7 population in millions, dtype: float64"
            ]
          },
          "metadata": {},
          "execution_count": 24
        }
      ]
    },
    {
      "cell_type": "markdown",
      "source": [
        "Slicing also works, but important, in Pandas, the upper limit is also included:"
      ],
      "metadata": {
        "id": "52NaHocAOkCI"
      }
    },
    {
      "cell_type": "code",
      "source": [
        "g7pop['France' : 'Italy']"
      ],
      "metadata": {
        "colab": {
          "base_uri": "https://localhost:8080/"
        },
        "id": "6lUilkyRO0M-",
        "outputId": "50ba71a7-5e4d-4ba0-c0e3-83c931a34498"
      },
      "execution_count": 25,
      "outputs": [
        {
          "output_type": "execute_result",
          "data": {
            "text/plain": [
              "France     63.951\n",
              "Germany    80.940\n",
              "Italy      60.665\n",
              "Name: G7 population in millions, dtype: float64"
            ]
          },
          "metadata": {},
          "execution_count": 25
        }
      ]
    },
    {
      "cell_type": "markdown",
      "source": [
        "## Conditional selection (boolean arrays)\n",
        "\n",
        "The same boolean array techniques we saw applied to numpy arrays can be used for Pandas Series:\n",
        "\n"
      ],
      "metadata": {
        "id": "X8wmFVSTPRd-"
      }
    },
    {
      "cell_type": "code",
      "source": [
        "g7pop.mean().round(3)"
      ],
      "metadata": {
        "colab": {
          "base_uri": "https://localhost:8080/"
        },
        "id": "APT_wAgMUYqz",
        "outputId": "7546ec9b-3388-424b-e1aa-7f6cbaf235d8"
      },
      "execution_count": 26,
      "outputs": [
        {
          "output_type": "execute_result",
          "data": {
            "text/plain": [
              "107.303"
            ]
          },
          "metadata": {},
          "execution_count": 26
        }
      ]
    },
    {
      "cell_type": "code",
      "source": [
        "g7pop"
      ],
      "metadata": {
        "colab": {
          "base_uri": "https://localhost:8080/"
        },
        "id": "F-qpk_xvPYxf",
        "outputId": "257a4c3a-6a4f-4387-8c8c-4bab3cb5a87a"
      },
      "execution_count": 27,
      "outputs": [
        {
          "output_type": "execute_result",
          "data": {
            "text/plain": [
              "Canada             35.467\n",
              "France             63.951\n",
              "Germany            80.940\n",
              "Italy              60.665\n",
              "Japan             127.061\n",
              "United Kingdom     64.511\n",
              "United State      318.523\n",
              "Name: G7 population in millions, dtype: float64"
            ]
          },
          "metadata": {},
          "execution_count": 27
        }
      ]
    },
    {
      "cell_type": "code",
      "source": [
        "g7pop > g7pop.mean()"
      ],
      "metadata": {
        "colab": {
          "base_uri": "https://localhost:8080/"
        },
        "id": "3XeWB6MvTk_g",
        "outputId": "c0ae4b41-34f1-42a2-debc-7cc14e8b6e24"
      },
      "execution_count": 28,
      "outputs": [
        {
          "output_type": "execute_result",
          "data": {
            "text/plain": [
              "Canada            False\n",
              "France            False\n",
              "Germany           False\n",
              "Italy             False\n",
              "Japan              True\n",
              "United Kingdom    False\n",
              "United State       True\n",
              "Name: G7 population in millions, dtype: bool"
            ]
          },
          "metadata": {},
          "execution_count": 28
        }
      ]
    },
    {
      "cell_type": "code",
      "source": [
        "g7pop[g7pop > g7pop.mean()]"
      ],
      "metadata": {
        "colab": {
          "base_uri": "https://localhost:8080/"
        },
        "id": "c9eoSDMuT-Hw",
        "outputId": "e41353ae-1233-4afb-b9f4-c528c58ff262"
      },
      "execution_count": 29,
      "outputs": [
        {
          "output_type": "execute_result",
          "data": {
            "text/plain": [
              "Japan           127.061\n",
              "United State    318.523\n",
              "Name: G7 population in millions, dtype: float64"
            ]
          },
          "metadata": {},
          "execution_count": 29
        }
      ]
    },
    {
      "cell_type": "code",
      "source": [
        "g7pop.std().round(3)"
      ],
      "metadata": {
        "colab": {
          "base_uri": "https://localhost:8080/"
        },
        "id": "-PxxonJyUPFn",
        "outputId": "d286a2c6-f6ed-4848-84b9-3e3681486936"
      },
      "execution_count": 30,
      "outputs": [
        {
          "output_type": "execute_result",
          "data": {
            "text/plain": [
              "97.25"
            ]
          },
          "metadata": {},
          "execution_count": 30
        }
      ]
    },
    {
      "cell_type": "code",
      "source": [
        "#~ not\n",
        "#| or\n",
        "#& and"
      ],
      "metadata": {
        "id": "wFe--wyuVK6f"
      },
      "execution_count": 31,
      "outputs": []
    },
    {
      "cell_type": "code",
      "source": [
        "g7pop[(g7pop > (g7pop.mean() - g7pop.std() / 2))| (g7pop > (g7pop.mean() + g7pop.std()) /2)]"
      ],
      "metadata": {
        "colab": {
          "base_uri": "https://localhost:8080/"
        },
        "id": "LV8cbZUZVPdy",
        "outputId": "253486b7-3645-454f-ff44-6efd6554b7a4"
      },
      "execution_count": 32,
      "outputs": [
        {
          "output_type": "execute_result",
          "data": {
            "text/plain": [
              "France             63.951\n",
              "Germany            80.940\n",
              "Italy              60.665\n",
              "Japan             127.061\n",
              "United Kingdom     64.511\n",
              "United State      318.523\n",
              "Name: G7 population in millions, dtype: float64"
            ]
          },
          "metadata": {},
          "execution_count": 32
        }
      ]
    },
    {
      "cell_type": "markdown",
      "source": [
        "# Operations and Methods\n",
        "\n",
        "Series also support vectorized operations and aggregation functions as Numpy:\n",
        "\n"
      ],
      "metadata": {
        "id": "tMFbggVoZ02y"
      }
    },
    {
      "cell_type": "code",
      "source": [
        "g7pop"
      ],
      "metadata": {
        "id": "_uAa_pmpaCXk",
        "outputId": "18f6824d-5f6a-4dc2-d2b7-409ab660a78d",
        "colab": {
          "base_uri": "https://localhost:8080/"
        }
      },
      "execution_count": 34,
      "outputs": [
        {
          "output_type": "execute_result",
          "data": {
            "text/plain": [
              "Canada             35.467\n",
              "France             63.951\n",
              "Germany            80.940\n",
              "Italy              60.665\n",
              "Japan             127.061\n",
              "United Kingdom     64.511\n",
              "United State      318.523\n",
              "Name: G7 population in millions, dtype: float64"
            ]
          },
          "metadata": {},
          "execution_count": 34
        }
      ]
    },
    {
      "cell_type": "code",
      "source": [
        "g7pop * 1_000_000"
      ],
      "metadata": {
        "id": "7UBtw35maOP0",
        "outputId": "ed1e2652-c9dc-431d-b31d-44966345e685",
        "colab": {
          "base_uri": "https://localhost:8080/"
        }
      },
      "execution_count": 35,
      "outputs": [
        {
          "output_type": "execute_result",
          "data": {
            "text/plain": [
              "Canada             35467000.0\n",
              "France             63951000.0\n",
              "Germany            80940000.0\n",
              "Italy              60665000.0\n",
              "Japan             127061000.0\n",
              "United Kingdom     64511000.0\n",
              "United State      318523000.0\n",
              "Name: G7 population in millions, dtype: float64"
            ]
          },
          "metadata": {},
          "execution_count": 35
        }
      ]
    },
    {
      "cell_type": "code",
      "source": [
        "g7pop.mean()"
      ],
      "metadata": {
        "id": "Iu7bnsC2aXzI",
        "outputId": "8a8d17f3-b48d-4242-871e-5554aecc9fba",
        "colab": {
          "base_uri": "https://localhost:8080/"
        }
      },
      "execution_count": 36,
      "outputs": [
        {
          "output_type": "execute_result",
          "data": {
            "text/plain": [
              "107.30257142857144"
            ]
          },
          "metadata": {},
          "execution_count": 36
        }
      ]
    },
    {
      "cell_type": "code",
      "source": [
        "np.log(g7pop)"
      ],
      "metadata": {
        "id": "1mRQlX-aacvr",
        "outputId": "ef845e75-71c0-45a6-841e-523079d2c4d9",
        "colab": {
          "base_uri": "https://localhost:8080/"
        }
      },
      "execution_count": 37,
      "outputs": [
        {
          "output_type": "execute_result",
          "data": {
            "text/plain": [
              "Canada            3.568603\n",
              "France            4.158117\n",
              "Germany           4.393708\n",
              "Italy             4.105367\n",
              "Japan             4.844667\n",
              "United Kingdom    4.166836\n",
              "United State      5.763695\n",
              "Name: G7 population in millions, dtype: float64"
            ]
          },
          "metadata": {},
          "execution_count": 37
        }
      ]
    },
    {
      "cell_type": "code",
      "source": [
        "g7pop ['France' : 'Italy'].mean()"
      ],
      "metadata": {
        "id": "b6VJ4dlsakJI",
        "outputId": "b21f9ff6-2bbc-45d9-e2eb-3aac87d07ee4",
        "colab": {
          "base_uri": "https://localhost:8080/"
        }
      },
      "execution_count": 38,
      "outputs": [
        {
          "output_type": "execute_result",
          "data": {
            "text/plain": [
              "68.51866666666666"
            ]
          },
          "metadata": {},
          "execution_count": 38
        }
      ]
    },
    {
      "cell_type": "markdown",
      "source": [
        "## Boolean Arrays\n",
        "\n",
        "Work with the same way as numpy\n"
      ],
      "metadata": {
        "id": "iPnfyVDRcQOu"
      }
    },
    {
      "cell_type": "code",
      "source": [
        "g7pop"
      ],
      "metadata": {
        "id": "K9m1vtA7cfsQ",
        "outputId": "91e6a4a8-62c3-4ef7-84c6-d7bd539634e8",
        "colab": {
          "base_uri": "https://localhost:8080/"
        }
      },
      "execution_count": 39,
      "outputs": [
        {
          "output_type": "execute_result",
          "data": {
            "text/plain": [
              "Canada             35.467\n",
              "France             63.951\n",
              "Germany            80.940\n",
              "Italy              60.665\n",
              "Japan             127.061\n",
              "United Kingdom     64.511\n",
              "United State      318.523\n",
              "Name: G7 population in millions, dtype: float64"
            ]
          },
          "metadata": {},
          "execution_count": 39
        }
      ]
    },
    {
      "cell_type": "code",
      "source": [
        "g7pop > 80"
      ],
      "metadata": {
        "id": "1y7rqeswciHk",
        "outputId": "3c7dc7d0-3ed2-4c70-9864-c54bb9477131",
        "colab": {
          "base_uri": "https://localhost:8080/"
        }
      },
      "execution_count": 40,
      "outputs": [
        {
          "output_type": "execute_result",
          "data": {
            "text/plain": [
              "Canada            False\n",
              "France            False\n",
              "Germany            True\n",
              "Italy             False\n",
              "Japan              True\n",
              "United Kingdom    False\n",
              "United State       True\n",
              "Name: G7 population in millions, dtype: bool"
            ]
          },
          "metadata": {},
          "execution_count": 40
        }
      ]
    },
    {
      "cell_type": "code",
      "source": [
        "g7pop[g7pop > 80]"
      ],
      "metadata": {
        "id": "7KHoMEZWcuSG",
        "outputId": "f4afaf0d-a37c-4ac7-ba5a-51ff76df0cb6",
        "colab": {
          "base_uri": "https://localhost:8080/"
        }
      },
      "execution_count": 41,
      "outputs": [
        {
          "output_type": "execute_result",
          "data": {
            "text/plain": [
              "Germany          80.940\n",
              "Japan           127.061\n",
              "United State    318.523\n",
              "Name: G7 population in millions, dtype: float64"
            ]
          },
          "metadata": {},
          "execution_count": 41
        }
      ]
    },
    {
      "cell_type": "code",
      "source": [
        "g7pop[(g7pop > 80) | (g7pop < 40)][::-1]"
      ],
      "metadata": {
        "id": "6-f1qF8yc17Y",
        "outputId": "44449474-169e-444c-a9cd-6ee0ccc791a4",
        "colab": {
          "base_uri": "https://localhost:8080/"
        }
      },
      "execution_count": 43,
      "outputs": [
        {
          "output_type": "execute_result",
          "data": {
            "text/plain": [
              "United State    318.523\n",
              "Japan           127.061\n",
              "Germany          80.940\n",
              "Canada           35.467\n",
              "Name: G7 population in millions, dtype: float64"
            ]
          },
          "metadata": {},
          "execution_count": 43
        }
      ]
    },
    {
      "cell_type": "code",
      "source": [
        "g7pop[(g7pop > 80) & (g7pop < 200)][::-1]"
      ],
      "metadata": {
        "id": "J1lAB8w2dH7I",
        "outputId": "87348c06-6eb6-4865-f839-bc92cb8a8f7e",
        "colab": {
          "base_uri": "https://localhost:8080/"
        }
      },
      "execution_count": 44,
      "outputs": [
        {
          "output_type": "execute_result",
          "data": {
            "text/plain": [
              "Japan      127.061\n",
              "Germany     80.940\n",
              "Name: G7 population in millions, dtype: float64"
            ]
          },
          "metadata": {},
          "execution_count": 44
        }
      ]
    },
    {
      "cell_type": "markdown",
      "source": [
        "## Modified series"
      ],
      "metadata": {
        "id": "E8lyI8VmdpZ6"
      }
    },
    {
      "cell_type": "code",
      "source": [
        "g7pop['Canada'] = 40.5\n",
        "g7pop"
      ],
      "metadata": {
        "id": "oFetGNAsd3BL",
        "outputId": "82a29168-6e68-4e55-ab43-483e96d6af77",
        "colab": {
          "base_uri": "https://localhost:8080/"
        }
      },
      "execution_count": 46,
      "outputs": [
        {
          "output_type": "execute_result",
          "data": {
            "text/plain": [
              "Canada             40.500\n",
              "France             63.951\n",
              "Germany            80.940\n",
              "Italy              60.665\n",
              "Japan             127.061\n",
              "United Kingdom     64.511\n",
              "United State      318.523\n",
              "Name: G7 population in millions, dtype: float64"
            ]
          },
          "metadata": {},
          "execution_count": 46
        }
      ]
    },
    {
      "cell_type": "code",
      "source": [
        "g7pop.iloc[-1] = 500\n",
        "g7pop"
      ],
      "metadata": {
        "id": "wpbyzqfBd-Eg",
        "outputId": "8486bdb4-674f-4a76-9c90-d58b09057598",
        "colab": {
          "base_uri": "https://localhost:8080/"
        }
      },
      "execution_count": 47,
      "outputs": [
        {
          "output_type": "execute_result",
          "data": {
            "text/plain": [
              "Canada             40.500\n",
              "France             63.951\n",
              "Germany            80.940\n",
              "Italy              60.665\n",
              "Japan             127.061\n",
              "United Kingdom     64.511\n",
              "United State      500.000\n",
              "Name: G7 population in millions, dtype: float64"
            ]
          },
          "metadata": {},
          "execution_count": 47
        }
      ]
    },
    {
      "cell_type": "code",
      "source": [
        "g7pop[g7pop > 70]"
      ],
      "metadata": {
        "id": "Ib-IlPm1eNd6",
        "outputId": "5ca25c93-b61f-45c5-9626-6b3ec9ec476f",
        "colab": {
          "base_uri": "https://localhost:8080/"
        }
      },
      "execution_count": 48,
      "outputs": [
        {
          "output_type": "execute_result",
          "data": {
            "text/plain": [
              "Germany          80.940\n",
              "Japan           127.061\n",
              "United State    500.000\n",
              "Name: G7 population in millions, dtype: float64"
            ]
          },
          "metadata": {},
          "execution_count": 48
        }
      ]
    },
    {
      "cell_type": "code",
      "source": [
        "g7pop[g7pop > 70] = 90\n",
        "g7pop"
      ],
      "metadata": {
        "id": "NljwK6XdeWJA",
        "outputId": "ffaff92d-143d-4851-e082-170556d39369",
        "colab": {
          "base_uri": "https://localhost:8080/"
        }
      },
      "execution_count": 50,
      "outputs": [
        {
          "output_type": "execute_result",
          "data": {
            "text/plain": [
              "Canada            40.500\n",
              "France            63.951\n",
              "Germany           90.000\n",
              "Italy             60.665\n",
              "Japan             90.000\n",
              "United Kingdom    64.511\n",
              "United State      90.000\n",
              "Name: G7 population in millions, dtype: float64"
            ]
          },
          "metadata": {},
          "execution_count": 50
        }
      ]
    }
  ]
}