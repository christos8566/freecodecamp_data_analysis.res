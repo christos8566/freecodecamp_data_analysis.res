{
  "nbformat": 4,
  "nbformat_minor": 0,
  "metadata": {
    "colab": {
      "provenance": [],
      "authorship_tag": "ABX9TyNvF1AZ6/FjoKpHDg7bs8on",
      "include_colab_link": true
    },
    "kernelspec": {
      "name": "python3",
      "display_name": "Python 3"
    },
    "language_info": {
      "name": "python"
    }
  },
  "cells": [
    {
      "cell_type": "markdown",
      "metadata": {
        "id": "view-in-github",
        "colab_type": "text"
      },
      "source": [
        "<a href=\"https://colab.research.google.com/github/christos8566/freecodecamp_data_analysis.res/blob/main/numpy_intro_lesson/numpy_exercise.ipynb\" target=\"_parent\"><img src=\"https://colab.research.google.com/assets/colab-badge.svg\" alt=\"Open In Colab\"/></a>"
      ]
    },
    {
      "cell_type": "markdown",
      "source": [
        "# Numpy Exercise"
      ],
      "metadata": {
        "id": "ceI-NSen7TG3"
      }
    },
    {
      "cell_type": "code",
      "source": [
        "# import the library of numpy\n",
        "import numpy as np\n",
        "\n",
        "# print the numpy version and configuration\n",
        "print(np.__version__)"
      ],
      "metadata": {
        "colab": {
          "base_uri": "https://localhost:8080/"
        },
        "id": "iZL4mT7R8AHe",
        "outputId": "f70d8140-8e11-4d30-d9b3-3aa9456a0808"
      },
      "execution_count": 2,
      "outputs": [
        {
          "output_type": "stream",
          "name": "stdout",
          "text": [
            "1.25.2\n"
          ]
        }
      ]
    },
    {
      "cell_type": "markdown",
      "source": [
        "## Array Creation\n",
        "\n",
        "### Create a numpy array of size 10, filled with zeros."
      ],
      "metadata": {
        "id": "1NpXszqd8p3T"
      }
    },
    {
      "cell_type": "code",
      "source": [
        "np.zeros(10)"
      ],
      "metadata": {
        "colab": {
          "base_uri": "https://localhost:8080/"
        },
        "id": "1Aoo01j182mV",
        "outputId": "6004a862-2b48-4c54-9e9b-5bd896be4327"
      },
      "execution_count": 3,
      "outputs": [
        {
          "output_type": "execute_result",
          "data": {
            "text/plain": [
              "array([0., 0., 0., 0., 0., 0., 0., 0., 0., 0.])"
            ]
          },
          "metadata": {},
          "execution_count": 3
        }
      ]
    },
    {
      "cell_type": "markdown",
      "source": [
        "### Create a numpy array with values ranging from 10 to 49"
      ],
      "metadata": {
        "id": "t-UKBYfW9O-O"
      }
    },
    {
      "cell_type": "code",
      "source": [
        "np.arange(10, 50)"
      ],
      "metadata": {
        "colab": {
          "base_uri": "https://localhost:8080/"
        },
        "id": "yC9qDtVB9STI",
        "outputId": "5bc5ec6c-bc92-4c28-e433-415811a44875"
      },
      "execution_count": 4,
      "outputs": [
        {
          "output_type": "execute_result",
          "data": {
            "text/plain": [
              "array([10, 11, 12, 13, 14, 15, 16, 17, 18, 19, 20, 21, 22, 23, 24, 25, 26,\n",
              "       27, 28, 29, 30, 31, 32, 33, 34, 35, 36, 37, 38, 39, 40, 41, 42, 43,\n",
              "       44, 45, 46, 47, 48, 49])"
            ]
          },
          "metadata": {},
          "execution_count": 4
        }
      ]
    },
    {
      "cell_type": "markdown",
      "source": [
        "### Create a numpy matrix of 2*2 integers, filled with ones."
      ],
      "metadata": {
        "id": "n93RJCSP9kpX"
      }
    },
    {
      "cell_type": "code",
      "source": [
        "np.ones([2, 2], dtype = int)"
      ],
      "metadata": {
        "colab": {
          "base_uri": "https://localhost:8080/"
        },
        "id": "V2YcOlJH9nU-",
        "outputId": "da8391a4-680d-48dd-af78-99ca33806968"
      },
      "execution_count": 5,
      "outputs": [
        {
          "output_type": "execute_result",
          "data": {
            "text/plain": [
              "array([[1, 1],\n",
              "       [1, 1]])"
            ]
          },
          "metadata": {},
          "execution_count": 5
        }
      ]
    },
    {
      "cell_type": "markdown",
      "source": [
        "### Create a numpy matrix of 3*2 float numbers, filled with ones."
      ],
      "metadata": {
        "id": "A88KLoK19-fd"
      }
    },
    {
      "cell_type": "code",
      "source": [
        "np.ones([3, 2], dtype = float)"
      ],
      "metadata": {
        "colab": {
          "base_uri": "https://localhost:8080/"
        },
        "id": "Z_pD-O0T-IKb",
        "outputId": "c363c439-3c50-4e44-fc41-1c0e37364d8a"
      },
      "execution_count": 6,
      "outputs": [
        {
          "output_type": "execute_result",
          "data": {
            "text/plain": [
              "array([[1., 1.],\n",
              "       [1., 1.],\n",
              "       [1., 1.]])"
            ]
          },
          "metadata": {},
          "execution_count": 6
        }
      ]
    },
    {
      "cell_type": "markdown",
      "source": [
        "### Given the X numpy array, create a new numpy array with the same shape and type as X, filled with ones."
      ],
      "metadata": {
        "id": "CjM0czpp-TYv"
      }
    },
    {
      "cell_type": "code",
      "source": [
        "#np.ones([4], dtype = int)\n",
        "#alternative way to do it with the ones_like()\n",
        "X = np.arange(4, dtype = int)\n",
        "\n",
        "np.ones_like(X)"
      ],
      "metadata": {
        "colab": {
          "base_uri": "https://localhost:8080/"
        },
        "id": "I1PPn2bz-bNh",
        "outputId": "15ba3038-c539-456e-c4df-57911a5304a2"
      },
      "execution_count": 7,
      "outputs": [
        {
          "output_type": "execute_result",
          "data": {
            "text/plain": [
              "array([1, 1, 1, 1])"
            ]
          },
          "metadata": {},
          "execution_count": 7
        }
      ]
    },
    {
      "cell_type": "markdown",
      "source": [
        "### Given the X numpy matrix, create a new numpy matrix with the same shape and type as X, filled with zeros."
      ],
      "metadata": {
        "id": "9-DhcSWEAAuC"
      }
    },
    {
      "cell_type": "code",
      "source": [
        "np.zeros_like(X)"
      ],
      "metadata": {
        "colab": {
          "base_uri": "https://localhost:8080/"
        },
        "id": "FIHKp6QDAmHZ",
        "outputId": "242c5096-880d-4d73-caf1-45c5c2c85775"
      },
      "execution_count": 8,
      "outputs": [
        {
          "output_type": "execute_result",
          "data": {
            "text/plain": [
              "array([0, 0, 0, 0])"
            ]
          },
          "metadata": {},
          "execution_count": 8
        }
      ]
    },
    {
      "cell_type": "markdown",
      "source": [
        "### Create a numpy matrix of 4*4 integers, filled with fives.\n"
      ],
      "metadata": {
        "id": "xLlBHwmjAvwi"
      }
    },
    {
      "cell_type": "code",
      "source": [
        "np.ones([4, 4], dtype = int) * 5"
      ],
      "metadata": {
        "colab": {
          "base_uri": "https://localhost:8080/"
        },
        "id": "f_kfkUTyBGjp",
        "outputId": "71224ee2-1aa5-4e24-803c-d6b9e63b8109"
      },
      "execution_count": 9,
      "outputs": [
        {
          "output_type": "execute_result",
          "data": {
            "text/plain": [
              "array([[5, 5, 5, 5],\n",
              "       [5, 5, 5, 5],\n",
              "       [5, 5, 5, 5],\n",
              "       [5, 5, 5, 5]])"
            ]
          },
          "metadata": {},
          "execution_count": 9
        }
      ]
    },
    {
      "cell_type": "markdown",
      "source": [
        "### Given the X numpy matrix, create a new numpy matrix with the same shape and type as X, filled with sevens.\n"
      ],
      "metadata": {
        "id": "gxgze21ACTH5"
      }
    },
    {
      "cell_type": "code",
      "source": [
        "X = np.array([[2, 3], [6, 2]], dtype = int)\n",
        "np.ones_like(X) * 7"
      ],
      "metadata": {
        "colab": {
          "base_uri": "https://localhost:8080/"
        },
        "id": "AA_13plDCZVh",
        "outputId": "948361c1-f025-4cf2-e8fd-4570fcf1c99c"
      },
      "execution_count": 10,
      "outputs": [
        {
          "output_type": "execute_result",
          "data": {
            "text/plain": [
              "array([[7, 7],\n",
              "       [7, 7]])"
            ]
          },
          "metadata": {},
          "execution_count": 10
        }
      ]
    },
    {
      "cell_type": "markdown",
      "source": [
        "### Create a 3*3 identity numpy matrix with ones on the diagonal and zeros elsewhere."
      ],
      "metadata": {
        "id": "WtwEqBfAEI-o"
      }
    },
    {
      "cell_type": "code",
      "source": [
        "#np.eye(3)\n",
        "np.identity(3)"
      ],
      "metadata": {
        "colab": {
          "base_uri": "https://localhost:8080/"
        },
        "id": "AZSZBWOIEQPf",
        "outputId": "d43192fc-50dd-4cca-bf1e-dc1ccc58b0e0"
      },
      "execution_count": 11,
      "outputs": [
        {
          "output_type": "execute_result",
          "data": {
            "text/plain": [
              "array([[1., 0., 0.],\n",
              "       [0., 1., 0.],\n",
              "       [0., 0., 1.]])"
            ]
          },
          "metadata": {},
          "execution_count": 11
        }
      ]
    },
    {
      "cell_type": "markdown",
      "source": [
        "### Create a numpy array, filled with 3 random integer values between 1 and 10"
      ],
      "metadata": {
        "id": "hxaznHscFVex"
      }
    },
    {
      "cell_type": "code",
      "source": [
        "#np.random.random_integers(0, 10, size = 3)\n",
        "np.random.randint(10, size = 3)"
      ],
      "metadata": {
        "colab": {
          "base_uri": "https://localhost:8080/"
        },
        "id": "rY6Kwj-DFlPb",
        "outputId": "d9ff0600-0ed5-423f-9f75-f7a807500f96"
      },
      "execution_count": 12,
      "outputs": [
        {
          "output_type": "execute_result",
          "data": {
            "text/plain": [
              "array([9, 8, 4])"
            ]
          },
          "metadata": {},
          "execution_count": 12
        }
      ]
    },
    {
      "cell_type": "markdown",
      "source": [
        "### Create a 3*3*3 numpy matrix, filled with random float values.\n"
      ],
      "metadata": {
        "id": "rW3z_tVHG96v"
      }
    },
    {
      "cell_type": "code",
      "source": [
        "np.random.randn(3,3,3)\n",
        "#np.random.rand(3,3,3)"
      ],
      "metadata": {
        "colab": {
          "base_uri": "https://localhost:8080/"
        },
        "id": "0F42JGvgHIO7",
        "outputId": "a01b6c9d-3167-4559-8bb5-15f3763a9ccb"
      },
      "execution_count": 13,
      "outputs": [
        {
          "output_type": "execute_result",
          "data": {
            "text/plain": [
              "array([[[-0.02143122,  1.7918699 , -0.62088011],\n",
              "        [-0.12360742,  0.62724613,  2.28679457],\n",
              "        [-1.14041352, -0.73208033,  0.74182057]],\n",
              "\n",
              "       [[-0.35607797,  1.46812818, -0.49715417],\n",
              "        [ 0.11585315,  0.58418352,  0.07633074],\n",
              "        [-0.46457965,  1.90330584, -1.3217291 ]],\n",
              "\n",
              "       [[-1.87944179,  0.44343336,  0.08212756],\n",
              "        [-0.7284659 ,  0.09503947, -1.91954025],\n",
              "        [ 0.77582761, -0.36123817, -0.95427159]]])"
            ]
          },
          "metadata": {},
          "execution_count": 13
        }
      ]
    },
    {
      "cell_type": "markdown",
      "source": [
        "### Given the X python list convert it to an Y numpy array"
      ],
      "metadata": {
        "id": "L347wmA0I78a"
      }
    },
    {
      "cell_type": "code",
      "source": [
        "X = [1, 2, 3]\n",
        "print(X, type(X))"
      ],
      "metadata": {
        "colab": {
          "base_uri": "https://localhost:8080/"
        },
        "id": "O0xUuRgdJCEf",
        "outputId": "5ed2638e-e2b8-4e23-f579-02fec289a408"
      },
      "execution_count": 14,
      "outputs": [
        {
          "output_type": "stream",
          "name": "stdout",
          "text": [
            "[1, 2, 3] <class 'list'>\n"
          ]
        }
      ]
    },
    {
      "cell_type": "code",
      "source": [
        "Y = np.array(X)\n",
        "print(Y, type(Y))"
      ],
      "metadata": {
        "colab": {
          "base_uri": "https://localhost:8080/"
        },
        "id": "-JbW5egVJNc_",
        "outputId": "72e0ac7a-9b58-49b5-b2db-9bda0494ec36"
      },
      "execution_count": 15,
      "outputs": [
        {
          "output_type": "stream",
          "name": "stdout",
          "text": [
            "[1 2 3] <class 'numpy.ndarray'>\n"
          ]
        }
      ]
    },
    {
      "cell_type": "markdown",
      "source": [
        "### Given the X numpy array, make a copy and store it on Y."
      ],
      "metadata": {
        "id": "Nq-sgl5SJ-kj"
      }
    },
    {
      "cell_type": "code",
      "source": [
        "X = np.array([5,2,3], dtype=int)\n",
        "print(X, id(X))"
      ],
      "metadata": {
        "colab": {
          "base_uri": "https://localhost:8080/"
        },
        "id": "XfZvGgF9KHt8",
        "outputId": "0b130c64-3987-4c52-8637-8486cea3dd73"
      },
      "execution_count": 16,
      "outputs": [
        {
          "output_type": "stream",
          "name": "stdout",
          "text": [
            "[5 2 3] 140235917607248\n"
          ]
        }
      ]
    },
    {
      "cell_type": "code",
      "source": [
        "Y = np.copy(X)\n",
        "print(Y, id(Y))"
      ],
      "metadata": {
        "colab": {
          "base_uri": "https://localhost:8080/"
        },
        "id": "ZyteXuqfKNt6",
        "outputId": "d733158c-def8-42e7-ef03-446ae3926723"
      },
      "execution_count": 17,
      "outputs": [
        {
          "output_type": "stream",
          "name": "stdout",
          "text": [
            "[5 2 3] 140235917607632\n"
          ]
        }
      ]
    },
    {
      "cell_type": "markdown",
      "source": [
        "### Create a numpy array with numbers from 1 to 10\n"
      ],
      "metadata": {
        "id": "MWBjtJmgAGUJ"
      }
    },
    {
      "cell_type": "code",
      "source": [
        "np.arange(1, 11)"
      ],
      "metadata": {
        "id": "v0lLNSYTAMi0",
        "outputId": "288ca426-9b44-4807-8620-93c6a6cdf4b7",
        "colab": {
          "base_uri": "https://localhost:8080/"
        }
      },
      "execution_count": 18,
      "outputs": [
        {
          "output_type": "execute_result",
          "data": {
            "text/plain": [
              "array([ 1,  2,  3,  4,  5,  6,  7,  8,  9, 10])"
            ]
          },
          "metadata": {},
          "execution_count": 18
        }
      ]
    },
    {
      "cell_type": "markdown",
      "source": [
        "### Create a numpy array with the odd numbers between 1 to 10\n",
        "\n",
        "\n",
        "\n"
      ],
      "metadata": {
        "id": "DeOdQuOOAuVF"
      }
    },
    {
      "cell_type": "code",
      "source": [
        "np.arange(1, 11, 2)"
      ],
      "metadata": {
        "id": "rBEkYgJPAxZm",
        "outputId": "49762541-1a4c-4b82-8a16-81f83527b2a9",
        "colab": {
          "base_uri": "https://localhost:8080/"
        }
      },
      "execution_count": 19,
      "outputs": [
        {
          "output_type": "execute_result",
          "data": {
            "text/plain": [
              "array([1, 3, 5, 7, 9])"
            ]
          },
          "metadata": {},
          "execution_count": 19
        }
      ]
    },
    {
      "cell_type": "markdown",
      "source": [
        "### Create a numpy array with numbers from 1 to 10, in descending order.\n"
      ],
      "metadata": {
        "id": "K669bG9oBSov"
      }
    },
    {
      "cell_type": "code",
      "source": [
        "np.arange(1, 11)[::-1]"
      ],
      "metadata": {
        "id": "w4hxbS4EBYk8",
        "outputId": "949514e9-4290-49fc-be4c-05ffe438afe6",
        "colab": {
          "base_uri": "https://localhost:8080/"
        }
      },
      "execution_count": 20,
      "outputs": [
        {
          "output_type": "execute_result",
          "data": {
            "text/plain": [
              "array([10,  9,  8,  7,  6,  5,  4,  3,  2,  1])"
            ]
          },
          "metadata": {},
          "execution_count": 20
        }
      ]
    },
    {
      "cell_type": "markdown",
      "source": [
        "### Create a 3*3 numpy matrix, filled with values ranging from 0 to 8\n"
      ],
      "metadata": {
        "id": "xDZsxF10EPgs"
      }
    },
    {
      "cell_type": "code",
      "source": [
        "np.arange(9).reshape([3, 3])"
      ],
      "metadata": {
        "id": "Kf3tWN5HEU5b",
        "outputId": "c36e43a5-1667-41ae-ff80-044e9ea2c12b",
        "colab": {
          "base_uri": "https://localhost:8080/"
        }
      },
      "execution_count": 21,
      "outputs": [
        {
          "output_type": "execute_result",
          "data": {
            "text/plain": [
              "array([[0, 1, 2],\n",
              "       [3, 4, 5],\n",
              "       [6, 7, 8]])"
            ]
          },
          "metadata": {},
          "execution_count": 21
        }
      ]
    },
    {
      "cell_type": "markdown",
      "source": [
        "### Show the memory size of the given Z numpy matrix"
      ],
      "metadata": {
        "id": "-n87NcCfE9g0"
      }
    },
    {
      "cell_type": "code",
      "source": [
        "Z = np.zeros((10,10))\n",
        "\n",
        "print(\"%d bytes\" % (Z.size * Z.itemsize))"
      ],
      "metadata": {
        "id": "GhukcnI-FCAa",
        "outputId": "160f342b-bb73-4c4d-bd45-e2e0b6813901",
        "colab": {
          "base_uri": "https://localhost:8080/"
        }
      },
      "execution_count": 22,
      "outputs": [
        {
          "output_type": "stream",
          "name": "stdout",
          "text": [
            "800 bytes\n"
          ]
        }
      ]
    },
    {
      "cell_type": "markdown",
      "source": [
        "## Array indexation\n",
        "\n",
        "### Given the X numpy array, show it's first element"
      ],
      "metadata": {
        "id": "Ca-jIeJbFTHS"
      }
    },
    {
      "cell_type": "code",
      "source": [
        "X = np.array(['A', 'B', 'C', 'D', 'E'])\n",
        "X[0]"
      ],
      "metadata": {
        "id": "z2Hg8u4SFZYi",
        "outputId": "2c9983a9-0c4a-40c3-e6c0-c8c9e71767cf",
        "colab": {
          "base_uri": "https://localhost:8080/",
          "height": 35
        }
      },
      "execution_count": 23,
      "outputs": [
        {
          "output_type": "execute_result",
          "data": {
            "text/plain": [
              "'A'"
            ],
            "application/vnd.google.colaboratory.intrinsic+json": {
              "type": "string"
            }
          },
          "metadata": {},
          "execution_count": 23
        }
      ]
    },
    {
      "cell_type": "markdown",
      "source": [
        "### Given the X numpy array, show it's last element"
      ],
      "metadata": {
        "id": "jdlIC9rgF4or"
      }
    },
    {
      "cell_type": "code",
      "source": [
        "X[-1]"
      ],
      "metadata": {
        "id": "JLOTe7zCGB2N",
        "outputId": "665b66f5-86ad-4dc0-881d-9c565fcc9af7",
        "colab": {
          "base_uri": "https://localhost:8080/",
          "height": 35
        }
      },
      "execution_count": 24,
      "outputs": [
        {
          "output_type": "execute_result",
          "data": {
            "text/plain": [
              "'E'"
            ],
            "application/vnd.google.colaboratory.intrinsic+json": {
              "type": "string"
            }
          },
          "metadata": {},
          "execution_count": 24
        }
      ]
    },
    {
      "cell_type": "markdown",
      "source": [
        "### Given the X numpy array, show it's first three elements\n"
      ],
      "metadata": {
        "id": "gCNuz807GH1w"
      }
    },
    {
      "cell_type": "code",
      "source": [
        "X[0:3]"
      ],
      "metadata": {
        "id": "nChEFnvvGNfA",
        "outputId": "e4e6dbb1-d111-43cb-ec5d-b01b4488652f",
        "colab": {
          "base_uri": "https://localhost:8080/"
        }
      },
      "execution_count": 25,
      "outputs": [
        {
          "output_type": "execute_result",
          "data": {
            "text/plain": [
              "array(['A', 'B', 'C'], dtype='<U1')"
            ]
          },
          "metadata": {},
          "execution_count": 25
        }
      ]
    },
    {
      "cell_type": "markdown",
      "source": [
        "### Given the X numpy array, show all middle elements\n"
      ],
      "metadata": {
        "id": "-uU8IFZMGRPI"
      }
    },
    {
      "cell_type": "code",
      "source": [
        "X[1:-1]"
      ],
      "metadata": {
        "id": "PjfCzuk8GZaO",
        "outputId": "33a859e4-859b-4638-d6fa-d122239f60c1",
        "colab": {
          "base_uri": "https://localhost:8080/"
        }
      },
      "execution_count": 26,
      "outputs": [
        {
          "output_type": "execute_result",
          "data": {
            "text/plain": [
              "array(['B', 'C', 'D'], dtype='<U1')"
            ]
          },
          "metadata": {},
          "execution_count": 26
        }
      ]
    },
    {
      "cell_type": "markdown",
      "source": [
        "### Given the X numpy array, show the elements in reverse position\n"
      ],
      "metadata": {
        "id": "mFV7VVPDGpWW"
      }
    },
    {
      "cell_type": "code",
      "source": [
        "X[::-1]"
      ],
      "metadata": {
        "id": "MR_qDO16GtuH",
        "outputId": "3416b57f-d2cb-421e-d6fe-7ccd1c3dffb9",
        "colab": {
          "base_uri": "https://localhost:8080/"
        }
      },
      "execution_count": 27,
      "outputs": [
        {
          "output_type": "execute_result",
          "data": {
            "text/plain": [
              "array(['E', 'D', 'C', 'B', 'A'], dtype='<U1')"
            ]
          },
          "metadata": {},
          "execution_count": 27
        }
      ]
    },
    {
      "cell_type": "markdown",
      "source": [
        "### Given the X numpy array, show the elements in an odd position\n"
      ],
      "metadata": {
        "id": "t4bG79uDG1XZ"
      }
    },
    {
      "cell_type": "code",
      "source": [
        "X[::2]"
      ],
      "metadata": {
        "id": "NngtPNbrHl_s",
        "outputId": "8a35f0c2-39d1-4b01-ee7e-9afe18e70faf",
        "colab": {
          "base_uri": "https://localhost:8080/"
        }
      },
      "execution_count": 28,
      "outputs": [
        {
          "output_type": "execute_result",
          "data": {
            "text/plain": [
              "array(['A', 'C', 'E'], dtype='<U1')"
            ]
          },
          "metadata": {},
          "execution_count": 28
        }
      ]
    },
    {
      "cell_type": "markdown",
      "source": [
        "### Given the X numpy matrix, show the first row elements\n"
      ],
      "metadata": {
        "id": "HIC4aopSH5gq"
      }
    },
    {
      "cell_type": "code",
      "source": [
        "X = np.array([\n",
        "    [1,   2,  3,  4],          #X = np.arange(1, 17).reshape(4, 4)\n",
        "    [5,   6,  7,  8],\n",
        "    [9,  10, 11, 12],\n",
        "    [13, 14, 15, 16]\n",
        "])\n",
        "\n",
        "X[0]"
      ],
      "metadata": {
        "id": "10e6-4IDIWoZ",
        "outputId": "6e7ba6b4-bd5b-40d9-9eca-d48f141470cb",
        "colab": {
          "base_uri": "https://localhost:8080/"
        }
      },
      "execution_count": 29,
      "outputs": [
        {
          "output_type": "execute_result",
          "data": {
            "text/plain": [
              "array([1, 2, 3, 4])"
            ]
          },
          "metadata": {},
          "execution_count": 29
        }
      ]
    },
    {
      "cell_type": "markdown",
      "source": [
        "### Given the X numpy matrix, show the last row elements\n"
      ],
      "metadata": {
        "id": "ynnfC5CyIn8k"
      }
    },
    {
      "cell_type": "code",
      "source": [
        "X[-1]"
      ],
      "metadata": {
        "id": "d75A0Y52IttZ",
        "outputId": "83ba94fd-b03d-4f4f-802a-16c0dbd13649",
        "colab": {
          "base_uri": "https://localhost:8080/"
        }
      },
      "execution_count": 30,
      "outputs": [
        {
          "output_type": "execute_result",
          "data": {
            "text/plain": [
              "array([13, 14, 15, 16])"
            ]
          },
          "metadata": {},
          "execution_count": 30
        }
      ]
    },
    {
      "cell_type": "markdown",
      "source": [
        "### Given the X numpy matrix, show the first element on first row"
      ],
      "metadata": {
        "id": "Q7nh4_YCIxIu"
      }
    },
    {
      "cell_type": "code",
      "source": [
        "X[0, 0]"
      ],
      "metadata": {
        "id": "fN2MOZyFJ708",
        "outputId": "111a1056-2c47-45a2-807e-fec6def79512",
        "colab": {
          "base_uri": "https://localhost:8080/"
        }
      },
      "execution_count": 31,
      "outputs": [
        {
          "output_type": "execute_result",
          "data": {
            "text/plain": [
              "1"
            ]
          },
          "metadata": {},
          "execution_count": 31
        }
      ]
    },
    {
      "cell_type": "code",
      "source": [
        "X[-1, -1]"
      ],
      "metadata": {
        "id": "tC5Z-q4IKMz4",
        "outputId": "9e3cf48d-f5cb-4998-c30f-2e42809dc612",
        "colab": {
          "base_uri": "https://localhost:8080/"
        }
      },
      "execution_count": 32,
      "outputs": [
        {
          "output_type": "execute_result",
          "data": {
            "text/plain": [
              "16"
            ]
          },
          "metadata": {},
          "execution_count": 32
        }
      ]
    },
    {
      "cell_type": "markdown",
      "source": [
        "### Given the X numpy matrix, show the middle row elements\n"
      ],
      "metadata": {
        "id": "CDT-yAHfKWv8"
      }
    },
    {
      "cell_type": "code",
      "source": [
        "X[1:3, 1:3]     #X[1:-1, 1:-1]"
      ],
      "metadata": {
        "id": "V_zOe96CKgqm",
        "outputId": "d4bfe098-7533-4c40-e4c5-5b87b800ea33",
        "colab": {
          "base_uri": "https://localhost:8080/"
        }
      },
      "execution_count": 33,
      "outputs": [
        {
          "output_type": "execute_result",
          "data": {
            "text/plain": [
              "array([[ 6,  7],\n",
              "       [10, 11]])"
            ]
          },
          "metadata": {},
          "execution_count": 33
        }
      ]
    },
    {
      "cell_type": "markdown",
      "source": [
        "### Given the X numpy matrix, show the first two elements on the first two rows"
      ],
      "metadata": {
        "id": "WThLACj6LU1g"
      }
    },
    {
      "cell_type": "code",
      "source": [
        "X[:2, :2]"
      ],
      "metadata": {
        "id": "1AwtrwhzLbLE",
        "outputId": "c79ec183-5828-42b6-c006-78456bd9cfbf",
        "colab": {
          "base_uri": "https://localhost:8080/"
        }
      },
      "execution_count": 34,
      "outputs": [
        {
          "output_type": "execute_result",
          "data": {
            "text/plain": [
              "array([[1, 2],\n",
              "       [5, 6]])"
            ]
          },
          "metadata": {},
          "execution_count": 34
        }
      ]
    },
    {
      "cell_type": "markdown",
      "source": [
        "### Given the X numpy matrix, show the last two elements on the last two rows"
      ],
      "metadata": {
        "id": "0k9HobahLuFp"
      }
    },
    {
      "cell_type": "code",
      "source": [
        "X[-2:, -2:]"
      ],
      "metadata": {
        "id": "-1yw6-0jL0vw",
        "outputId": "cf57659f-f5fd-4635-e0e0-0fb3c72845a8",
        "colab": {
          "base_uri": "https://localhost:8080/"
        }
      },
      "execution_count": 35,
      "outputs": [
        {
          "output_type": "execute_result",
          "data": {
            "text/plain": [
              "array([[11, 12],\n",
              "       [15, 16]])"
            ]
          },
          "metadata": {},
          "execution_count": 35
        }
      ]
    },
    {
      "cell_type": "markdown",
      "source": [
        "## Array manipulation\n",
        "\n",
        "### Convert the given integer numpy array to float\n"
      ],
      "metadata": {
        "id": "mkwxVb27MEPy"
      }
    },
    {
      "cell_type": "code",
      "source": [
        "X = [-5, -3, 0, 10, 40]\n",
        "\n",
        "np.array(X, dtype = float)"
      ],
      "metadata": {
        "id": "9QpEYvm6MVEX",
        "outputId": "762d2ae0-1514-4836-ff29-26225037161b",
        "colab": {
          "base_uri": "https://localhost:8080/"
        }
      },
      "execution_count": 39,
      "outputs": [
        {
          "output_type": "execute_result",
          "data": {
            "text/plain": [
              "array([-5., -3.,  0., 10., 40.])"
            ]
          },
          "metadata": {},
          "execution_count": 39
        }
      ]
    },
    {
      "cell_type": "markdown",
      "source": [
        "### Reverse the given numpy array (first element becomes last)\n"
      ],
      "metadata": {
        "id": "o9JRNGQwkEBt"
      }
    },
    {
      "cell_type": "code",
      "source": [
        "X = [-5, -3, 0, 10, -40]\n",
        "\n",
        "X[::-1]"
      ],
      "metadata": {
        "id": "XUz5N9G7kNjd",
        "outputId": "631d59d3-9ad6-4787-9a06-033248df1966",
        "colab": {
          "base_uri": "https://localhost:8080/"
        }
      },
      "execution_count": 43,
      "outputs": [
        {
          "output_type": "execute_result",
          "data": {
            "text/plain": [
              "[-40, 10, 0, -3, -5]"
            ]
          },
          "metadata": {},
          "execution_count": 43
        }
      ]
    },
    {
      "cell_type": "markdown",
      "source": [
        "### Order (sort) the given numpy array\n"
      ],
      "metadata": {
        "id": "oymg3yGCk6XX"
      }
    },
    {
      "cell_type": "code",
      "source": [
        "X = [-5, -3, 0, 10, -40]\n",
        "\n",
        "X.sort()\n",
        "X"
      ],
      "metadata": {
        "id": "wf33aAjUk8lp",
        "outputId": "7c6cd05b-f749-4191-bce1-ff9588d8f80d",
        "colab": {
          "base_uri": "https://localhost:8080/"
        }
      },
      "execution_count": 51,
      "outputs": [
        {
          "output_type": "execute_result",
          "data": {
            "text/plain": [
              "[-40, -5, -3, 0, 10]"
            ]
          },
          "metadata": {},
          "execution_count": 51
        }
      ]
    },
    {
      "cell_type": "markdown",
      "source": [
        "### Given the X numpy array, set the fifth element equal to 1"
      ],
      "metadata": {
        "id": "uiYM-i8Ml-Ek"
      }
    },
    {
      "cell_type": "code",
      "source": [
        "X[-1] = 1\n",
        "X"
      ],
      "metadata": {
        "id": "ticpp0Ntlfus",
        "outputId": "96f32a59-4e09-44e8-c68f-9c5932877023",
        "colab": {
          "base_uri": "https://localhost:8080/"
        }
      },
      "execution_count": 52,
      "outputs": [
        {
          "output_type": "execute_result",
          "data": {
            "text/plain": [
              "[-40, -5, -3, 0, 1]"
            ]
          },
          "metadata": {},
          "execution_count": 52
        }
      ]
    },
    {
      "cell_type": "markdown",
      "source": [
        "### Given the X numpy array, change the 50 with a 40\n"
      ],
      "metadata": {
        "id": "KULVg8Y_mapi"
      }
    },
    {
      "cell_type": "code",
      "source": [
        "X = np.array([10, 20, 30, 50])\n",
        "\n",
        "X[-1] = 40\n",
        "X"
      ],
      "metadata": {
        "id": "dmyErfxtmnmM",
        "outputId": "adfa4c1a-4d35-48ec-fc14-c92534bdbc77",
        "colab": {
          "base_uri": "https://localhost:8080/"
        }
      },
      "execution_count": 53,
      "outputs": [
        {
          "output_type": "execute_result",
          "data": {
            "text/plain": [
              "array([10, 20, 30, 40])"
            ]
          },
          "metadata": {},
          "execution_count": 53
        }
      ]
    },
    {
      "cell_type": "markdown",
      "source": [
        "### Given the X numpy matrix, change the last row with all 1"
      ],
      "metadata": {
        "id": "Q6XDY-vcmwIQ"
      }
    },
    {
      "cell_type": "code",
      "source": [
        "X = np.array([\n",
        "    [1,   2,  3,  4],\n",
        "    [5,   6,  7,  8],\n",
        "    [9,  10, 11, 12],\n",
        "    [13, 14, 15, 16]\n",
        "])\n",
        "#X = np.arange(1, 17).reshape(4, 4)\n",
        "\n",
        "X[-1] = np.ones(4)   # X[-1] = [1, 1, 1, 1]\n",
        "X"
      ],
      "metadata": {
        "id": "mX_oFP2Em33Z",
        "outputId": "e3808e84-bf3f-4a19-ef7b-65c875b753e1",
        "colab": {
          "base_uri": "https://localhost:8080/"
        }
      },
      "execution_count": 63,
      "outputs": [
        {
          "output_type": "execute_result",
          "data": {
            "text/plain": [
              "array([[ 1,  2,  3,  4],\n",
              "       [ 5,  6,  7,  8],\n",
              "       [ 9, 10, 11, 12],\n",
              "       [ 1,  1,  1,  1]])"
            ]
          },
          "metadata": {},
          "execution_count": 63
        }
      ]
    },
    {
      "cell_type": "markdown",
      "source": [
        "### Given the X numpy matrix, change the last item on the last row with a 0"
      ],
      "metadata": {
        "id": "Ry69JU1an8Ku"
      }
    },
    {
      "cell_type": "code",
      "source": [
        "X = np.arange(1, 17).reshape(4, 4)\n",
        "X"
      ],
      "metadata": {
        "id": "jAEgsAvEpKxo",
        "outputId": "46e16048-3c66-482d-9fdb-562065dc8304",
        "colab": {
          "base_uri": "https://localhost:8080/"
        }
      },
      "execution_count": 66,
      "outputs": [
        {
          "output_type": "execute_result",
          "data": {
            "text/plain": [
              "array([[ 1,  2,  3,  4],\n",
              "       [ 5,  6,  7,  8],\n",
              "       [ 9, 10, 11, 12],\n",
              "       [13, 14, 15, 16]])"
            ]
          },
          "metadata": {},
          "execution_count": 66
        }
      ]
    },
    {
      "cell_type": "code",
      "source": [
        "X[-1, -1] = 0\n",
        "X"
      ],
      "metadata": {
        "id": "kHqU3dEapSyx",
        "outputId": "9505e629-bfc8-4aad-c55c-40a2668913d0",
        "colab": {
          "base_uri": "https://localhost:8080/"
        }
      },
      "execution_count": 69,
      "outputs": [
        {
          "output_type": "execute_result",
          "data": {
            "text/plain": [
              "array([[ 1,  2,  3,  4],\n",
              "       [ 5,  6,  7,  8],\n",
              "       [ 9, 10, 11, 12],\n",
              "       [13, 14, 15,  0]])"
            ]
          },
          "metadata": {},
          "execution_count": 69
        }
      ]
    },
    {
      "cell_type": "markdown",
      "source": [
        "### Given the X numpy matrix, add 5 to every element"
      ],
      "metadata": {
        "id": "wyajeNrRp69u"
      }
    },
    {
      "cell_type": "code",
      "source": [
        "X = np.arange(1, 17).reshape(4, 4)\n",
        "\n",
        "X + 5"
      ],
      "metadata": {
        "id": "NEbuax4xqBhW",
        "outputId": "59137763-73a7-4140-b11e-2ddb2a9a52a9",
        "colab": {
          "base_uri": "https://localhost:8080/"
        }
      },
      "execution_count": 71,
      "outputs": [
        {
          "output_type": "execute_result",
          "data": {
            "text/plain": [
              "array([[ 6,  7,  8,  9],\n",
              "       [10, 11, 12, 13],\n",
              "       [14, 15, 16, 17],\n",
              "       [18, 19, 20, 21]])"
            ]
          },
          "metadata": {},
          "execution_count": 71
        }
      ]
    },
    {
      "cell_type": "markdown",
      "source": [
        "## Boolean arrays (also called masks)\n",
        "\n",
        "### Given the X numpy array, make a mask showing negative elements"
      ],
      "metadata": {
        "id": "1vO3qvTzqdum"
      }
    },
    {
      "cell_type": "code",
      "source": [
        "X = np.array([-1,2,0,-4,5,6,0,0,-9,10])\n",
        "\n",
        "X[X < 0]\n",
        "#Y = np.copy(X[X < 0])"
      ],
      "metadata": {
        "id": "5B5JFZY5qm6M",
        "outputId": "351c4fd6-8797-4919-aac2-869f7e79bb12",
        "colab": {
          "base_uri": "https://localhost:8080/"
        }
      },
      "execution_count": 75,
      "outputs": [
        {
          "output_type": "execute_result",
          "data": {
            "text/plain": [
              "array([-1, -4, -9])"
            ]
          },
          "metadata": {},
          "execution_count": 75
        }
      ]
    },
    {
      "cell_type": "code",
      "source": [
        "mask = X < 0\n",
        "X[mask]           #Y = np.copy(X[mask])"
      ],
      "metadata": {
        "id": "L1SpBSrGsWKi",
        "outputId": "193d00f5-9842-45db-af6b-c85edacab93f",
        "colab": {
          "base_uri": "https://localhost:8080/"
        }
      },
      "execution_count": 78,
      "outputs": [
        {
          "output_type": "execute_result",
          "data": {
            "text/plain": [
              "array([-1, -4, -9])"
            ]
          },
          "metadata": {},
          "execution_count": 78
        }
      ]
    },
    {
      "cell_type": "markdown",
      "source": [
        "### Given the X numpy array, get numbers higher than 5"
      ],
      "metadata": {
        "id": "D32Q_JzZtF9y"
      }
    },
    {
      "cell_type": "code",
      "source": [
        "X = np.array([-1,2,0,-4,5,6,0,0,-9,10])\n",
        "\n",
        "mask = X > 5\n",
        "X[mask]              # Y = np.copy(X[mask])"
      ],
      "metadata": {
        "id": "TkoyhRpStNXg",
        "outputId": "11aa9669-02c5-4708-c090-47702f703e50",
        "colab": {
          "base_uri": "https://localhost:8080/"
        }
      },
      "execution_count": 79,
      "outputs": [
        {
          "output_type": "execute_result",
          "data": {
            "text/plain": [
              "array([ 6, 10])"
            ]
          },
          "metadata": {},
          "execution_count": 79
        }
      ]
    },
    {
      "cell_type": "markdown",
      "source": [
        "### Given the X numpy array, get numbers higher than the elements mean\n"
      ],
      "metadata": {
        "id": "VSGl_DaUtwYi"
      }
    },
    {
      "cell_type": "code",
      "source": [
        "X = np.array([-1, 2, 0, -4, 5, 6, 0, 0, -9, 10])\n",
        "\n",
        "mask = X > X.mean()\n",
        "X[mask]"
      ],
      "metadata": {
        "id": "su3p3WYx9mQn",
        "outputId": "38d5c25b-a5c4-45e3-8d1b-674217f5ea0e",
        "colab": {
          "base_uri": "https://localhost:8080/"
        }
      },
      "execution_count": 80,
      "outputs": [
        {
          "output_type": "execute_result",
          "data": {
            "text/plain": [
              "array([ 2,  5,  6, 10])"
            ]
          },
          "metadata": {},
          "execution_count": 80
        }
      ]
    },
    {
      "cell_type": "markdown",
      "source": [
        "### Given the X numpy array, get numbers equal to 2 or 10"
      ],
      "metadata": {
        "id": "Fg4GOb-v-EYL"
      }
    },
    {
      "cell_type": "code",
      "source": [
        "X = np.array([-1, 2, 0, -4, 5, 6, 0, 0, -9, 10])\n",
        "\n",
        "#X[(X == 2) | (X == 10)]\n",
        "mask = (X == 2) | (X == 10)\n",
        "X[mask]"
      ],
      "metadata": {
        "id": "RIcePqWt-KL-",
        "outputId": "6c7067db-f1d8-446c-e0f1-32dc72c09b64",
        "colab": {
          "base_uri": "https://localhost:8080/"
        }
      },
      "execution_count": 93,
      "outputs": [
        {
          "output_type": "execute_result",
          "data": {
            "text/plain": [
              "array([ 2, 10])"
            ]
          },
          "metadata": {},
          "execution_count": 93
        }
      ]
    },
    {
      "cell_type": "markdown",
      "source": [
        "## Logic functions\n",
        "\n",
        "Given the X numpy array, return True if none of its elements is zero"
      ],
      "metadata": {
        "id": "qF6aV-UoAc1c"
      }
    },
    {
      "cell_type": "code",
      "source": [
        "X = np.array([-1, 2, 0, -4, 5, 6, 0, 0, -9, 10])\n",
        "X.all()"
      ],
      "metadata": {
        "id": "jBD2g8yHAmav",
        "outputId": "37b59c8a-840f-4c35-f5ed-035d1ceb9afc",
        "colab": {
          "base_uri": "https://localhost:8080/"
        }
      },
      "execution_count": 101,
      "outputs": [
        {
          "output_type": "execute_result",
          "data": {
            "text/plain": [
              "False"
            ]
          },
          "metadata": {},
          "execution_count": 101
        }
      ]
    },
    {
      "cell_type": "markdown",
      "source": [
        "### Given the X numpy array, return True if any of its elements is zero\n"
      ],
      "metadata": {
        "id": "-iT5w_EGCaBC"
      }
    },
    {
      "cell_type": "code",
      "source": [
        "X = np.array([-1, 2, 0, -4, 5, 6, 0, 0, -9, 10])\n",
        "X.any()"
      ],
      "metadata": {
        "id": "N3hZn_F_CcIf",
        "outputId": "fc4c7eac-0a21-4c60-8a0f-4d62523e048d",
        "colab": {
          "base_uri": "https://localhost:8080/"
        }
      },
      "execution_count": 102,
      "outputs": [
        {
          "output_type": "execute_result",
          "data": {
            "text/plain": [
              "True"
            ]
          },
          "metadata": {},
          "execution_count": 102
        }
      ]
    },
    {
      "cell_type": "markdown",
      "source": [
        "## Summary statistics\n",
        "\n",
        "### Given the X numpy array, show the sum of its elements\n"
      ],
      "metadata": {
        "id": "mmZfAsMaCmlH"
      }
    },
    {
      "cell_type": "code",
      "source": [
        "X = np.array([3, 5, 6, 7, 2, 3, 4, 9, 4])\n",
        "X.sum()"
      ],
      "metadata": {
        "id": "54N_hoZ2CyqP",
        "outputId": "49e7ac2c-e171-4fc6-e77c-a39a166ba84a",
        "colab": {
          "base_uri": "https://localhost:8080/"
        }
      },
      "execution_count": 103,
      "outputs": [
        {
          "output_type": "execute_result",
          "data": {
            "text/plain": [
              "43"
            ]
          },
          "metadata": {},
          "execution_count": 103
        }
      ]
    },
    {
      "cell_type": "markdown",
      "source": [
        "### Given the X numpy array, show the mean value of its elements\n"
      ],
      "metadata": {
        "id": "LMgbyFNUC_9u"
      }
    },
    {
      "cell_type": "code",
      "source": [
        "X = np.array([1, 2, 0, 4, 5, 6, 0, 0, 9, 10])\n",
        "#np.mean(X)\n",
        "X.mean()"
      ],
      "metadata": {
        "id": "V-Fp1k1vDG5n",
        "outputId": "05caad6e-11b7-43ec-bb22-c9d952ef9d15",
        "colab": {
          "base_uri": "https://localhost:8080/"
        }
      },
      "execution_count": 104,
      "outputs": [
        {
          "output_type": "execute_result",
          "data": {
            "text/plain": [
              "3.7"
            ]
          },
          "metadata": {},
          "execution_count": 104
        }
      ]
    },
    {
      "cell_type": "markdown",
      "source": [
        "### Given the X numpy matrix, show the sum of its columns"
      ],
      "metadata": {
        "id": "8esDN4KBDK8B"
      }
    },
    {
      "cell_type": "code",
      "source": [
        "#X = np.arange(1, 17).reshape(4, 4)\n",
        "X = np.array([\n",
        "    [1,   2,  3,  4],\n",
        "    [5,   6,  7,  8],\n",
        "    [9,  10, 11, 12],\n",
        "    [13, 14, 15, 16]\n",
        "])\n",
        "X.sum(axis = 0)         # remember: axis=0 columns; axis=1 rows"
      ],
      "metadata": {
        "id": "3OBe0DbXDZDt",
        "outputId": "15e5503c-17f4-43b6-ec46-547d2fb9965b",
        "colab": {
          "base_uri": "https://localhost:8080/"
        }
      },
      "execution_count": 114,
      "outputs": [
        {
          "output_type": "execute_result",
          "data": {
            "text/plain": [
              "array([28, 32, 36, 40])"
            ]
          },
          "metadata": {},
          "execution_count": 114
        }
      ]
    },
    {
      "cell_type": "markdown",
      "source": [
        "### Given the X numpy matrix, show the mean value of its rows\n"
      ],
      "metadata": {
        "id": "bGruz9cbFdcC"
      }
    },
    {
      "cell_type": "code",
      "source": [
        "X = np.array([\n",
        "    [1,   2,  3,  4],\n",
        "    [5,   6,  7,  8],\n",
        "    [9,  10, 11, 12],\n",
        "    [13, 14, 15, 16]\n",
        "])\n",
        "X.mean(axis = 1)"
      ],
      "metadata": {
        "id": "3TGpjzIdFkvO",
        "outputId": "8b2b7847-e3c9-4220-cbed-19fd5a89aa89",
        "colab": {
          "base_uri": "https://localhost:8080/"
        }
      },
      "execution_count": 115,
      "outputs": [
        {
          "output_type": "execute_result",
          "data": {
            "text/plain": [
              "array([ 2.5,  6.5, 10.5, 14.5])"
            ]
          },
          "metadata": {},
          "execution_count": 115
        }
      ]
    },
    {
      "cell_type": "markdown",
      "source": [
        "### Given the X numpy array, show the max value of its elements\n"
      ],
      "metadata": {
        "id": "o6m9idw3F2pC"
      }
    },
    {
      "cell_type": "code",
      "source": [
        "X = np.array([1, 2, 0, 4, 5, 6, 0, 0, 9, 10])\n",
        "\n",
        "X.max()"
      ],
      "metadata": {
        "id": "EI8QOSqWF81W",
        "outputId": "98818a35-0d57-4b4b-e641-b84fada642ee",
        "colab": {
          "base_uri": "https://localhost:8080/"
        }
      },
      "execution_count": 116,
      "outputs": [
        {
          "output_type": "execute_result",
          "data": {
            "text/plain": [
              "10"
            ]
          },
          "metadata": {},
          "execution_count": 116
        }
      ]
    }
  ]
}