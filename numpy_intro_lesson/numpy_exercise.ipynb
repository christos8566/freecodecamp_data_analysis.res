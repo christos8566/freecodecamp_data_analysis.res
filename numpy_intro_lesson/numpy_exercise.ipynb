{
  "nbformat": 4,
  "nbformat_minor": 0,
  "metadata": {
    "colab": {
      "provenance": [],
      "authorship_tag": "ABX9TyOpCtk1ftHsyuVOBTQjsw16",
      "include_colab_link": true
    },
    "kernelspec": {
      "name": "python3",
      "display_name": "Python 3"
    },
    "language_info": {
      "name": "python"
    }
  },
  "cells": [
    {
      "cell_type": "markdown",
      "metadata": {
        "id": "view-in-github",
        "colab_type": "text"
      },
      "source": [
        "<a href=\"https://colab.research.google.com/github/christos8566/freecodecamp_data_analysis.res/blob/main/numpy_intro_lesson/numpy_exercise.ipynb\" target=\"_parent\"><img src=\"https://colab.research.google.com/assets/colab-badge.svg\" alt=\"Open In Colab\"/></a>"
      ]
    },
    {
      "cell_type": "markdown",
      "source": [
        "# Numpy Exercise"
      ],
      "metadata": {
        "id": "ceI-NSen7TG3"
      }
    },
    {
      "cell_type": "code",
      "source": [
        "# import the library of numpy\n",
        "import numpy as np\n",
        "\n",
        "# print the numpy version and configuration\n",
        "print(np.__version__)"
      ],
      "metadata": {
        "colab": {
          "base_uri": "https://localhost:8080/"
        },
        "id": "iZL4mT7R8AHe",
        "outputId": "a308c3fc-c85a-4868-8593-5858d1ae79c7"
      },
      "execution_count": 1,
      "outputs": [
        {
          "output_type": "stream",
          "name": "stdout",
          "text": [
            "1.25.2\n"
          ]
        }
      ]
    },
    {
      "cell_type": "markdown",
      "source": [
        "## Array Creation\n",
        "\n",
        "### Create a numpy array of size 10, filled with zeros."
      ],
      "metadata": {
        "id": "1NpXszqd8p3T"
      }
    },
    {
      "cell_type": "code",
      "source": [
        "np.zeros(10)"
      ],
      "metadata": {
        "colab": {
          "base_uri": "https://localhost:8080/"
        },
        "id": "1Aoo01j182mV",
        "outputId": "4599e656-18cd-463e-e515-f04ff5c52a34"
      },
      "execution_count": 2,
      "outputs": [
        {
          "output_type": "execute_result",
          "data": {
            "text/plain": [
              "array([0., 0., 0., 0., 0., 0., 0., 0., 0., 0.])"
            ]
          },
          "metadata": {},
          "execution_count": 2
        }
      ]
    },
    {
      "cell_type": "markdown",
      "source": [
        "### Create a numpy array with values ranging from 10 to 49"
      ],
      "metadata": {
        "id": "t-UKBYfW9O-O"
      }
    },
    {
      "cell_type": "code",
      "source": [
        "np.arange(10, 50)"
      ],
      "metadata": {
        "colab": {
          "base_uri": "https://localhost:8080/"
        },
        "id": "yC9qDtVB9STI",
        "outputId": "ba828621-d128-4484-d3d1-da0783bb9aeb"
      },
      "execution_count": 3,
      "outputs": [
        {
          "output_type": "execute_result",
          "data": {
            "text/plain": [
              "array([10, 11, 12, 13, 14, 15, 16, 17, 18, 19, 20, 21, 22, 23, 24, 25, 26,\n",
              "       27, 28, 29, 30, 31, 32, 33, 34, 35, 36, 37, 38, 39, 40, 41, 42, 43,\n",
              "       44, 45, 46, 47, 48, 49])"
            ]
          },
          "metadata": {},
          "execution_count": 3
        }
      ]
    },
    {
      "cell_type": "markdown",
      "source": [
        "### Create a numpy matrix of 2*2 integers, filled with ones."
      ],
      "metadata": {
        "id": "n93RJCSP9kpX"
      }
    },
    {
      "cell_type": "code",
      "source": [
        "np.ones([2, 2], dtype = int)"
      ],
      "metadata": {
        "colab": {
          "base_uri": "https://localhost:8080/"
        },
        "id": "V2YcOlJH9nU-",
        "outputId": "68cbbb83-2a9b-4528-c1a9-8d748d0722f9"
      },
      "execution_count": 4,
      "outputs": [
        {
          "output_type": "execute_result",
          "data": {
            "text/plain": [
              "array([[1, 1],\n",
              "       [1, 1]])"
            ]
          },
          "metadata": {},
          "execution_count": 4
        }
      ]
    },
    {
      "cell_type": "markdown",
      "source": [
        "### Create a numpy matrix of 3*2 float numbers, filled with ones."
      ],
      "metadata": {
        "id": "A88KLoK19-fd"
      }
    },
    {
      "cell_type": "code",
      "source": [
        "np.ones([3, 2], dtype = float)"
      ],
      "metadata": {
        "colab": {
          "base_uri": "https://localhost:8080/"
        },
        "id": "Z_pD-O0T-IKb",
        "outputId": "6be0c915-ea68-43a0-b78e-089f6392a523"
      },
      "execution_count": 5,
      "outputs": [
        {
          "output_type": "execute_result",
          "data": {
            "text/plain": [
              "array([[1., 1.],\n",
              "       [1., 1.],\n",
              "       [1., 1.]])"
            ]
          },
          "metadata": {},
          "execution_count": 5
        }
      ]
    },
    {
      "cell_type": "markdown",
      "source": [
        "### Given the X numpy array, create a new numpy array with the same shape and type as X, filled with ones."
      ],
      "metadata": {
        "id": "CjM0czpp-TYv"
      }
    },
    {
      "cell_type": "code",
      "source": [
        "#np.ones([4], dtype = int)\n",
        "#alternative way to do it with the ones_like()\n",
        "X = np.arange(4, dtype = int)\n",
        "\n",
        "np.ones_like(X)"
      ],
      "metadata": {
        "colab": {
          "base_uri": "https://localhost:8080/"
        },
        "id": "I1PPn2bz-bNh",
        "outputId": "32850654-2666-49fe-f2f0-9a5327f19b49"
      },
      "execution_count": 6,
      "outputs": [
        {
          "output_type": "execute_result",
          "data": {
            "text/plain": [
              "array([1, 1, 1, 1])"
            ]
          },
          "metadata": {},
          "execution_count": 6
        }
      ]
    },
    {
      "cell_type": "markdown",
      "source": [
        "### Given the X numpy matrix, create a new numpy matrix with the same shape and type as X, filled with zeros."
      ],
      "metadata": {
        "id": "9-DhcSWEAAuC"
      }
    },
    {
      "cell_type": "code",
      "source": [
        "np.zeros_like(X)"
      ],
      "metadata": {
        "colab": {
          "base_uri": "https://localhost:8080/"
        },
        "id": "FIHKp6QDAmHZ",
        "outputId": "6e4aa72d-8dae-4183-c5b0-9c47d03547b2"
      },
      "execution_count": 7,
      "outputs": [
        {
          "output_type": "execute_result",
          "data": {
            "text/plain": [
              "array([0, 0, 0, 0])"
            ]
          },
          "metadata": {},
          "execution_count": 7
        }
      ]
    },
    {
      "cell_type": "markdown",
      "source": [
        "### Create a numpy matrix of 4*4 integers, filled with fives.\n"
      ],
      "metadata": {
        "id": "xLlBHwmjAvwi"
      }
    },
    {
      "cell_type": "code",
      "source": [
        "np.ones([4, 4], dtype = int) * 5"
      ],
      "metadata": {
        "colab": {
          "base_uri": "https://localhost:8080/"
        },
        "id": "f_kfkUTyBGjp",
        "outputId": "6d24d4d8-4404-45cf-8709-d8ada5740d50"
      },
      "execution_count": 8,
      "outputs": [
        {
          "output_type": "execute_result",
          "data": {
            "text/plain": [
              "array([[5, 5, 5, 5],\n",
              "       [5, 5, 5, 5],\n",
              "       [5, 5, 5, 5],\n",
              "       [5, 5, 5, 5]])"
            ]
          },
          "metadata": {},
          "execution_count": 8
        }
      ]
    },
    {
      "cell_type": "markdown",
      "source": [
        "### Given the X numpy matrix, create a new numpy matrix with the same shape and type as X, filled with sevens.\n"
      ],
      "metadata": {
        "id": "gxgze21ACTH5"
      }
    },
    {
      "cell_type": "code",
      "source": [
        "X = np.array([[2, 3], [6, 2]], dtype = int)\n",
        "np.ones_like(X) * 7"
      ],
      "metadata": {
        "colab": {
          "base_uri": "https://localhost:8080/"
        },
        "id": "AA_13plDCZVh",
        "outputId": "0c1aefbc-993a-4a04-c6a4-0dce5dae2a81"
      },
      "execution_count": 9,
      "outputs": [
        {
          "output_type": "execute_result",
          "data": {
            "text/plain": [
              "array([[7, 7],\n",
              "       [7, 7]])"
            ]
          },
          "metadata": {},
          "execution_count": 9
        }
      ]
    },
    {
      "cell_type": "markdown",
      "source": [
        "### Create a 3*3 identity numpy matrix with ones on the diagonal and zeros elsewhere."
      ],
      "metadata": {
        "id": "WtwEqBfAEI-o"
      }
    },
    {
      "cell_type": "code",
      "source": [
        "#np.eye(3)\n",
        "np.identity(3)"
      ],
      "metadata": {
        "colab": {
          "base_uri": "https://localhost:8080/"
        },
        "id": "AZSZBWOIEQPf",
        "outputId": "e9655f7d-3f0d-4d91-ac4a-17f17cd38cb3"
      },
      "execution_count": 10,
      "outputs": [
        {
          "output_type": "execute_result",
          "data": {
            "text/plain": [
              "array([[1., 0., 0.],\n",
              "       [0., 1., 0.],\n",
              "       [0., 0., 1.]])"
            ]
          },
          "metadata": {},
          "execution_count": 10
        }
      ]
    },
    {
      "cell_type": "markdown",
      "source": [
        "### Create a numpy array, filled with 3 random integer values between 1 and 10"
      ],
      "metadata": {
        "id": "hxaznHscFVex"
      }
    },
    {
      "cell_type": "code",
      "source": [
        "#np.random.random_integers(0, 10, size = 3)\n",
        "np.random.randint(10, size = 3)"
      ],
      "metadata": {
        "colab": {
          "base_uri": "https://localhost:8080/"
        },
        "id": "rY6Kwj-DFlPb",
        "outputId": "38124f5a-f2a0-48f5-9821-91d107de6f66"
      },
      "execution_count": 11,
      "outputs": [
        {
          "output_type": "execute_result",
          "data": {
            "text/plain": [
              "array([2, 9, 9])"
            ]
          },
          "metadata": {},
          "execution_count": 11
        }
      ]
    },
    {
      "cell_type": "markdown",
      "source": [
        "### Create a 3*3*3 numpy matrix, filled with random float values.\n"
      ],
      "metadata": {
        "id": "rW3z_tVHG96v"
      }
    },
    {
      "cell_type": "code",
      "source": [
        "np.random.randn(3,3,3)\n",
        "#np.random.rand(3,3,3)"
      ],
      "metadata": {
        "colab": {
          "base_uri": "https://localhost:8080/"
        },
        "id": "0F42JGvgHIO7",
        "outputId": "3a60a599-550f-4a99-dc59-48f9477c0761"
      },
      "execution_count": 12,
      "outputs": [
        {
          "output_type": "execute_result",
          "data": {
            "text/plain": [
              "array([[[ 0.89939875,  0.11894438,  1.16719926],\n",
              "        [-1.53723786, -0.76034249,  1.84128283],\n",
              "        [-0.21998738,  0.02241474,  0.26024137]],\n",
              "\n",
              "       [[-0.16141389,  0.63538082,  0.12386787],\n",
              "        [ 1.04092375,  0.8851715 , -0.58063575],\n",
              "        [ 1.09291888, -0.18745121, -0.01178365]],\n",
              "\n",
              "       [[ 0.26480577,  0.04468223, -0.73009751],\n",
              "        [-0.8511421 ,  0.75409784, -0.40976823],\n",
              "        [-1.3905993 , -0.78593611,  1.71456914]]])"
            ]
          },
          "metadata": {},
          "execution_count": 12
        }
      ]
    },
    {
      "cell_type": "markdown",
      "source": [
        "### Given the X python list convert it to an Y numpy array"
      ],
      "metadata": {
        "id": "L347wmA0I78a"
      }
    },
    {
      "cell_type": "code",
      "source": [
        "X = [1, 2, 3]\n",
        "print(X, type(X))"
      ],
      "metadata": {
        "colab": {
          "base_uri": "https://localhost:8080/"
        },
        "id": "O0xUuRgdJCEf",
        "outputId": "e6da5542-f331-4afb-cbc2-65634cfad051"
      },
      "execution_count": 13,
      "outputs": [
        {
          "output_type": "stream",
          "name": "stdout",
          "text": [
            "[1, 2, 3] <class 'list'>\n"
          ]
        }
      ]
    },
    {
      "cell_type": "code",
      "source": [
        "Y = np.array(X)\n",
        "print(Y, type(Y))"
      ],
      "metadata": {
        "colab": {
          "base_uri": "https://localhost:8080/"
        },
        "id": "-JbW5egVJNc_",
        "outputId": "5ad046b4-7b70-44d0-9336-abafbeb6cccc"
      },
      "execution_count": 14,
      "outputs": [
        {
          "output_type": "stream",
          "name": "stdout",
          "text": [
            "[1 2 3] <class 'numpy.ndarray'>\n"
          ]
        }
      ]
    },
    {
      "cell_type": "markdown",
      "source": [
        "### Given the X numpy array, make a copy and store it on Y."
      ],
      "metadata": {
        "id": "Nq-sgl5SJ-kj"
      }
    },
    {
      "cell_type": "code",
      "source": [
        "X = np.array([5,2,3], dtype=int)\n",
        "print(X, id(X))"
      ],
      "metadata": {
        "colab": {
          "base_uri": "https://localhost:8080/"
        },
        "id": "XfZvGgF9KHt8",
        "outputId": "173bf00a-c736-498c-bcf7-d003645687ef"
      },
      "execution_count": 15,
      "outputs": [
        {
          "output_type": "stream",
          "name": "stdout",
          "text": [
            "[5 2 3] 134476304613072\n"
          ]
        }
      ]
    },
    {
      "cell_type": "code",
      "source": [
        "Y = np.copy(X)\n",
        "print(Y, id(Y))"
      ],
      "metadata": {
        "colab": {
          "base_uri": "https://localhost:8080/"
        },
        "id": "ZyteXuqfKNt6",
        "outputId": "bfd9bcdc-223a-4e49-d89d-084cc06baaf3"
      },
      "execution_count": 16,
      "outputs": [
        {
          "output_type": "stream",
          "name": "stdout",
          "text": [
            "[5 2 3] 134476304850096\n"
          ]
        }
      ]
    },
    {
      "cell_type": "markdown",
      "source": [
        "### Create a numpy array with numbers from 1 to 10\n"
      ],
      "metadata": {
        "id": "MWBjtJmgAGUJ"
      }
    },
    {
      "cell_type": "code",
      "source": [
        "np.arange(1, 11)"
      ],
      "metadata": {
        "id": "v0lLNSYTAMi0",
        "outputId": "921e99a8-2b8a-4ed9-c6cf-cdac47111c89",
        "colab": {
          "base_uri": "https://localhost:8080/"
        }
      },
      "execution_count": 21,
      "outputs": [
        {
          "output_type": "execute_result",
          "data": {
            "text/plain": [
              "array([ 1,  2,  3,  4,  5,  6,  7,  8,  9, 10])"
            ]
          },
          "metadata": {},
          "execution_count": 21
        }
      ]
    },
    {
      "cell_type": "markdown",
      "source": [
        "### Create a numpy array with the odd numbers between 1 to 10\n",
        "\n",
        "\n",
        "\n"
      ],
      "metadata": {
        "id": "DeOdQuOOAuVF"
      }
    },
    {
      "cell_type": "code",
      "source": [
        "np.arange(1, 11, 2)"
      ],
      "metadata": {
        "id": "rBEkYgJPAxZm",
        "outputId": "a66150ad-2362-40b6-aa11-30f120810b38",
        "colab": {
          "base_uri": "https://localhost:8080/"
        }
      },
      "execution_count": 22,
      "outputs": [
        {
          "output_type": "execute_result",
          "data": {
            "text/plain": [
              "array([1, 3, 5, 7, 9])"
            ]
          },
          "metadata": {},
          "execution_count": 22
        }
      ]
    },
    {
      "cell_type": "markdown",
      "source": [
        "### Create a numpy array with numbers from 1 to 10, in descending order.\n"
      ],
      "metadata": {
        "id": "K669bG9oBSov"
      }
    },
    {
      "cell_type": "code",
      "source": [
        "np.arange(1, 11)[::-1]"
      ],
      "metadata": {
        "id": "w4hxbS4EBYk8",
        "outputId": "4031885c-6b1f-47fe-9397-e671562b8ce1",
        "colab": {
          "base_uri": "https://localhost:8080/"
        }
      },
      "execution_count": 34,
      "outputs": [
        {
          "output_type": "execute_result",
          "data": {
            "text/plain": [
              "array([10,  9,  8,  7,  6,  5,  4,  3,  2,  1])"
            ]
          },
          "metadata": {},
          "execution_count": 34
        }
      ]
    },
    {
      "cell_type": "markdown",
      "source": [
        "### Create a 3*3 numpy matrix, filled with values ranging from 0 to 8\n"
      ],
      "metadata": {
        "id": "xDZsxF10EPgs"
      }
    },
    {
      "cell_type": "code",
      "source": [
        "np.arange(9).reshape([3, 3])"
      ],
      "metadata": {
        "id": "Kf3tWN5HEU5b",
        "outputId": "3915eaf1-f78b-404c-c405-75c48d9b4209",
        "colab": {
          "base_uri": "https://localhost:8080/"
        }
      },
      "execution_count": 36,
      "outputs": [
        {
          "output_type": "execute_result",
          "data": {
            "text/plain": [
              "array([[0, 1, 2],\n",
              "       [3, 4, 5],\n",
              "       [6, 7, 8]])"
            ]
          },
          "metadata": {},
          "execution_count": 36
        }
      ]
    },
    {
      "cell_type": "markdown",
      "source": [
        "### Show the memory size of the given Z numpy matrix"
      ],
      "metadata": {
        "id": "-n87NcCfE9g0"
      }
    },
    {
      "cell_type": "code",
      "source": [
        "Z = np.zeros((10,10))\n",
        "\n",
        "print(\"%d bytes\" % (Z.size * Z.itemsize))"
      ],
      "metadata": {
        "id": "GhukcnI-FCAa",
        "outputId": "c922cbe8-09aa-45f7-9d15-b9be61bf3cc1",
        "colab": {
          "base_uri": "https://localhost:8080/"
        }
      },
      "execution_count": 38,
      "outputs": [
        {
          "output_type": "stream",
          "name": "stdout",
          "text": [
            "800 bytes\n"
          ]
        }
      ]
    },
    {
      "cell_type": "markdown",
      "source": [
        "## Array indexation\n",
        "\n",
        "### Given the X numpy array, show it's first element"
      ],
      "metadata": {
        "id": "Ca-jIeJbFTHS"
      }
    },
    {
      "cell_type": "code",
      "source": [
        "X = np.array(['A', 'B', 'C', 'D', 'E'])\n",
        "X[0]"
      ],
      "metadata": {
        "id": "z2Hg8u4SFZYi",
        "outputId": "bd94a528-6454-4212-d01a-afefa0a3e0c9",
        "colab": {
          "base_uri": "https://localhost:8080/",
          "height": 35
        }
      },
      "execution_count": 39,
      "outputs": [
        {
          "output_type": "execute_result",
          "data": {
            "text/plain": [
              "'A'"
            ],
            "application/vnd.google.colaboratory.intrinsic+json": {
              "type": "string"
            }
          },
          "metadata": {},
          "execution_count": 39
        }
      ]
    },
    {
      "cell_type": "markdown",
      "source": [
        "### Given the X numpy array, show it's last element"
      ],
      "metadata": {
        "id": "jdlIC9rgF4or"
      }
    },
    {
      "cell_type": "code",
      "source": [
        "X[-1]"
      ],
      "metadata": {
        "id": "JLOTe7zCGB2N",
        "outputId": "acaccdd4-5a3d-4856-9b3c-d3cd58ef1da0",
        "colab": {
          "base_uri": "https://localhost:8080/",
          "height": 35
        }
      },
      "execution_count": 40,
      "outputs": [
        {
          "output_type": "execute_result",
          "data": {
            "text/plain": [
              "'E'"
            ],
            "application/vnd.google.colaboratory.intrinsic+json": {
              "type": "string"
            }
          },
          "metadata": {},
          "execution_count": 40
        }
      ]
    },
    {
      "cell_type": "markdown",
      "source": [
        "### Given the X numpy array, show it's first three elements\n"
      ],
      "metadata": {
        "id": "gCNuz807GH1w"
      }
    },
    {
      "cell_type": "code",
      "source": [
        "X[0:3]"
      ],
      "metadata": {
        "id": "nChEFnvvGNfA",
        "outputId": "a5919c9a-7b0d-490e-b764-d47469934ebb",
        "colab": {
          "base_uri": "https://localhost:8080/"
        }
      },
      "execution_count": 41,
      "outputs": [
        {
          "output_type": "execute_result",
          "data": {
            "text/plain": [
              "array(['A', 'B', 'C'], dtype='<U1')"
            ]
          },
          "metadata": {},
          "execution_count": 41
        }
      ]
    },
    {
      "cell_type": "markdown",
      "source": [
        "### Given the X numpy array, show all middle elements\n"
      ],
      "metadata": {
        "id": "-uU8IFZMGRPI"
      }
    },
    {
      "cell_type": "code",
      "source": [
        "X[1:-1]"
      ],
      "metadata": {
        "id": "PjfCzuk8GZaO",
        "outputId": "4b2b4980-cb83-4f12-d2c7-5a5f1fa6b541",
        "colab": {
          "base_uri": "https://localhost:8080/"
        }
      },
      "execution_count": 43,
      "outputs": [
        {
          "output_type": "execute_result",
          "data": {
            "text/plain": [
              "array(['B', 'C', 'D'], dtype='<U1')"
            ]
          },
          "metadata": {},
          "execution_count": 43
        }
      ]
    },
    {
      "cell_type": "markdown",
      "source": [
        "### Given the X numpy array, show the elements in reverse position\n"
      ],
      "metadata": {
        "id": "mFV7VVPDGpWW"
      }
    },
    {
      "cell_type": "code",
      "source": [
        "X[::-1]"
      ],
      "metadata": {
        "id": "MR_qDO16GtuH",
        "outputId": "f97d76ab-b413-4930-f993-9e5af52bc7f8",
        "colab": {
          "base_uri": "https://localhost:8080/"
        }
      },
      "execution_count": 47,
      "outputs": [
        {
          "output_type": "execute_result",
          "data": {
            "text/plain": [
              "array(['E', 'D', 'C', 'B', 'A'], dtype='<U1')"
            ]
          },
          "metadata": {},
          "execution_count": 47
        }
      ]
    },
    {
      "cell_type": "markdown",
      "source": [
        "### Given the X numpy array, show the elements in an odd position\n"
      ],
      "metadata": {
        "id": "t4bG79uDG1XZ"
      }
    },
    {
      "cell_type": "code",
      "source": [
        "X[::2]"
      ],
      "metadata": {
        "id": "NngtPNbrHl_s",
        "outputId": "47258521-7733-41ce-b724-566ffa583642",
        "colab": {
          "base_uri": "https://localhost:8080/"
        }
      },
      "execution_count": 50,
      "outputs": [
        {
          "output_type": "execute_result",
          "data": {
            "text/plain": [
              "array(['A', 'C', 'E'], dtype='<U1')"
            ]
          },
          "metadata": {},
          "execution_count": 50
        }
      ]
    },
    {
      "cell_type": "markdown",
      "source": [
        "### Given the X numpy matrix, show the first row elements\n"
      ],
      "metadata": {
        "id": "HIC4aopSH5gq"
      }
    },
    {
      "cell_type": "code",
      "source": [
        "X = np.array([\n",
        "    [1,   2,  3,  4],          #X = np.arange(1, 17).reshape(4, 4)\n",
        "    [5,   6,  7,  8],\n",
        "    [9,  10, 11, 12],\n",
        "    [13, 14, 15, 16]\n",
        "])\n",
        "\n",
        "X[0]"
      ],
      "metadata": {
        "id": "10e6-4IDIWoZ",
        "outputId": "fae5a25f-bbaa-43de-ff91-114447512877",
        "colab": {
          "base_uri": "https://localhost:8080/"
        }
      },
      "execution_count": 59,
      "outputs": [
        {
          "output_type": "execute_result",
          "data": {
            "text/plain": [
              "array([1, 2, 3, 4])"
            ]
          },
          "metadata": {},
          "execution_count": 59
        }
      ]
    },
    {
      "cell_type": "markdown",
      "source": [
        "### Given the X numpy matrix, show the last row elements\n"
      ],
      "metadata": {
        "id": "ynnfC5CyIn8k"
      }
    },
    {
      "cell_type": "code",
      "source": [
        "X[-1]"
      ],
      "metadata": {
        "id": "d75A0Y52IttZ",
        "outputId": "78001802-adf1-40d3-a96e-37802dd61b8a",
        "colab": {
          "base_uri": "https://localhost:8080/"
        }
      },
      "execution_count": 53,
      "outputs": [
        {
          "output_type": "execute_result",
          "data": {
            "text/plain": [
              "array([13, 14, 15, 16])"
            ]
          },
          "metadata": {},
          "execution_count": 53
        }
      ]
    },
    {
      "cell_type": "markdown",
      "source": [
        "### Given the X numpy matrix, show the first element on first row"
      ],
      "metadata": {
        "id": "Q7nh4_YCIxIu"
      }
    },
    {
      "cell_type": "code",
      "source": [
        "X[0, 0]"
      ],
      "metadata": {
        "id": "fN2MOZyFJ708",
        "outputId": "a0135444-724d-4f64-a849-df9fe1a786f0",
        "colab": {
          "base_uri": "https://localhost:8080/"
        }
      },
      "execution_count": 62,
      "outputs": [
        {
          "output_type": "execute_result",
          "data": {
            "text/plain": [
              "1"
            ]
          },
          "metadata": {},
          "execution_count": 62
        }
      ]
    },
    {
      "cell_type": "code",
      "source": [
        "X[-1, -1]"
      ],
      "metadata": {
        "id": "tC5Z-q4IKMz4",
        "outputId": "94ec5d3b-a552-4a70-999e-197a5a9499b6",
        "colab": {
          "base_uri": "https://localhost:8080/"
        }
      },
      "execution_count": 63,
      "outputs": [
        {
          "output_type": "execute_result",
          "data": {
            "text/plain": [
              "16"
            ]
          },
          "metadata": {},
          "execution_count": 63
        }
      ]
    },
    {
      "cell_type": "markdown",
      "source": [
        "### Given the X numpy matrix, show the middle row elements\n"
      ],
      "metadata": {
        "id": "CDT-yAHfKWv8"
      }
    },
    {
      "cell_type": "code",
      "source": [
        "X[1:3, 1:3]     #X[1:-1, 1:-1]"
      ],
      "metadata": {
        "id": "V_zOe96CKgqm",
        "outputId": "1f3c153a-c10e-4fe9-d299-d7519991d352",
        "colab": {
          "base_uri": "https://localhost:8080/"
        }
      },
      "execution_count": 69,
      "outputs": [
        {
          "output_type": "execute_result",
          "data": {
            "text/plain": [
              "array([[ 6,  7],\n",
              "       [10, 11]])"
            ]
          },
          "metadata": {},
          "execution_count": 69
        }
      ]
    },
    {
      "cell_type": "markdown",
      "source": [
        "### Given the X numpy matrix, show the first two elements on the first two rows"
      ],
      "metadata": {
        "id": "WThLACj6LU1g"
      }
    },
    {
      "cell_type": "code",
      "source": [
        "X[:2, :2]"
      ],
      "metadata": {
        "id": "1AwtrwhzLbLE",
        "outputId": "916c125a-6f25-490d-d657-7b5c54207310",
        "colab": {
          "base_uri": "https://localhost:8080/"
        }
      },
      "execution_count": 71,
      "outputs": [
        {
          "output_type": "execute_result",
          "data": {
            "text/plain": [
              "array([[1, 2],\n",
              "       [5, 6]])"
            ]
          },
          "metadata": {},
          "execution_count": 71
        }
      ]
    },
    {
      "cell_type": "markdown",
      "source": [
        "### Given the X numpy matrix, show the last two elements on the last two rows"
      ],
      "metadata": {
        "id": "0k9HobahLuFp"
      }
    },
    {
      "cell_type": "code",
      "source": [
        "X[-2:, -2:]"
      ],
      "metadata": {
        "id": "-1yw6-0jL0vw",
        "outputId": "43e0659b-b1e0-4801-8760-00389c9cee2d",
        "colab": {
          "base_uri": "https://localhost:8080/"
        }
      },
      "execution_count": 72,
      "outputs": [
        {
          "output_type": "execute_result",
          "data": {
            "text/plain": [
              "array([[11, 12],\n",
              "       [15, 16]])"
            ]
          },
          "metadata": {},
          "execution_count": 72
        }
      ]
    },
    {
      "cell_type": "markdown",
      "source": [
        "## Array manipulation\n",
        "\n",
        "### Convert the given integer numpy array to float\n"
      ],
      "metadata": {
        "id": "mkwxVb27MEPy"
      }
    },
    {
      "cell_type": "code",
      "source": [],
      "metadata": {
        "id": "9QpEYvm6MVEX"
      },
      "execution_count": null,
      "outputs": []
    }
  ]
}