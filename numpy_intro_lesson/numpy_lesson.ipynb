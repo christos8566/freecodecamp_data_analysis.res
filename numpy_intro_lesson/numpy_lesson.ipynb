{
  "nbformat": 4,
  "nbformat_minor": 0,
  "metadata": {
    "colab": {
      "provenance": [],
      "mount_file_id": "1EMbiN6oaVvdT46o5RoGqT4Llqr3Ba7Du",
      "authorship_tag": "ABX9TyMWTRu8LLO4l0+nneQu676d",
      "include_colab_link": true
    },
    "kernelspec": {
      "name": "python3",
      "display_name": "Python 3"
    },
    "language_info": {
      "name": "python"
    }
  },
  "cells": [
    {
      "cell_type": "markdown",
      "metadata": {
        "id": "view-in-github",
        "colab_type": "text"
      },
      "source": [
        "<a href=\"https://colab.research.google.com/github/christos8566/freecodecamp_data_analysis.res/blob/main/numpy_intro_lesson/numpy_lesson.ipynb\" target=\"_parent\"><img src=\"https://colab.research.google.com/assets/colab-badge.svg\" alt=\"Open In Colab\"/></a>"
      ]
    },
    {
      "cell_type": "markdown",
      "source": [
        "# Hands on!\n",
        "\n",
        " import the libraries"
      ],
      "metadata": {
        "id": "bdTLFF_MGG4-"
      }
    },
    {
      "cell_type": "code",
      "source": [
        "import sys\n",
        "import numpy as np\n"
      ],
      "metadata": {
        "id": "XVVB41a6HHZS"
      },
      "execution_count": 3,
      "outputs": []
    },
    {
      "cell_type": "markdown",
      "source": [
        "# Basic numpy arrays"
      ],
      "metadata": {
        "id": "MArSigpJHk7V"
      }
    },
    {
      "cell_type": "code",
      "source": [
        "np.array([1, 2, 3, 4])"
      ],
      "metadata": {
        "colab": {
          "base_uri": "https://localhost:8080/"
        },
        "id": "j6nq9WbjHvHW",
        "outputId": "1515ff7f-53af-413c-c10f-bd3a86cb7cb1"
      },
      "execution_count": 4,
      "outputs": [
        {
          "output_type": "execute_result",
          "data": {
            "text/plain": [
              "array([1, 2, 3, 4])"
            ]
          },
          "metadata": {},
          "execution_count": 4
        }
      ]
    },
    {
      "cell_type": "code",
      "source": [
        "a = np.array([1, 2, 3, 4])"
      ],
      "metadata": {
        "id": "z2pe3Ev7IG4o"
      },
      "execution_count": 5,
      "outputs": []
    },
    {
      "cell_type": "code",
      "source": [
        "b = np.array([0, .5, 1., 1.5, 2.])"
      ],
      "metadata": {
        "id": "xzgq6ZyuIMrw"
      },
      "execution_count": 6,
      "outputs": []
    },
    {
      "cell_type": "code",
      "source": [
        "# give me this result:  (1, 2)\n",
        "a[0], a[1]"
      ],
      "metadata": {
        "colab": {
          "base_uri": "https://localhost:8080/"
        },
        "id": "LBoyuH6rIcwg",
        "outputId": "f3fd9886-384d-4ec6-80a9-e74d729d1215"
      },
      "execution_count": 7,
      "outputs": [
        {
          "output_type": "execute_result",
          "data": {
            "text/plain": [
              "(1, 2)"
            ]
          },
          "metadata": {},
          "execution_count": 7
        }
      ]
    },
    {
      "cell_type": "code",
      "source": [
        "# give me this result:  array([1, 2, 3, 4])\n",
        "a[:]"
      ],
      "metadata": {
        "colab": {
          "base_uri": "https://localhost:8080/"
        },
        "id": "7L8_9_wbI4LY",
        "outputId": "bbde615f-c13d-42f3-93c1-1751c9143543"
      },
      "execution_count": 8,
      "outputs": [
        {
          "output_type": "execute_result",
          "data": {
            "text/plain": [
              "array([1, 2, 3, 4])"
            ]
          },
          "metadata": {},
          "execution_count": 8
        }
      ]
    },
    {
      "cell_type": "code",
      "source": [
        "# give me this result:  array([2, 3])\n",
        "a[1:3]"
      ],
      "metadata": {
        "colab": {
          "base_uri": "https://localhost:8080/"
        },
        "id": "WeUIHNqfJgBp",
        "outputId": "db6f9116-809c-4f10-b646-145574477543"
      },
      "execution_count": 9,
      "outputs": [
        {
          "output_type": "execute_result",
          "data": {
            "text/plain": [
              "array([2, 3])"
            ]
          },
          "metadata": {},
          "execution_count": 9
        }
      ]
    },
    {
      "cell_type": "code",
      "source": [
        "# give me this result:  array([2, 3])\n",
        "a[1:-1]"
      ],
      "metadata": {
        "colab": {
          "base_uri": "https://localhost:8080/"
        },
        "id": "wVQIqQmaJ1GF",
        "outputId": "c6ccbaaa-0e20-4256-bd46-11f9b5e856d6"
      },
      "execution_count": 10,
      "outputs": [
        {
          "output_type": "execute_result",
          "data": {
            "text/plain": [
              "array([2, 3])"
            ]
          },
          "metadata": {},
          "execution_count": 10
        }
      ]
    },
    {
      "cell_type": "code",
      "source": [
        "# give me this result:  array([1, 3])\n",
        "a[::2]"
      ],
      "metadata": {
        "colab": {
          "base_uri": "https://localhost:8080/"
        },
        "id": "hTJIyegwKO5i",
        "outputId": "ac34489a-7409-46ff-f9e6-1977f56ef190"
      },
      "execution_count": 11,
      "outputs": [
        {
          "output_type": "execute_result",
          "data": {
            "text/plain": [
              "array([1, 3])"
            ]
          },
          "metadata": {},
          "execution_count": 11
        }
      ]
    },
    {
      "cell_type": "code",
      "source": [
        "b"
      ],
      "metadata": {
        "colab": {
          "base_uri": "https://localhost:8080/"
        },
        "id": "bUBRnuSFKx0Y",
        "outputId": "c680d66f-74f7-4812-ca40-7e56822c59e3"
      },
      "execution_count": 12,
      "outputs": [
        {
          "output_type": "execute_result",
          "data": {
            "text/plain": [
              "array([0. , 0.5, 1. , 1.5, 2. ])"
            ]
          },
          "metadata": {},
          "execution_count": 12
        }
      ]
    },
    {
      "cell_type": "code",
      "source": [
        "b[0], b[2], b[-1]"
      ],
      "metadata": {
        "colab": {
          "base_uri": "https://localhost:8080/"
        },
        "id": "YFrYYbe1LpBS",
        "outputId": "de9c1216-4119-40b4-9111-3c835402fb73"
      },
      "execution_count": 13,
      "outputs": [
        {
          "output_type": "execute_result",
          "data": {
            "text/plain": [
              "(0.0, 1.0, 2.0)"
            ]
          },
          "metadata": {},
          "execution_count": 13
        }
      ]
    },
    {
      "cell_type": "code",
      "source": [
        "# give me this result:  (0.0, 1.0, 2.0)\n",
        "b[::2]"
      ],
      "metadata": {
        "colab": {
          "base_uri": "https://localhost:8080/"
        },
        "id": "KsK0JRAlL4Vp",
        "outputId": "19148abc-44bd-4f11-b3fa-4fd1e7afbb4e"
      },
      "execution_count": 14,
      "outputs": [
        {
          "output_type": "execute_result",
          "data": {
            "text/plain": [
              "array([0., 1., 2.])"
            ]
          },
          "metadata": {},
          "execution_count": 14
        }
      ]
    },
    {
      "cell_type": "code",
      "source": [
        "# give me this result:  array([0., 1., 2.])\n",
        "b[[0, 2, -1]]"
      ],
      "metadata": {
        "colab": {
          "base_uri": "https://localhost:8080/"
        },
        "id": "CtaFoXEZM7Ca",
        "outputId": "bafbf01d-b80b-4fa2-9b4f-0d1d80a4dabe"
      },
      "execution_count": 15,
      "outputs": [
        {
          "output_type": "execute_result",
          "data": {
            "text/plain": [
              "array([0., 1., 2.])"
            ]
          },
          "metadata": {},
          "execution_count": 15
        }
      ]
    },
    {
      "cell_type": "markdown",
      "source": [
        "# Arrays Types\n"
      ],
      "metadata": {
        "id": "v83uy7vWNilf"
      }
    },
    {
      "cell_type": "code",
      "source": [
        "a"
      ],
      "metadata": {
        "colab": {
          "base_uri": "https://localhost:8080/"
        },
        "id": "rreI6_vhNwPH",
        "outputId": "63cbd56e-9ca8-46d4-edde-3a285b182de4"
      },
      "execution_count": 16,
      "outputs": [
        {
          "output_type": "execute_result",
          "data": {
            "text/plain": [
              "array([1, 2, 3, 4])"
            ]
          },
          "metadata": {},
          "execution_count": 16
        }
      ]
    },
    {
      "cell_type": "code",
      "source": [
        "# give me the type of data in the array a\n",
        "a.dtype"
      ],
      "metadata": {
        "colab": {
          "base_uri": "https://localhost:8080/"
        },
        "id": "fAi8_L0lPnuj",
        "outputId": "adfae4fa-f873-432e-a51e-8e5ecddac726"
      },
      "execution_count": 17,
      "outputs": [
        {
          "output_type": "execute_result",
          "data": {
            "text/plain": [
              "dtype('int64')"
            ]
          },
          "metadata": {},
          "execution_count": 17
        }
      ]
    },
    {
      "cell_type": "code",
      "source": [
        "b"
      ],
      "metadata": {
        "colab": {
          "base_uri": "https://localhost:8080/"
        },
        "id": "uOiWwoIpP1QI",
        "outputId": "565ffc0b-f4a4-4da7-e9dd-c66141794e16"
      },
      "execution_count": 18,
      "outputs": [
        {
          "output_type": "execute_result",
          "data": {
            "text/plain": [
              "array([0. , 0.5, 1. , 1.5, 2. ])"
            ]
          },
          "metadata": {},
          "execution_count": 18
        }
      ]
    },
    {
      "cell_type": "code",
      "source": [
        "# give me the type of data in the array b\n",
        "b.dtype"
      ],
      "metadata": {
        "colab": {
          "base_uri": "https://localhost:8080/"
        },
        "id": "H0pQi94gP7p6",
        "outputId": "25bb09b7-0e0c-49a6-d14d-9542f78e738f"
      },
      "execution_count": 19,
      "outputs": [
        {
          "output_type": "execute_result",
          "data": {
            "text/plain": [
              "dtype('float64')"
            ]
          },
          "metadata": {},
          "execution_count": 19
        }
      ]
    },
    {
      "cell_type": "code",
      "source": [
        "# convert the type of data to float64\n",
        "np.array([1, 2, 3, 4], dtype = float)"
      ],
      "metadata": {
        "colab": {
          "base_uri": "https://localhost:8080/"
        },
        "id": "wvU6WxggQUVN",
        "outputId": "cf196022-35e2-4c3b-c4c6-ed92f9cd6069"
      },
      "execution_count": 20,
      "outputs": [
        {
          "output_type": "execute_result",
          "data": {
            "text/plain": [
              "array([1., 2., 3., 4.])"
            ]
          },
          "metadata": {},
          "execution_count": 20
        }
      ]
    },
    {
      "cell_type": "code",
      "source": [
        "# convert the type of array to smaller integer bite\n",
        "np.array([1, 2, 3, 4], dtype = 'int8')"
      ],
      "metadata": {
        "colab": {
          "base_uri": "https://localhost:8080/"
        },
        "id": "Vn28xArvREuh",
        "outputId": "7137e9f8-f9f3-4bad-bf15-023a195a713e"
      },
      "execution_count": 21,
      "outputs": [
        {
          "output_type": "execute_result",
          "data": {
            "text/plain": [
              "array([1, 2, 3, 4], dtype=int8)"
            ]
          },
          "metadata": {},
          "execution_count": 21
        }
      ]
    },
    {
      "cell_type": "code",
      "source": [
        "c = np.array(['a', 'b', 'c'])\n",
        "c.dtype"
      ],
      "metadata": {
        "colab": {
          "base_uri": "https://localhost:8080/"
        },
        "id": "aUD4x9KBRoeX",
        "outputId": "63cfbc1c-5176-4344-be5f-b26daf5b6b10"
      },
      "execution_count": 22,
      "outputs": [
        {
          "output_type": "execute_result",
          "data": {
            "text/plain": [
              "dtype('<U1')"
            ]
          },
          "metadata": {},
          "execution_count": 22
        }
      ]
    },
    {
      "cell_type": "code",
      "source": [
        "d = np.array([{'a' : 6}, sys])"
      ],
      "metadata": {
        "id": "ENEAYdn-SGWx"
      },
      "execution_count": 23,
      "outputs": []
    },
    {
      "cell_type": "code",
      "source": [
        "d.dtype"
      ],
      "metadata": {
        "colab": {
          "base_uri": "https://localhost:8080/"
        },
        "id": "QhufomM7SsmI",
        "outputId": "3186bf8e-a429-42b7-8ffd-4696c0fef609"
      },
      "execution_count": 24,
      "outputs": [
        {
          "output_type": "execute_result",
          "data": {
            "text/plain": [
              "dtype('O')"
            ]
          },
          "metadata": {},
          "execution_count": 24
        }
      ]
    },
    {
      "cell_type": "markdown",
      "source": [
        "# Dimensions and shapes"
      ],
      "metadata": {
        "id": "DjZgSpsHS8L8"
      }
    },
    {
      "cell_type": "code",
      "source": [
        "# declare a new array name A\n",
        "A = np.array([\n",
        "    [1, 2, 3],\n",
        "    [4, 5, 6]\n",
        "])"
      ],
      "metadata": {
        "id": "8c7MYpdVTC7g"
      },
      "execution_count": 25,
      "outputs": []
    },
    {
      "cell_type": "code",
      "source": [
        "# recognition the numpers of columns and rows at the veriable A, with the shape function\n",
        "A.shape"
      ],
      "metadata": {
        "colab": {
          "base_uri": "https://localhost:8080/"
        },
        "id": "knmi0m8pT-fI",
        "outputId": "9c9de060-addf-48d8-e2c9-129c04da5de1"
      },
      "execution_count": 26,
      "outputs": [
        {
          "output_type": "execute_result",
          "data": {
            "text/plain": [
              "(2, 3)"
            ]
          },
          "metadata": {},
          "execution_count": 26
        }
      ]
    },
    {
      "cell_type": "code",
      "source": [
        "# recognition the numpers of dimensions at the variable A with the ndim function\n",
        "A.ndim"
      ],
      "metadata": {
        "colab": {
          "base_uri": "https://localhost:8080/"
        },
        "id": "Yg1Zf-g-U4Qx",
        "outputId": "79ff8c0d-29a9-405a-f9b9-5faa698f853f"
      },
      "execution_count": 27,
      "outputs": [
        {
          "output_type": "execute_result",
          "data": {
            "text/plain": [
              "2"
            ]
          },
          "metadata": {},
          "execution_count": 27
        }
      ]
    },
    {
      "cell_type": "code",
      "source": [
        "# recognition the total numper of all the rows at the variable A with the function of size\n",
        "A.size"
      ],
      "metadata": {
        "colab": {
          "base_uri": "https://localhost:8080/"
        },
        "id": "l-KPxSDkViYz",
        "outputId": "c3a79a76-bf9b-4138-e52d-311d9dcc884e"
      },
      "execution_count": 28,
      "outputs": [
        {
          "output_type": "execute_result",
          "data": {
            "text/plain": [
              "6"
            ]
          },
          "metadata": {},
          "execution_count": 28
        }
      ]
    },
    {
      "cell_type": "code",
      "source": [
        "# declare a new array variable name B with three dimension of data\n",
        "B = np.array([\n",
        "    [\n",
        "        [12, 11, 10],\n",
        "        [9, 8, 7],\n",
        "    ],\n",
        "    [\n",
        "        [6, 5, 4],\n",
        "        [3, 2, 1],\n",
        "    ]\n",
        "])"
      ],
      "metadata": {
        "id": "zfVc_gLgV3xt"
      },
      "execution_count": 29,
      "outputs": []
    },
    {
      "cell_type": "code",
      "source": [
        "# recognition the numpers of columns and rows at the variable B with the function of shape\n",
        "B.shape"
      ],
      "metadata": {
        "colab": {
          "base_uri": "https://localhost:8080/"
        },
        "id": "J6CKayyxXQbF",
        "outputId": "b890fe92-b758-4efc-9194-6f617abfe69e"
      },
      "execution_count": 30,
      "outputs": [
        {
          "output_type": "execute_result",
          "data": {
            "text/plain": [
              "(2, 2, 3)"
            ]
          },
          "metadata": {},
          "execution_count": 30
        }
      ]
    },
    {
      "cell_type": "code",
      "source": [
        "# recognition the numpers of dimensions at the variable B with the function of ndim\n",
        "B.ndim"
      ],
      "metadata": {
        "colab": {
          "base_uri": "https://localhost:8080/"
        },
        "id": "K4K2JrdNXjkW",
        "outputId": "57bce5b2-39b4-4a32-f0fa-1a44f854c712"
      },
      "execution_count": 31,
      "outputs": [
        {
          "output_type": "execute_result",
          "data": {
            "text/plain": [
              "3"
            ]
          },
          "metadata": {},
          "execution_count": 31
        }
      ]
    },
    {
      "cell_type": "code",
      "source": [
        "# recognition the total numpers of all data in the variable B with the function of size\n",
        "B.size"
      ],
      "metadata": {
        "colab": {
          "base_uri": "https://localhost:8080/"
        },
        "id": "Da1HqsfJXxaA",
        "outputId": "d101e8d7-4219-401c-e0c1-8969cc6c29db"
      },
      "execution_count": 32,
      "outputs": [
        {
          "output_type": "execute_result",
          "data": {
            "text/plain": [
              "12"
            ]
          },
          "metadata": {},
          "execution_count": 32
        }
      ]
    },
    {
      "cell_type": "markdown",
      "source": [
        "If the shape is not consistent, it'll just fall back to regular Python object"
      ],
      "metadata": {
        "id": "xcajFvPtYZtQ"
      }
    },
    {
      "cell_type": "markdown",
      "source": [
        "# Indexing and Slicing of Matrices"
      ],
      "metadata": {
        "id": "nsivGO6jSlXY"
      }
    },
    {
      "cell_type": "code",
      "source": [
        "# square matrix\n",
        "\n",
        "A = np.array([\n",
        "  #  0  1  2\n",
        "    [1, 2, 3], #0\n",
        "    [4, 5, 6], #1\n",
        "    [7, 8, 9], #2\n",
        "])"
      ],
      "metadata": {
        "id": "gnQtqv2DS58K"
      },
      "execution_count": 46,
      "outputs": []
    },
    {
      "cell_type": "code",
      "source": [
        "# select the secont row of elements\n",
        "A[1]"
      ],
      "metadata": {
        "id": "QY8z0_a6WqNa",
        "outputId": "a34bb2b8-5c4b-4a41-e0e8-c998255b2ce9",
        "colab": {
          "base_uri": "https://localhost:8080/"
        }
      },
      "execution_count": 47,
      "outputs": [
        {
          "output_type": "execute_result",
          "data": {
            "text/plain": [
              "array([4, 5, 6])"
            ]
          },
          "metadata": {},
          "execution_count": 47
        }
      ]
    },
    {
      "cell_type": "code",
      "source": [
        "# selct the first element of the second row\n",
        "A[1, 0] # for the second row 'A[1]' choose the first column 'A[:,0]"
      ],
      "metadata": {
        "id": "uy8arukAXQQj",
        "outputId": "f417c2fb-005b-41ca-a75c-977fa827d20f",
        "colab": {
          "base_uri": "https://localhost:8080/"
        }
      },
      "execution_count": 48,
      "outputs": [
        {
          "output_type": "execute_result",
          "data": {
            "text/plain": [
              "4"
            ]
          },
          "metadata": {},
          "execution_count": 48
        }
      ]
    },
    {
      "cell_type": "code",
      "source": [
        "# alternative approach same with the list\n",
        "A[1][0]"
      ],
      "metadata": {
        "id": "6OXORLj5YGsQ",
        "outputId": "dcbfc999-68c8-4037-d1b0-8f8c82d3868e",
        "colab": {
          "base_uri": "https://localhost:8080/"
        }
      },
      "execution_count": 49,
      "outputs": [
        {
          "output_type": "execute_result",
          "data": {
            "text/plain": [
              "4"
            ]
          },
          "metadata": {},
          "execution_count": 49
        }
      ]
    },
    {
      "cell_type": "code",
      "source": [
        "# select the firtst two rows\n",
        "A[:2] # is same with A[0:2]"
      ],
      "metadata": {
        "id": "mo9QoCzDY2a9",
        "outputId": "82b7f5ca-b65b-41ef-f5a1-8ead43679b67",
        "colab": {
          "base_uri": "https://localhost:8080/"
        }
      },
      "execution_count": 52,
      "outputs": [
        {
          "output_type": "execute_result",
          "data": {
            "text/plain": [
              "array([[1, 2, 3],\n",
              "       [4, 5, 6]])"
            ]
          },
          "metadata": {},
          "execution_count": 52
        }
      ]
    },
    {
      "cell_type": "code",
      "source": [
        "# select all elements of the last two columns\n",
        "A[:, 1:] # is same with A[:,  1:3]"
      ],
      "metadata": {
        "id": "1OWqR1rqZmU_",
        "outputId": "8c6e7762-0a9a-493a-f3f5-41d2ab778d64",
        "colab": {
          "base_uri": "https://localhost:8080/"
        }
      },
      "execution_count": 54,
      "outputs": [
        {
          "output_type": "execute_result",
          "data": {
            "text/plain": [
              "array([[2, 3],\n",
              "       [5, 6],\n",
              "       [8, 9]])"
            ]
          },
          "metadata": {},
          "execution_count": 54
        }
      ]
    },
    {
      "cell_type": "code",
      "source": [
        "# select the elements of the first two rows and the first two collumns\n",
        "A[:2,:2]"
      ],
      "metadata": {
        "id": "gWWr56q4aN4G",
        "outputId": "185f83a1-8f3b-4ab4-c0c1-0e7bb5e6fda9",
        "colab": {
          "base_uri": "https://localhost:8080/"
        }
      },
      "execution_count": 55,
      "outputs": [
        {
          "output_type": "execute_result",
          "data": {
            "text/plain": [
              "array([[1, 2],\n",
              "       [4, 5]])"
            ]
          },
          "metadata": {},
          "execution_count": 55
        }
      ]
    },
    {
      "cell_type": "code",
      "source": [
        "# select the elements of the first two rows and the last two columns\n",
        "A[:2, 1:]"
      ],
      "metadata": {
        "id": "O2jFtE85kziO",
        "outputId": "d04baa0e-146d-4c50-953d-b1a8bcfb058a",
        "colab": {
          "base_uri": "https://localhost:8080/"
        }
      },
      "execution_count": 57,
      "outputs": [
        {
          "output_type": "execute_result",
          "data": {
            "text/plain": [
              "array([[2, 3],\n",
              "       [5, 6]])"
            ]
          },
          "metadata": {},
          "execution_count": 57
        }
      ]
    },
    {
      "cell_type": "code",
      "source": [
        "A"
      ],
      "metadata": {
        "id": "kinalJObljwr",
        "outputId": "d5bc9a97-9bf8-4de8-b803-06b69201cc07",
        "colab": {
          "base_uri": "https://localhost:8080/"
        }
      },
      "execution_count": 58,
      "outputs": [
        {
          "output_type": "execute_result",
          "data": {
            "text/plain": [
              "array([[1, 2, 3],\n",
              "       [4, 5, 6],\n",
              "       [7, 8, 9]])"
            ]
          },
          "metadata": {},
          "execution_count": 58
        }
      ]
    },
    {
      "cell_type": "code",
      "source": [
        "# replace all elements of the second row with the numper of 10\n",
        "A[1] = np.array([10, 10, 10])"
      ],
      "metadata": {
        "id": "chxUc__TmBtv"
      },
      "execution_count": 68,
      "outputs": []
    },
    {
      "cell_type": "code",
      "source": [
        "# replace the elements of third row with the numper of 99\n",
        "A[2] = 99\n",
        "A"
      ],
      "metadata": {
        "id": "CqglxcfIloFn",
        "outputId": "daccc09b-e3e8-442c-8a8b-ce3a15fd2ccd",
        "colab": {
          "base_uri": "https://localhost:8080/"
        }
      },
      "execution_count": 69,
      "outputs": [
        {
          "output_type": "execute_result",
          "data": {
            "text/plain": [
              "array([[ 1,  2,  3],\n",
              "       [10, 10, 10],\n",
              "       [99, 99, 99]])"
            ]
          },
          "metadata": {},
          "execution_count": 69
        }
      ]
    },
    {
      "cell_type": "markdown",
      "source": [
        "# Summary statistics\n"
      ],
      "metadata": {
        "id": "6dWuHJ8Wl2eQ"
      }
    },
    {
      "cell_type": "code",
      "source": [
        "a = np.array([1, 2, 3, 4])"
      ],
      "metadata": {
        "id": "DHtgJ65JnIQk"
      },
      "execution_count": 70,
      "outputs": []
    },
    {
      "cell_type": "code",
      "source": [
        "# find the sum of all ellements at the array variable a\n",
        "a.sum()"
      ],
      "metadata": {
        "id": "_8qSOTDUnQpC",
        "outputId": "eee232d5-dfd5-4798-8afa-f6a9e034856b",
        "colab": {
          "base_uri": "https://localhost:8080/"
        }
      },
      "execution_count": 71,
      "outputs": [
        {
          "output_type": "execute_result",
          "data": {
            "text/plain": [
              "10"
            ]
          },
          "metadata": {},
          "execution_count": 71
        }
      ]
    },
    {
      "cell_type": "code",
      "source": [
        "# find the mean of the ellements at the array variable a\n",
        "a.mean()"
      ],
      "metadata": {
        "id": "gEzmExT2nyS4",
        "outputId": "fdca12f4-d71e-4a8a-ed51-efbc102e1ebc",
        "colab": {
          "base_uri": "https://localhost:8080/"
        }
      },
      "execution_count": 72,
      "outputs": [
        {
          "output_type": "execute_result",
          "data": {
            "text/plain": [
              "2.5"
            ]
          },
          "metadata": {},
          "execution_count": 72
        }
      ]
    },
    {
      "cell_type": "code",
      "source": [
        "# find the standart deviation of the elemants at the array variable a\n",
        "a.std()"
      ],
      "metadata": {
        "id": "LTK1kXb1n9wd",
        "outputId": "6f7acf02-8788-4a6b-b0ec-6847e355a251",
        "colab": {
          "base_uri": "https://localhost:8080/"
        }
      },
      "execution_count": 73,
      "outputs": [
        {
          "output_type": "execute_result",
          "data": {
            "text/plain": [
              "1.118033988749895"
            ]
          },
          "metadata": {},
          "execution_count": 73
        }
      ]
    },
    {
      "cell_type": "code",
      "source": [
        "# find the variance at the array variable a\n",
        "a.var()"
      ],
      "metadata": {
        "id": "qKPkBwfoo1yZ",
        "outputId": "713e8f97-4be7-45b9-d775-fef2ceba17fc",
        "colab": {
          "base_uri": "https://localhost:8080/"
        }
      },
      "execution_count": 74,
      "outputs": [
        {
          "output_type": "execute_result",
          "data": {
            "text/plain": [
              "1.25"
            ]
          },
          "metadata": {},
          "execution_count": 74
        }
      ]
    },
    {
      "cell_type": "code",
      "source": [
        "A = np.array([\n",
        "    [1, 2, 3],\n",
        "    [4, 5, 6],\n",
        "    [7, 8, 9]\n",
        "])"
      ],
      "metadata": {
        "id": "jwMu8cgLpStc"
      },
      "execution_count": 75,
      "outputs": []
    },
    {
      "cell_type": "code",
      "source": [
        "A.sum()"
      ],
      "metadata": {
        "id": "adhY-lXbpm44",
        "outputId": "c8466845-9399-4279-be81-a85fa6c23dcd",
        "colab": {
          "base_uri": "https://localhost:8080/"
        }
      },
      "execution_count": 76,
      "outputs": [
        {
          "output_type": "execute_result",
          "data": {
            "text/plain": [
              "45"
            ]
          },
          "metadata": {},
          "execution_count": 76
        }
      ]
    },
    {
      "cell_type": "code",
      "source": [
        "A.mean()"
      ],
      "metadata": {
        "id": "-fWPYwOqp6LE",
        "outputId": "3f80112a-cd55-4b72-e486-2351090e867b",
        "colab": {
          "base_uri": "https://localhost:8080/"
        }
      },
      "execution_count": 77,
      "outputs": [
        {
          "output_type": "execute_result",
          "data": {
            "text/plain": [
              "5.0"
            ]
          },
          "metadata": {},
          "execution_count": 77
        }
      ]
    },
    {
      "cell_type": "code",
      "source": [
        "A.std()"
      ],
      "metadata": {
        "id": "uI_sqAEIp_EF",
        "outputId": "adb05002-1551-4ca4-fb48-ad31594797ca",
        "colab": {
          "base_uri": "https://localhost:8080/"
        }
      },
      "execution_count": 78,
      "outputs": [
        {
          "output_type": "execute_result",
          "data": {
            "text/plain": [
              "2.581988897471611"
            ]
          },
          "metadata": {},
          "execution_count": 78
        }
      ]
    },
    {
      "cell_type": "code",
      "source": [
        "A.var()"
      ],
      "metadata": {
        "id": "kpzKSeU9qDne",
        "outputId": "78f81833-8fbe-44b4-9640-11b6ad4c301b",
        "colab": {
          "base_uri": "https://localhost:8080/"
        }
      },
      "execution_count": 79,
      "outputs": [
        {
          "output_type": "execute_result",
          "data": {
            "text/plain": [
              "6.666666666666667"
            ]
          },
          "metadata": {},
          "execution_count": 79
        }
      ]
    },
    {
      "cell_type": "code",
      "source": [
        "A.sum(axis = 0) # axis = 0 is the axis of columns (vertical)\n",
        "# in this case it returns an array with the sum of all columns"
      ],
      "metadata": {
        "id": "0tApqmG7qGat",
        "outputId": "ad904fb9-af75-41f3-9892-9d3885252143",
        "colab": {
          "base_uri": "https://localhost:8080/"
        }
      },
      "execution_count": 81,
      "outputs": [
        {
          "output_type": "execute_result",
          "data": {
            "text/plain": [
              "array([12, 15, 18])"
            ]
          },
          "metadata": {},
          "execution_count": 81
        }
      ]
    },
    {
      "cell_type": "code",
      "source": [
        "A.sum(axis = 1) # axis = 1 is the axis of rows (vertical)\n",
        "# in this case it returns an array with the sum of all rows"
      ],
      "metadata": {
        "id": "8Fq5MB0YqJw9"
      },
      "execution_count": null,
      "outputs": []
    },
    {
      "cell_type": "code",
      "source": [
        "A.mean(axis = 0)"
      ],
      "metadata": {
        "id": "cTozLxGysZlP",
        "outputId": "b75abcf2-a7dd-49f1-b443-b9a94974eee8",
        "colab": {
          "base_uri": "https://localhost:8080/"
        }
      },
      "execution_count": 82,
      "outputs": [
        {
          "output_type": "execute_result",
          "data": {
            "text/plain": [
              "array([4., 5., 6.])"
            ]
          },
          "metadata": {},
          "execution_count": 82
        }
      ]
    },
    {
      "cell_type": "code",
      "source": [
        "A.mean(axis = 1)"
      ],
      "metadata": {
        "id": "MN36-9LoshVL",
        "outputId": "ed7bdabc-1e04-4b8d-f9e8-dc5851eac9ff",
        "colab": {
          "base_uri": "https://localhost:8080/"
        }
      },
      "execution_count": 83,
      "outputs": [
        {
          "output_type": "execute_result",
          "data": {
            "text/plain": [
              "array([2., 5., 8.])"
            ]
          },
          "metadata": {},
          "execution_count": 83
        }
      ]
    },
    {
      "cell_type": "code",
      "source": [
        "A.std(axis = 0)"
      ],
      "metadata": {
        "id": "YmizmBM4so6C",
        "outputId": "d6878c80-6635-48dd-f3bd-38c367c019ad",
        "colab": {
          "base_uri": "https://localhost:8080/"
        }
      },
      "execution_count": 84,
      "outputs": [
        {
          "output_type": "execute_result",
          "data": {
            "text/plain": [
              "array([2.44948974, 2.44948974, 2.44948974])"
            ]
          },
          "metadata": {},
          "execution_count": 84
        }
      ]
    },
    {
      "cell_type": "code",
      "source": [
        "A.std(axis = 1)"
      ],
      "metadata": {
        "id": "YkXwmukUs4fE",
        "outputId": "dbb85961-90ee-4b77-b705-b2daf40479a6",
        "colab": {
          "base_uri": "https://localhost:8080/"
        }
      },
      "execution_count": 85,
      "outputs": [
        {
          "output_type": "execute_result",
          "data": {
            "text/plain": [
              "array([0.81649658, 0.81649658, 0.81649658])"
            ]
          },
          "metadata": {},
          "execution_count": 85
        }
      ]
    },
    {
      "cell_type": "code",
      "source": [
        "A.var(axis = 0)"
      ],
      "metadata": {
        "id": "i2gQz7NTs7np",
        "outputId": "c873882b-effb-4c09-ccd9-c5d86831b233",
        "colab": {
          "base_uri": "https://localhost:8080/"
        }
      },
      "execution_count": 86,
      "outputs": [
        {
          "output_type": "execute_result",
          "data": {
            "text/plain": [
              "array([6., 6., 6.])"
            ]
          },
          "metadata": {},
          "execution_count": 86
        }
      ]
    },
    {
      "cell_type": "code",
      "source": [
        "A.var(axis = 1)"
      ],
      "metadata": {
        "id": "vpCgPDFls_td",
        "outputId": "9775ad1d-0715-420e-a32e-6f01178fa781",
        "colab": {
          "base_uri": "https://localhost:8080/"
        }
      },
      "execution_count": 87,
      "outputs": [
        {
          "output_type": "execute_result",
          "data": {
            "text/plain": [
              "array([0.66666667, 0.66666667, 0.66666667])"
            ]
          },
          "metadata": {},
          "execution_count": 87
        }
      ]
    },
    {
      "cell_type": "code",
      "source": [],
      "metadata": {
        "id": "XsuGxxuKtCB9"
      },
      "execution_count": null,
      "outputs": []
    }
  ]
}