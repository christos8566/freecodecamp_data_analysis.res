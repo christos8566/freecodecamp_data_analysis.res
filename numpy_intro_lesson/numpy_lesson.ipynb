{
  "nbformat": 4,
  "nbformat_minor": 0,
  "metadata": {
    "colab": {
      "provenance": [],
      "mount_file_id": "1EMbiN6oaVvdT46o5RoGqT4Llqr3Ba7Du",
      "authorship_tag": "ABX9TyO4oA7DrV9vHuzr8A9uqEFx",
      "include_colab_link": true
    },
    "kernelspec": {
      "name": "python3",
      "display_name": "Python 3"
    },
    "language_info": {
      "name": "python"
    }
  },
  "cells": [
    {
      "cell_type": "markdown",
      "metadata": {
        "id": "view-in-github",
        "colab_type": "text"
      },
      "source": [
        "<a href=\"https://colab.research.google.com/github/christos8566/freecodecamp_data_analysis.res/blob/main/numpy_intro_lesson/numpy_lesson.ipynb\" target=\"_parent\"><img src=\"https://colab.research.google.com/assets/colab-badge.svg\" alt=\"Open In Colab\"/></a>"
      ]
    },
    {
      "cell_type": "markdown",
      "source": [
        "# Hands on!\n",
        "\n",
        " import the libraries"
      ],
      "metadata": {
        "id": "bdTLFF_MGG4-"
      }
    },
    {
      "cell_type": "code",
      "source": [
        "import sys\n",
        "import numpy as np\n"
      ],
      "metadata": {
        "id": "XVVB41a6HHZS"
      },
      "execution_count": 2,
      "outputs": []
    },
    {
      "cell_type": "markdown",
      "source": [
        "# Basic numpy arrays"
      ],
      "metadata": {
        "id": "MArSigpJHk7V"
      }
    },
    {
      "cell_type": "code",
      "source": [
        "np.array([1, 2, 3, 4])"
      ],
      "metadata": {
        "colab": {
          "base_uri": "https://localhost:8080/"
        },
        "id": "j6nq9WbjHvHW",
        "outputId": "3a5f1ced-b079-46ce-ffde-1f6eacbf5677"
      },
      "execution_count": 3,
      "outputs": [
        {
          "output_type": "execute_result",
          "data": {
            "text/plain": [
              "array([1, 2, 3, 4])"
            ]
          },
          "metadata": {},
          "execution_count": 3
        }
      ]
    },
    {
      "cell_type": "code",
      "source": [
        "a = np.array([1, 2, 3, 4])"
      ],
      "metadata": {
        "id": "z2pe3Ev7IG4o"
      },
      "execution_count": 4,
      "outputs": []
    },
    {
      "cell_type": "code",
      "source": [
        "b = np.array([0, .5, 1., 1.5, 2.])"
      ],
      "metadata": {
        "id": "xzgq6ZyuIMrw"
      },
      "execution_count": 5,
      "outputs": []
    },
    {
      "cell_type": "code",
      "source": [
        "# give me this result:  (1, 2)\n",
        "a[0], a[1]"
      ],
      "metadata": {
        "colab": {
          "base_uri": "https://localhost:8080/"
        },
        "id": "LBoyuH6rIcwg",
        "outputId": "bab02cf1-c447-45a3-818a-f02426cbde6a"
      },
      "execution_count": 6,
      "outputs": [
        {
          "output_type": "execute_result",
          "data": {
            "text/plain": [
              "(1, 2)"
            ]
          },
          "metadata": {},
          "execution_count": 6
        }
      ]
    },
    {
      "cell_type": "code",
      "source": [
        "# give me this result:  array([1, 2, 3, 4])\n",
        "a[:]"
      ],
      "metadata": {
        "colab": {
          "base_uri": "https://localhost:8080/"
        },
        "id": "7L8_9_wbI4LY",
        "outputId": "cc7b69dc-ca5b-4eed-d31c-2f53d3a168b6"
      },
      "execution_count": 7,
      "outputs": [
        {
          "output_type": "execute_result",
          "data": {
            "text/plain": [
              "array([1, 2, 3, 4])"
            ]
          },
          "metadata": {},
          "execution_count": 7
        }
      ]
    },
    {
      "cell_type": "code",
      "source": [
        "# give me this result:  array([2, 3])\n",
        "a[1:3]"
      ],
      "metadata": {
        "colab": {
          "base_uri": "https://localhost:8080/"
        },
        "id": "WeUIHNqfJgBp",
        "outputId": "5f0bb2a8-2b63-4954-9e2c-e577f2201243"
      },
      "execution_count": 8,
      "outputs": [
        {
          "output_type": "execute_result",
          "data": {
            "text/plain": [
              "array([2, 3])"
            ]
          },
          "metadata": {},
          "execution_count": 8
        }
      ]
    },
    {
      "cell_type": "code",
      "source": [
        "# give me this result:  array([2, 3])\n",
        "a[1:-1]"
      ],
      "metadata": {
        "colab": {
          "base_uri": "https://localhost:8080/"
        },
        "id": "wVQIqQmaJ1GF",
        "outputId": "25c3b7c9-08b5-46aa-c87c-41cb512eeb71"
      },
      "execution_count": 9,
      "outputs": [
        {
          "output_type": "execute_result",
          "data": {
            "text/plain": [
              "array([2, 3])"
            ]
          },
          "metadata": {},
          "execution_count": 9
        }
      ]
    },
    {
      "cell_type": "code",
      "source": [
        "# give me this result:  array([1, 3])\n",
        "a[::2]"
      ],
      "metadata": {
        "colab": {
          "base_uri": "https://localhost:8080/"
        },
        "id": "hTJIyegwKO5i",
        "outputId": "1f681a81-503c-42fb-9972-39822834fb7c"
      },
      "execution_count": 10,
      "outputs": [
        {
          "output_type": "execute_result",
          "data": {
            "text/plain": [
              "array([1, 3])"
            ]
          },
          "metadata": {},
          "execution_count": 10
        }
      ]
    },
    {
      "cell_type": "code",
      "source": [
        "b"
      ],
      "metadata": {
        "colab": {
          "base_uri": "https://localhost:8080/"
        },
        "id": "bUBRnuSFKx0Y",
        "outputId": "f5830809-6a55-4e1a-8598-756b8fd75abf"
      },
      "execution_count": 11,
      "outputs": [
        {
          "output_type": "execute_result",
          "data": {
            "text/plain": [
              "array([0. , 0.5, 1. , 1.5, 2. ])"
            ]
          },
          "metadata": {},
          "execution_count": 11
        }
      ]
    },
    {
      "cell_type": "code",
      "source": [
        "b[0], b[2], b[-1]"
      ],
      "metadata": {
        "colab": {
          "base_uri": "https://localhost:8080/"
        },
        "id": "YFrYYbe1LpBS",
        "outputId": "3530dd94-1be9-4a97-e6ff-80cf33a27294"
      },
      "execution_count": 12,
      "outputs": [
        {
          "output_type": "execute_result",
          "data": {
            "text/plain": [
              "(0.0, 1.0, 2.0)"
            ]
          },
          "metadata": {},
          "execution_count": 12
        }
      ]
    },
    {
      "cell_type": "code",
      "source": [
        "# give me this result:  (0.0, 1.0, 2.0)\n",
        "b[::2]"
      ],
      "metadata": {
        "colab": {
          "base_uri": "https://localhost:8080/"
        },
        "id": "KsK0JRAlL4Vp",
        "outputId": "31f606c7-ae7f-43b2-fa93-5a8b5b184832"
      },
      "execution_count": 13,
      "outputs": [
        {
          "output_type": "execute_result",
          "data": {
            "text/plain": [
              "array([0., 1., 2.])"
            ]
          },
          "metadata": {},
          "execution_count": 13
        }
      ]
    },
    {
      "cell_type": "code",
      "source": [
        "# give me this result:  array([0., 1., 2.])\n",
        "b[[0, 2, -1]]"
      ],
      "metadata": {
        "colab": {
          "base_uri": "https://localhost:8080/"
        },
        "id": "CtaFoXEZM7Ca",
        "outputId": "10c191bc-c6e4-4838-b364-88334eb2c1d9"
      },
      "execution_count": 14,
      "outputs": [
        {
          "output_type": "execute_result",
          "data": {
            "text/plain": [
              "array([0., 1., 2.])"
            ]
          },
          "metadata": {},
          "execution_count": 14
        }
      ]
    },
    {
      "cell_type": "markdown",
      "source": [
        "# Arrays Types\n"
      ],
      "metadata": {
        "id": "v83uy7vWNilf"
      }
    },
    {
      "cell_type": "code",
      "source": [
        "a"
      ],
      "metadata": {
        "colab": {
          "base_uri": "https://localhost:8080/"
        },
        "id": "rreI6_vhNwPH",
        "outputId": "f53921db-cede-4615-b61b-e3588f6bd36a"
      },
      "execution_count": 15,
      "outputs": [
        {
          "output_type": "execute_result",
          "data": {
            "text/plain": [
              "array([1, 2, 3, 4])"
            ]
          },
          "metadata": {},
          "execution_count": 15
        }
      ]
    },
    {
      "cell_type": "code",
      "source": [
        "# give me the type of data in the array a\n",
        "a.dtype"
      ],
      "metadata": {
        "colab": {
          "base_uri": "https://localhost:8080/"
        },
        "id": "fAi8_L0lPnuj",
        "outputId": "b72168c4-25c1-4beb-9825-293d59cc4f13"
      },
      "execution_count": 16,
      "outputs": [
        {
          "output_type": "execute_result",
          "data": {
            "text/plain": [
              "dtype('int64')"
            ]
          },
          "metadata": {},
          "execution_count": 16
        }
      ]
    },
    {
      "cell_type": "code",
      "source": [
        "b"
      ],
      "metadata": {
        "colab": {
          "base_uri": "https://localhost:8080/"
        },
        "id": "uOiWwoIpP1QI",
        "outputId": "07005991-8053-486a-dade-2060c55280db"
      },
      "execution_count": 17,
      "outputs": [
        {
          "output_type": "execute_result",
          "data": {
            "text/plain": [
              "array([0. , 0.5, 1. , 1.5, 2. ])"
            ]
          },
          "metadata": {},
          "execution_count": 17
        }
      ]
    },
    {
      "cell_type": "code",
      "source": [
        "# give me the type of data in the array b\n",
        "b.dtype"
      ],
      "metadata": {
        "colab": {
          "base_uri": "https://localhost:8080/"
        },
        "id": "H0pQi94gP7p6",
        "outputId": "e8ed3815-8894-4922-af17-a0efc4d0050e"
      },
      "execution_count": 18,
      "outputs": [
        {
          "output_type": "execute_result",
          "data": {
            "text/plain": [
              "dtype('float64')"
            ]
          },
          "metadata": {},
          "execution_count": 18
        }
      ]
    },
    {
      "cell_type": "code",
      "source": [
        "# convert the type of data to float64\n",
        "np.array([1, 2, 3, 4], dtype = float)"
      ],
      "metadata": {
        "colab": {
          "base_uri": "https://localhost:8080/"
        },
        "id": "wvU6WxggQUVN",
        "outputId": "74dfc0b1-8321-4488-a436-1dd516530fe4"
      },
      "execution_count": 19,
      "outputs": [
        {
          "output_type": "execute_result",
          "data": {
            "text/plain": [
              "array([1., 2., 3., 4.])"
            ]
          },
          "metadata": {},
          "execution_count": 19
        }
      ]
    },
    {
      "cell_type": "code",
      "source": [
        "# convert the type of array to smaller integer bite\n",
        "np.array([1, 2, 3, 4], dtype = 'int8')"
      ],
      "metadata": {
        "colab": {
          "base_uri": "https://localhost:8080/"
        },
        "id": "Vn28xArvREuh",
        "outputId": "221cd1c4-06cc-494f-d239-5108b5978e22"
      },
      "execution_count": 20,
      "outputs": [
        {
          "output_type": "execute_result",
          "data": {
            "text/plain": [
              "array([1, 2, 3, 4], dtype=int8)"
            ]
          },
          "metadata": {},
          "execution_count": 20
        }
      ]
    },
    {
      "cell_type": "code",
      "source": [
        "c = np.array(['a', 'b', 'c'])\n",
        "c.dtype"
      ],
      "metadata": {
        "colab": {
          "base_uri": "https://localhost:8080/"
        },
        "id": "aUD4x9KBRoeX",
        "outputId": "b46ecac9-ec62-4bce-d6d2-fbc541150252"
      },
      "execution_count": 21,
      "outputs": [
        {
          "output_type": "execute_result",
          "data": {
            "text/plain": [
              "dtype('<U1')"
            ]
          },
          "metadata": {},
          "execution_count": 21
        }
      ]
    },
    {
      "cell_type": "code",
      "source": [
        "d = np.array([{'a' : 6}, sys])"
      ],
      "metadata": {
        "id": "ENEAYdn-SGWx"
      },
      "execution_count": 22,
      "outputs": []
    },
    {
      "cell_type": "code",
      "source": [
        "d.dtype"
      ],
      "metadata": {
        "colab": {
          "base_uri": "https://localhost:8080/"
        },
        "id": "QhufomM7SsmI",
        "outputId": "c8141d47-15f8-46e1-8be3-84a76771fde2"
      },
      "execution_count": 23,
      "outputs": [
        {
          "output_type": "execute_result",
          "data": {
            "text/plain": [
              "dtype('O')"
            ]
          },
          "metadata": {},
          "execution_count": 23
        }
      ]
    },
    {
      "cell_type": "markdown",
      "source": [
        "# Dimensions and shapes"
      ],
      "metadata": {
        "id": "DjZgSpsHS8L8"
      }
    },
    {
      "cell_type": "code",
      "source": [
        "# declare a new array name A\n",
        "A = np.array([\n",
        "    [1, 2, 3],\n",
        "    [4, 5, 6]\n",
        "])"
      ],
      "metadata": {
        "id": "8c7MYpdVTC7g"
      },
      "execution_count": 24,
      "outputs": []
    },
    {
      "cell_type": "code",
      "source": [
        "# recognition the numpers of columns and rows at the veriable A, with the shape function\n",
        "A.shape"
      ],
      "metadata": {
        "colab": {
          "base_uri": "https://localhost:8080/"
        },
        "id": "knmi0m8pT-fI",
        "outputId": "ca77cd9f-f129-4bfc-8c56-44bd32b9554a"
      },
      "execution_count": 25,
      "outputs": [
        {
          "output_type": "execute_result",
          "data": {
            "text/plain": [
              "(2, 3)"
            ]
          },
          "metadata": {},
          "execution_count": 25
        }
      ]
    },
    {
      "cell_type": "code",
      "source": [
        "# recognition the numpers of dimensions at the variable A with the ndim function\n",
        "A.ndim"
      ],
      "metadata": {
        "colab": {
          "base_uri": "https://localhost:8080/"
        },
        "id": "Yg1Zf-g-U4Qx",
        "outputId": "dda81624-8f03-433c-f176-3367c67a0b06"
      },
      "execution_count": 26,
      "outputs": [
        {
          "output_type": "execute_result",
          "data": {
            "text/plain": [
              "2"
            ]
          },
          "metadata": {},
          "execution_count": 26
        }
      ]
    },
    {
      "cell_type": "code",
      "source": [
        "# recognition the total numper of all the rows at the variable A with the function of size\n",
        "A.size"
      ],
      "metadata": {
        "colab": {
          "base_uri": "https://localhost:8080/"
        },
        "id": "l-KPxSDkViYz",
        "outputId": "ca99421a-067d-441b-e904-775094626c56"
      },
      "execution_count": 27,
      "outputs": [
        {
          "output_type": "execute_result",
          "data": {
            "text/plain": [
              "6"
            ]
          },
          "metadata": {},
          "execution_count": 27
        }
      ]
    },
    {
      "cell_type": "code",
      "source": [
        "# declare a new array variable name B with three dimension of data\n",
        "B = np.array([\n",
        "    [\n",
        "        [12, 11, 10],\n",
        "        [9, 8, 7],\n",
        "    ],\n",
        "    [\n",
        "        [6, 5, 4],\n",
        "        [3, 2, 1],\n",
        "    ]\n",
        "])"
      ],
      "metadata": {
        "id": "zfVc_gLgV3xt"
      },
      "execution_count": 28,
      "outputs": []
    },
    {
      "cell_type": "code",
      "source": [
        "# recognition the numpers of columns and rows at the variable B with the function of shape\n",
        "B.shape"
      ],
      "metadata": {
        "colab": {
          "base_uri": "https://localhost:8080/"
        },
        "id": "J6CKayyxXQbF",
        "outputId": "2be1ea9d-430a-466b-9b0c-33ecab342b76"
      },
      "execution_count": 29,
      "outputs": [
        {
          "output_type": "execute_result",
          "data": {
            "text/plain": [
              "(2, 2, 3)"
            ]
          },
          "metadata": {},
          "execution_count": 29
        }
      ]
    },
    {
      "cell_type": "code",
      "source": [
        "# recognition the numpers of dimensions at the variable B with the function of ndim\n",
        "B.ndim"
      ],
      "metadata": {
        "colab": {
          "base_uri": "https://localhost:8080/"
        },
        "id": "K4K2JrdNXjkW",
        "outputId": "1345ff0e-2a91-43ba-ff9e-e56945cb0515"
      },
      "execution_count": 30,
      "outputs": [
        {
          "output_type": "execute_result",
          "data": {
            "text/plain": [
              "3"
            ]
          },
          "metadata": {},
          "execution_count": 30
        }
      ]
    },
    {
      "cell_type": "code",
      "source": [
        "# recognition the total numpers of all data in the variable B with the function of size\n",
        "B.size"
      ],
      "metadata": {
        "colab": {
          "base_uri": "https://localhost:8080/"
        },
        "id": "Da1HqsfJXxaA",
        "outputId": "0c6655d7-1698-46c6-a89c-2af949299810"
      },
      "execution_count": 31,
      "outputs": [
        {
          "output_type": "execute_result",
          "data": {
            "text/plain": [
              "12"
            ]
          },
          "metadata": {},
          "execution_count": 31
        }
      ]
    },
    {
      "cell_type": "markdown",
      "source": [
        "If the shape is not consistent, it'll just fall back to regular Python object"
      ],
      "metadata": {
        "id": "xcajFvPtYZtQ"
      }
    },
    {
      "cell_type": "markdown",
      "source": [
        "# Indexing and Slicing of Matrices"
      ],
      "metadata": {
        "id": "nsivGO6jSlXY"
      }
    },
    {
      "cell_type": "code",
      "source": [
        "# square matrix\n",
        "\n",
        "A = np.array([\n",
        "  #  0  1  2\n",
        "    [1, 2, 3], #0\n",
        "    [4, 5, 6], #1\n",
        "    [7, 8, 9], #2\n",
        "])"
      ],
      "metadata": {
        "id": "gnQtqv2DS58K"
      },
      "execution_count": 32,
      "outputs": []
    },
    {
      "cell_type": "code",
      "source": [
        "# select the secont row of elements\n",
        "A[1]"
      ],
      "metadata": {
        "id": "QY8z0_a6WqNa",
        "outputId": "c718572e-394a-494d-e5dd-d93dfb6b5c59",
        "colab": {
          "base_uri": "https://localhost:8080/"
        }
      },
      "execution_count": 33,
      "outputs": [
        {
          "output_type": "execute_result",
          "data": {
            "text/plain": [
              "array([4, 5, 6])"
            ]
          },
          "metadata": {},
          "execution_count": 33
        }
      ]
    },
    {
      "cell_type": "code",
      "source": [
        "# selct the first element of the second row\n",
        "A[1, 0] # for the second row 'A[1]' choose the first column 'A[:,0]"
      ],
      "metadata": {
        "id": "uy8arukAXQQj",
        "outputId": "9c989988-4dfb-4f78-9fbf-7cef245a8c12",
        "colab": {
          "base_uri": "https://localhost:8080/"
        }
      },
      "execution_count": 34,
      "outputs": [
        {
          "output_type": "execute_result",
          "data": {
            "text/plain": [
              "4"
            ]
          },
          "metadata": {},
          "execution_count": 34
        }
      ]
    },
    {
      "cell_type": "code",
      "source": [
        "# alternative approach same with the list\n",
        "A[1][0]"
      ],
      "metadata": {
        "id": "6OXORLj5YGsQ",
        "outputId": "922cce0e-2f26-4767-a522-1b97aa62a897",
        "colab": {
          "base_uri": "https://localhost:8080/"
        }
      },
      "execution_count": 35,
      "outputs": [
        {
          "output_type": "execute_result",
          "data": {
            "text/plain": [
              "4"
            ]
          },
          "metadata": {},
          "execution_count": 35
        }
      ]
    },
    {
      "cell_type": "code",
      "source": [
        "# select the firtst two rows\n",
        "A[:2] # is same with A[0:2]"
      ],
      "metadata": {
        "id": "mo9QoCzDY2a9",
        "outputId": "7afa39a7-97e1-438b-ca69-9fcd3c934145",
        "colab": {
          "base_uri": "https://localhost:8080/"
        }
      },
      "execution_count": 36,
      "outputs": [
        {
          "output_type": "execute_result",
          "data": {
            "text/plain": [
              "array([[1, 2, 3],\n",
              "       [4, 5, 6]])"
            ]
          },
          "metadata": {},
          "execution_count": 36
        }
      ]
    },
    {
      "cell_type": "code",
      "source": [
        "# select all elements of the last two columns\n",
        "A[:, 1:] # is same with A[:,  1:3]"
      ],
      "metadata": {
        "id": "1OWqR1rqZmU_",
        "outputId": "7262fe35-8b3b-45b3-c87f-b2dca456ae5d",
        "colab": {
          "base_uri": "https://localhost:8080/"
        }
      },
      "execution_count": 37,
      "outputs": [
        {
          "output_type": "execute_result",
          "data": {
            "text/plain": [
              "array([[2, 3],\n",
              "       [5, 6],\n",
              "       [8, 9]])"
            ]
          },
          "metadata": {},
          "execution_count": 37
        }
      ]
    },
    {
      "cell_type": "code",
      "source": [
        "# select the elements of the first two rows and the first two collumns\n",
        "A[:2,:2]"
      ],
      "metadata": {
        "id": "gWWr56q4aN4G",
        "outputId": "a08e2971-af94-4154-f529-68afa55c2c67",
        "colab": {
          "base_uri": "https://localhost:8080/"
        }
      },
      "execution_count": 38,
      "outputs": [
        {
          "output_type": "execute_result",
          "data": {
            "text/plain": [
              "array([[1, 2],\n",
              "       [4, 5]])"
            ]
          },
          "metadata": {},
          "execution_count": 38
        }
      ]
    },
    {
      "cell_type": "code",
      "source": [
        "# select the elements of the first two rows and the last two columns\n",
        "A[:2, 1:]"
      ],
      "metadata": {
        "id": "O2jFtE85kziO",
        "outputId": "bcb5daf6-1c4b-4a3f-88a6-2e486a41f2fd",
        "colab": {
          "base_uri": "https://localhost:8080/"
        }
      },
      "execution_count": 39,
      "outputs": [
        {
          "output_type": "execute_result",
          "data": {
            "text/plain": [
              "array([[2, 3],\n",
              "       [5, 6]])"
            ]
          },
          "metadata": {},
          "execution_count": 39
        }
      ]
    },
    {
      "cell_type": "code",
      "source": [
        "A"
      ],
      "metadata": {
        "id": "kinalJObljwr",
        "outputId": "ea51552a-8321-4fe2-feba-63ffb34c0ae3",
        "colab": {
          "base_uri": "https://localhost:8080/"
        }
      },
      "execution_count": 40,
      "outputs": [
        {
          "output_type": "execute_result",
          "data": {
            "text/plain": [
              "array([[1, 2, 3],\n",
              "       [4, 5, 6],\n",
              "       [7, 8, 9]])"
            ]
          },
          "metadata": {},
          "execution_count": 40
        }
      ]
    },
    {
      "cell_type": "code",
      "source": [
        "# replace all elements of the second row with the numper of 10\n",
        "A[1] = np.array([10, 10, 10])"
      ],
      "metadata": {
        "id": "chxUc__TmBtv"
      },
      "execution_count": 41,
      "outputs": []
    },
    {
      "cell_type": "code",
      "source": [
        "# replace the elements of third row with the numper of 99\n",
        "A[2] = 99\n",
        "A"
      ],
      "metadata": {
        "id": "CqglxcfIloFn",
        "outputId": "dfb720e9-8182-4f36-cddf-89fa920216de",
        "colab": {
          "base_uri": "https://localhost:8080/"
        }
      },
      "execution_count": 42,
      "outputs": [
        {
          "output_type": "execute_result",
          "data": {
            "text/plain": [
              "array([[ 1,  2,  3],\n",
              "       [10, 10, 10],\n",
              "       [99, 99, 99]])"
            ]
          },
          "metadata": {},
          "execution_count": 42
        }
      ]
    },
    {
      "cell_type": "markdown",
      "source": [
        "# Summary statistics\n"
      ],
      "metadata": {
        "id": "6dWuHJ8Wl2eQ"
      }
    },
    {
      "cell_type": "code",
      "source": [
        "a = np.array([1, 2, 3, 4])"
      ],
      "metadata": {
        "id": "DHtgJ65JnIQk"
      },
      "execution_count": 43,
      "outputs": []
    },
    {
      "cell_type": "code",
      "source": [
        "# find the sum of all ellements at the array variable a\n",
        "a.sum()"
      ],
      "metadata": {
        "id": "_8qSOTDUnQpC",
        "outputId": "27e5ef7c-3338-4f81-fff3-90677fd3605f",
        "colab": {
          "base_uri": "https://localhost:8080/"
        }
      },
      "execution_count": 44,
      "outputs": [
        {
          "output_type": "execute_result",
          "data": {
            "text/plain": [
              "10"
            ]
          },
          "metadata": {},
          "execution_count": 44
        }
      ]
    },
    {
      "cell_type": "code",
      "source": [
        "# find the mean of the ellements at the array variable a\n",
        "a.mean()"
      ],
      "metadata": {
        "id": "gEzmExT2nyS4",
        "outputId": "100a7189-8c06-46fa-ab15-35b20861c3fc",
        "colab": {
          "base_uri": "https://localhost:8080/"
        }
      },
      "execution_count": 45,
      "outputs": [
        {
          "output_type": "execute_result",
          "data": {
            "text/plain": [
              "2.5"
            ]
          },
          "metadata": {},
          "execution_count": 45
        }
      ]
    },
    {
      "cell_type": "code",
      "source": [
        "# find the standart deviation of the elemants at the array variable a\n",
        "a.std()"
      ],
      "metadata": {
        "id": "LTK1kXb1n9wd",
        "outputId": "b9f3105f-cfa7-4811-b456-34502368a2e0",
        "colab": {
          "base_uri": "https://localhost:8080/"
        }
      },
      "execution_count": 46,
      "outputs": [
        {
          "output_type": "execute_result",
          "data": {
            "text/plain": [
              "1.118033988749895"
            ]
          },
          "metadata": {},
          "execution_count": 46
        }
      ]
    },
    {
      "cell_type": "code",
      "source": [
        "# find the variance at the array variable a\n",
        "a.var()"
      ],
      "metadata": {
        "id": "qKPkBwfoo1yZ",
        "outputId": "38c5f008-d83b-419d-ab6c-2e7f42324a95",
        "colab": {
          "base_uri": "https://localhost:8080/"
        }
      },
      "execution_count": 47,
      "outputs": [
        {
          "output_type": "execute_result",
          "data": {
            "text/plain": [
              "1.25"
            ]
          },
          "metadata": {},
          "execution_count": 47
        }
      ]
    },
    {
      "cell_type": "code",
      "source": [
        "A = np.array([\n",
        "    [1, 2, 3],\n",
        "    [4, 5, 6],\n",
        "    [7, 8, 9]\n",
        "])"
      ],
      "metadata": {
        "id": "jwMu8cgLpStc"
      },
      "execution_count": 48,
      "outputs": []
    },
    {
      "cell_type": "code",
      "source": [
        "A.sum()"
      ],
      "metadata": {
        "id": "adhY-lXbpm44",
        "outputId": "277b69a9-1c53-44ef-f689-58fac643937c",
        "colab": {
          "base_uri": "https://localhost:8080/"
        }
      },
      "execution_count": 49,
      "outputs": [
        {
          "output_type": "execute_result",
          "data": {
            "text/plain": [
              "45"
            ]
          },
          "metadata": {},
          "execution_count": 49
        }
      ]
    },
    {
      "cell_type": "code",
      "source": [
        "A.mean()"
      ],
      "metadata": {
        "id": "-fWPYwOqp6LE",
        "outputId": "56e6908d-e093-4e55-8382-ccc585d85e27",
        "colab": {
          "base_uri": "https://localhost:8080/"
        }
      },
      "execution_count": 50,
      "outputs": [
        {
          "output_type": "execute_result",
          "data": {
            "text/plain": [
              "5.0"
            ]
          },
          "metadata": {},
          "execution_count": 50
        }
      ]
    },
    {
      "cell_type": "code",
      "source": [
        "A.std()"
      ],
      "metadata": {
        "id": "uI_sqAEIp_EF",
        "outputId": "a8ec773c-dd17-4ef4-c31b-6979e273c9bd",
        "colab": {
          "base_uri": "https://localhost:8080/"
        }
      },
      "execution_count": 51,
      "outputs": [
        {
          "output_type": "execute_result",
          "data": {
            "text/plain": [
              "2.581988897471611"
            ]
          },
          "metadata": {},
          "execution_count": 51
        }
      ]
    },
    {
      "cell_type": "code",
      "source": [
        "A.var()"
      ],
      "metadata": {
        "id": "kpzKSeU9qDne",
        "outputId": "c683e0d9-4094-4ab6-cd02-cc59661e624e",
        "colab": {
          "base_uri": "https://localhost:8080/"
        }
      },
      "execution_count": 52,
      "outputs": [
        {
          "output_type": "execute_result",
          "data": {
            "text/plain": [
              "6.666666666666667"
            ]
          },
          "metadata": {},
          "execution_count": 52
        }
      ]
    },
    {
      "cell_type": "code",
      "source": [
        "A.sum(axis = 0) # axis = 0 is the axis of columns (vertical)\n",
        "# in this case it returns an array with the sum of all columns (1 + 4 + 8 = 12)"
      ],
      "metadata": {
        "id": "0tApqmG7qGat",
        "outputId": "b3695ed1-bd78-4a49-c452-df9240eae696",
        "colab": {
          "base_uri": "https://localhost:8080/"
        }
      },
      "execution_count": 53,
      "outputs": [
        {
          "output_type": "execute_result",
          "data": {
            "text/plain": [
              "array([12, 15, 18])"
            ]
          },
          "metadata": {},
          "execution_count": 53
        }
      ]
    },
    {
      "cell_type": "code",
      "source": [
        "A.sum(axis = 1) # axis = 1 is the axis of rows (vertical)\n",
        "# in this case it returns an array with the sum of all rows (1 + 2 + 3 = 6)"
      ],
      "metadata": {
        "id": "8Fq5MB0YqJw9",
        "outputId": "dc36d8cb-d474-47aa-adb2-acabb10e1156",
        "colab": {
          "base_uri": "https://localhost:8080/"
        }
      },
      "execution_count": 54,
      "outputs": [
        {
          "output_type": "execute_result",
          "data": {
            "text/plain": [
              "array([ 6, 15, 24])"
            ]
          },
          "metadata": {},
          "execution_count": 54
        }
      ]
    },
    {
      "cell_type": "code",
      "source": [
        "A.mean(axis = 0)"
      ],
      "metadata": {
        "id": "cTozLxGysZlP",
        "outputId": "43a6c81a-a57a-4e37-da01-01b6042e0a4a",
        "colab": {
          "base_uri": "https://localhost:8080/"
        }
      },
      "execution_count": 55,
      "outputs": [
        {
          "output_type": "execute_result",
          "data": {
            "text/plain": [
              "array([4., 5., 6.])"
            ]
          },
          "metadata": {},
          "execution_count": 55
        }
      ]
    },
    {
      "cell_type": "code",
      "source": [
        "A.mean(axis = 1)"
      ],
      "metadata": {
        "id": "MN36-9LoshVL",
        "outputId": "50d38e34-c4e4-42fb-bac2-bf9a5ad7b3cd",
        "colab": {
          "base_uri": "https://localhost:8080/"
        }
      },
      "execution_count": 56,
      "outputs": [
        {
          "output_type": "execute_result",
          "data": {
            "text/plain": [
              "array([2., 5., 8.])"
            ]
          },
          "metadata": {},
          "execution_count": 56
        }
      ]
    },
    {
      "cell_type": "code",
      "source": [
        "A.std(axis = 0)"
      ],
      "metadata": {
        "id": "YmizmBM4so6C",
        "outputId": "f3071309-fc3c-4963-814a-a25c827ea422",
        "colab": {
          "base_uri": "https://localhost:8080/"
        }
      },
      "execution_count": 57,
      "outputs": [
        {
          "output_type": "execute_result",
          "data": {
            "text/plain": [
              "array([2.44948974, 2.44948974, 2.44948974])"
            ]
          },
          "metadata": {},
          "execution_count": 57
        }
      ]
    },
    {
      "cell_type": "code",
      "source": [
        "A.std(axis = 1)"
      ],
      "metadata": {
        "id": "YkXwmukUs4fE",
        "outputId": "2602c348-0f30-454c-c061-0e6969b8e418",
        "colab": {
          "base_uri": "https://localhost:8080/"
        }
      },
      "execution_count": 58,
      "outputs": [
        {
          "output_type": "execute_result",
          "data": {
            "text/plain": [
              "array([0.81649658, 0.81649658, 0.81649658])"
            ]
          },
          "metadata": {},
          "execution_count": 58
        }
      ]
    },
    {
      "cell_type": "code",
      "source": [
        "A.var(axis = 0)"
      ],
      "metadata": {
        "id": "i2gQz7NTs7np",
        "outputId": "6f9a2f07-1a2e-4c33-ac87-540f7b2f21d1",
        "colab": {
          "base_uri": "https://localhost:8080/"
        }
      },
      "execution_count": 59,
      "outputs": [
        {
          "output_type": "execute_result",
          "data": {
            "text/plain": [
              "array([6., 6., 6.])"
            ]
          },
          "metadata": {},
          "execution_count": 59
        }
      ]
    },
    {
      "cell_type": "code",
      "source": [
        "A.var(axis = 1)"
      ],
      "metadata": {
        "id": "vpCgPDFls_td",
        "outputId": "6b57c32d-425e-4659-931a-ced9e4f770e9",
        "colab": {
          "base_uri": "https://localhost:8080/"
        }
      },
      "execution_count": 60,
      "outputs": [
        {
          "output_type": "execute_result",
          "data": {
            "text/plain": [
              "array([0.66666667, 0.66666667, 0.66666667])"
            ]
          },
          "metadata": {},
          "execution_count": 60
        }
      ]
    },
    {
      "cell_type": "markdown",
      "source": [
        "# Broadcasting and Vectorized operations"
      ],
      "metadata": {
        "id": "XsuGxxuKtCB9"
      }
    },
    {
      "cell_type": "code",
      "source": [
        "a = np.arange(4) # this returns the range of numbers 4 within the array\n",
        "a"
      ],
      "metadata": {
        "id": "mcgywH9oeUY1",
        "outputId": "eba2e470-7d93-47ae-f106-83d758ad48b5",
        "colab": {
          "base_uri": "https://localhost:8080/"
        }
      },
      "execution_count": 72,
      "outputs": [
        {
          "output_type": "execute_result",
          "data": {
            "text/plain": [
              "array([0, 1, 2, 3])"
            ]
          },
          "metadata": {},
          "execution_count": 72
        }
      ]
    },
    {
      "cell_type": "code",
      "source": [
        "a + 10 # we add the number 10 to all elements of array"
      ],
      "metadata": {
        "id": "9U8JvWf5fnUC",
        "outputId": "315e2d1b-a2cc-495a-aa20-39a87eee3481",
        "colab": {
          "base_uri": "https://localhost:8080/"
        }
      },
      "execution_count": 73,
      "outputs": [
        {
          "output_type": "execute_result",
          "data": {
            "text/plain": [
              "array([10, 11, 12, 13])"
            ]
          },
          "metadata": {},
          "execution_count": 73
        }
      ]
    },
    {
      "cell_type": "code",
      "source": [
        "a # the previous result was not kept"
      ],
      "metadata": {
        "colab": {
          "base_uri": "https://localhost:8080/"
        },
        "id": "3QQOWKpliRNy",
        "outputId": "b43db1ef-dffe-43a2-ded6-3a6ada0da1ff"
      },
      "execution_count": 74,
      "outputs": [
        {
          "output_type": "execute_result",
          "data": {
            "text/plain": [
              "array([0, 1, 2, 3])"
            ]
          },
          "metadata": {},
          "execution_count": 74
        }
      ]
    },
    {
      "cell_type": "code",
      "source": [
        "a * 10 # we multiply the number 10 to all elements of array"
      ],
      "metadata": {
        "id": "1JajQyV3hLh1",
        "outputId": "723b07cd-85a2-4957-a776-1bbe06226446",
        "colab": {
          "base_uri": "https://localhost:8080/"
        }
      },
      "execution_count": 75,
      "outputs": [
        {
          "output_type": "execute_result",
          "data": {
            "text/plain": [
              "array([ 0, 10, 20, 30])"
            ]
          },
          "metadata": {},
          "execution_count": 75
        }
      ]
    },
    {
      "cell_type": "code",
      "source": [
        "a += 100\n",
        "a # now, we since the operator of equal, the result was stored in variable"
      ],
      "metadata": {
        "id": "bFJq3EXthYmT",
        "outputId": "90439c5c-9cf1-4f79-c6c4-59f48a43ab7a",
        "colab": {
          "base_uri": "https://localhost:8080/"
        }
      },
      "execution_count": 77,
      "outputs": [
        {
          "output_type": "execute_result",
          "data": {
            "text/plain": [
              "array([200, 201, 202, 203])"
            ]
          },
          "metadata": {},
          "execution_count": 77
        }
      ]
    },
    {
      "cell_type": "code",
      "source": [
        "l = [0, 1, 2, 3]\n",
        "[i * 10 for i in l]"
      ],
      "metadata": {
        "id": "6OFMkBGuhy1H",
        "outputId": "2e0b52ad-52c2-4a10-d085-a678c4cb143c",
        "colab": {
          "base_uri": "https://localhost:8080/"
        }
      },
      "execution_count": 89,
      "outputs": [
        {
          "output_type": "execute_result",
          "data": {
            "text/plain": [
              "[0, 10, 20, 30]"
            ]
          },
          "metadata": {},
          "execution_count": 89
        }
      ]
    },
    {
      "cell_type": "code",
      "source": [
        "a = np.arange(4)\n",
        "a"
      ],
      "metadata": {
        "id": "ZkMfrXzmlkb3",
        "outputId": "c1c94355-3b1f-4a81-85c7-5902d649c0e3",
        "colab": {
          "base_uri": "https://localhost:8080/"
        }
      },
      "execution_count": 102,
      "outputs": [
        {
          "output_type": "execute_result",
          "data": {
            "text/plain": [
              "array([0, 1, 2, 3])"
            ]
          },
          "metadata": {},
          "execution_count": 102
        }
      ]
    },
    {
      "cell_type": "code",
      "source": [
        "b = np.array([10, 10, 10, 10])\n",
        "b"
      ],
      "metadata": {
        "id": "wEb-rC0yomhh",
        "outputId": "b98b4dc4-1fd5-41e8-847a-2f19b610dade",
        "colab": {
          "base_uri": "https://localhost:8080/"
        }
      },
      "execution_count": 103,
      "outputs": [
        {
          "output_type": "execute_result",
          "data": {
            "text/plain": [
              "array([10, 10, 10, 10])"
            ]
          },
          "metadata": {},
          "execution_count": 103
        }
      ]
    },
    {
      "cell_type": "code",
      "source": [
        "a * b"
      ],
      "metadata": {
        "id": "ZoF8tXPqo-HO",
        "outputId": "c796e77b-54f2-4c60-8684-27c61c4399d1",
        "colab": {
          "base_uri": "https://localhost:8080/"
        }
      },
      "execution_count": 104,
      "outputs": [
        {
          "output_type": "execute_result",
          "data": {
            "text/plain": [
              "array([ 0, 10, 20, 30])"
            ]
          },
          "metadata": {},
          "execution_count": 104
        }
      ]
    },
    {
      "cell_type": "markdown",
      "source": [
        "# Boolean arrays"
      ],
      "metadata": {
        "id": "0ESbEyrKo_6B"
      }
    },
    {
      "cell_type": "code",
      "source": [
        "a=np.arange(4)\n",
        "a"
      ],
      "metadata": {
        "id": "3yn9ijJbpRce",
        "outputId": "3633ac91-5887-411a-a4d5-ae6e38ebe138",
        "colab": {
          "base_uri": "https://localhost:8080/"
        }
      },
      "execution_count": 106,
      "outputs": [
        {
          "output_type": "execute_result",
          "data": {
            "text/plain": [
              "array([0, 1, 2, 3])"
            ]
          },
          "metadata": {},
          "execution_count": 106
        }
      ]
    },
    {
      "cell_type": "code",
      "source": [
        "# select the 3 first elements of a\n",
        "a[:-1]"
      ],
      "metadata": {
        "id": "QC5CLwIlpq9p",
        "outputId": "a98fed75-b2fa-4606-a4c6-17f096f09dbc",
        "colab": {
          "base_uri": "https://localhost:8080/"
        }
      },
      "execution_count": 108,
      "outputs": [
        {
          "output_type": "execute_result",
          "data": {
            "text/plain": [
              "array([0, 1, 2])"
            ]
          },
          "metadata": {},
          "execution_count": 108
        }
      ]
    },
    {
      "cell_type": "code",
      "source": [
        "# and this way\n",
        "a[[True,True,True,False]]       # returns the elements where they are at the same point as true"
      ],
      "metadata": {
        "id": "AATjya6Aupcj",
        "outputId": "b51054eb-956e-4d77-c4cc-0649456b6eae",
        "colab": {
          "base_uri": "https://localhost:8080/"
        }
      },
      "execution_count": 110,
      "outputs": [
        {
          "output_type": "execute_result",
          "data": {
            "text/plain": [
              "array([0, 1, 2])"
            ]
          },
          "metadata": {},
          "execution_count": 110
        }
      ]
    },
    {
      "cell_type": "code",
      "source": [
        "a"
      ],
      "metadata": {
        "id": "vEiP4CTmuzRt",
        "outputId": "d76a2abd-50af-49cc-c9e8-5c279e25ab61",
        "colab": {
          "base_uri": "https://localhost:8080/"
        }
      },
      "execution_count": 111,
      "outputs": [
        {
          "output_type": "execute_result",
          "data": {
            "text/plain": [
              "array([0, 1, 2, 3])"
            ]
          },
          "metadata": {},
          "execution_count": 111
        }
      ]
    },
    {
      "cell_type": "code",
      "source": [
        "# return the result where they are smaller than 3\n",
        "a[a<3]"
      ],
      "metadata": {
        "id": "FEyn2b-WwQkh",
        "outputId": "85df547c-48f4-4342-eb4e-9dcca089b28d",
        "colab": {
          "base_uri": "https://localhost:8080/"
        }
      },
      "execution_count": 119,
      "outputs": [
        {
          "output_type": "execute_result",
          "data": {
            "text/plain": [
              "array([0, 1, 2])"
            ]
          },
          "metadata": {},
          "execution_count": 119
        }
      ]
    },
    {
      "cell_type": "code",
      "source": [
        "a < 3"
      ],
      "metadata": {
        "id": "ISPud4pLwqGk",
        "outputId": "e44bffda-5b1e-454e-90c6-dedee627b150",
        "colab": {
          "base_uri": "https://localhost:8080/"
        }
      },
      "execution_count": 120,
      "outputs": [
        {
          "output_type": "execute_result",
          "data": {
            "text/plain": [
              "array([ True,  True,  True, False])"
            ]
          },
          "metadata": {},
          "execution_count": 120
        }
      ]
    },
    {
      "cell_type": "code",
      "source": [
        "a.mean()"
      ],
      "metadata": {
        "id": "k8_PFkcsxbZA",
        "outputId": "38201a65-5678-4c92-ed0d-f6b23826d6fe",
        "colab": {
          "base_uri": "https://localhost:8080/"
        }
      },
      "execution_count": 122,
      "outputs": [
        {
          "output_type": "execute_result",
          "data": {
            "text/plain": [
              "1.5"
            ]
          },
          "metadata": {},
          "execution_count": 122
        }
      ]
    },
    {
      "cell_type": "code",
      "source": [
        "# return the elements were they are bigger than a.mean()\n",
        "a[a>a.mean()]"
      ],
      "metadata": {
        "id": "U-3e9pACw6IH",
        "outputId": "69194e0f-23ce-49ca-a419-96c6cc087def",
        "colab": {
          "base_uri": "https://localhost:8080/"
        }
      },
      "execution_count": 121,
      "outputs": [
        {
          "output_type": "execute_result",
          "data": {
            "text/plain": [
              "array([2, 3])"
            ]
          },
          "metadata": {},
          "execution_count": 121
        }
      ]
    },
    {
      "cell_type": "code",
      "source": [
        "# return the elements were they are not bigger than a.mean()\n",
        "a[~(a>a.mean())]      # the operator ~ = not"
      ],
      "metadata": {
        "id": "tLvnKggexT7S",
        "outputId": "a5491623-6bf8-423e-e0c1-17316a3691d6",
        "colab": {
          "base_uri": "https://localhost:8080/"
        }
      },
      "execution_count": 124,
      "outputs": [
        {
          "output_type": "execute_result",
          "data": {
            "text/plain": [
              "array([0, 1])"
            ]
          },
          "metadata": {},
          "execution_count": 124
        }
      ]
    },
    {
      "cell_type": "code",
      "source": [
        "# we would have the same result and in this case:\n",
        "a[a<a.mean()]"
      ],
      "metadata": {
        "id": "BYLxZPVgx-DS",
        "outputId": "53453b92-1e9d-466f-d72b-9df33f45cc0f",
        "colab": {
          "base_uri": "https://localhost:8080/"
        }
      },
      "execution_count": 126,
      "outputs": [
        {
          "output_type": "execute_result",
          "data": {
            "text/plain": [
              "array([0, 1])"
            ]
          },
          "metadata": {},
          "execution_count": 126
        }
      ]
    },
    {
      "cell_type": "code",
      "source": [
        "# select the elements 0 or 2\n",
        "a[(a == 0) | (a == 2)]      # the operator | = or"
      ],
      "metadata": {
        "id": "_acfFBFczfNz",
        "outputId": "69c56cc7-3dc8-48ab-ea74-d457e2d1eb15",
        "colab": {
          "base_uri": "https://localhost:8080/"
        }
      },
      "execution_count": 128,
      "outputs": [
        {
          "output_type": "execute_result",
          "data": {
            "text/plain": [
              "array([0, 2])"
            ]
          },
          "metadata": {},
          "execution_count": 128
        }
      ]
    },
    {
      "cell_type": "code",
      "source": [
        "a[(a >= 2) & (a % 2 == 0)]    # the operator & = end"
      ],
      "metadata": {
        "id": "naVHQowe0DDi",
        "outputId": "a21ee6ef-60ee-44b8-c4f2-c0abe7e7e294",
        "colab": {
          "base_uri": "https://localhost:8080/"
        }
      },
      "execution_count": 131,
      "outputs": [
        {
          "output_type": "execute_result",
          "data": {
            "text/plain": [
              "array([2])"
            ]
          },
          "metadata": {},
          "execution_count": 131
        }
      ]
    },
    {
      "cell_type": "code",
      "source": [
        "A = np.random.randint(100, size=[3,3])\n",
        "A"
      ],
      "metadata": {
        "id": "F4h1TPPI0xQi",
        "outputId": "e09be19d-a1dc-49c2-b964-6310a04d404e",
        "colab": {
          "base_uri": "https://localhost:8080/"
        }
      },
      "execution_count": 137,
      "outputs": [
        {
          "output_type": "execute_result",
          "data": {
            "text/plain": [
              "array([[ 9, 59, 15],\n",
              "       [18, 36, 30],\n",
              "       [44, 39, 75]])"
            ]
          },
          "metadata": {},
          "execution_count": 137
        }
      ]
    },
    {
      "cell_type": "code",
      "source": [
        "A[np.array([\n",
        "    [True, False, True],\n",
        "    [False, True, False],\n",
        "    [True, False, True]\n",
        "])]"
      ],
      "metadata": {
        "id": "Nf_67D3A1q_e",
        "outputId": "9cd5d47c-7268-4c28-f1eb-08f45ec77a00",
        "colab": {
          "base_uri": "https://localhost:8080/"
        }
      },
      "execution_count": 138,
      "outputs": [
        {
          "output_type": "execute_result",
          "data": {
            "text/plain": [
              "array([ 9, 15, 36, 44, 75])"
            ]
          },
          "metadata": {},
          "execution_count": 138
        }
      ]
    },
    {
      "cell_type": "code",
      "source": [
        "A >= 50"
      ],
      "metadata": {
        "id": "whl7NIp216Z0",
        "outputId": "b4f13b98-0d02-49a4-ff9e-e231653d90d4",
        "colab": {
          "base_uri": "https://localhost:8080/"
        }
      },
      "execution_count": 139,
      "outputs": [
        {
          "output_type": "execute_result",
          "data": {
            "text/plain": [
              "array([[False,  True, False],\n",
              "       [False, False, False],\n",
              "       [False, False,  True]])"
            ]
          },
          "metadata": {},
          "execution_count": 139
        }
      ]
    },
    {
      "cell_type": "code",
      "source": [
        "A[A >= 50]"
      ],
      "metadata": {
        "id": "EL1Zb6Vg2XfC",
        "outputId": "c19becee-5e47-4bbe-a7de-0087320fdb86",
        "colab": {
          "base_uri": "https://localhost:8080/"
        }
      },
      "execution_count": 140,
      "outputs": [
        {
          "output_type": "execute_result",
          "data": {
            "text/plain": [
              "array([59, 75])"
            ]
          },
          "metadata": {},
          "execution_count": 140
        }
      ]
    },
    {
      "cell_type": "code",
      "source": [],
      "metadata": {
        "id": "QrVchpTf2fL_"
      },
      "execution_count": null,
      "outputs": []
    }
  ]
}